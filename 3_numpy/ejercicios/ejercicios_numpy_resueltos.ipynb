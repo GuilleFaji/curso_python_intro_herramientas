{
 "cells": [
  {
   "attachments": {},
   "cell_type": "markdown",
   "metadata": {},
   "source": [
    "# Ejercicios de Numpy y Pandas básico:"
   ]
  },
  {
   "cell_type": "code",
   "execution_count": 1,
   "metadata": {},
   "outputs": [],
   "source": [
    "import numpy as np\n",
    "import pandas as pd"
   ]
  },
  {
   "attachments": {},
   "cell_type": "markdown",
   "metadata": {},
   "source": [
    "## 1 - Crea los siguientes Arrays:"
   ]
  },
  {
   "attachments": {},
   "cell_type": "markdown",
   "metadata": {},
   "source": [
    "### A - Un vector de 15 números aleatorios. Estos números deben estar comprendidos entre 42 y 1337."
   ]
  },
  {
   "cell_type": "code",
   "execution_count": 2,
   "metadata": {},
   "outputs": [
    {
     "data": {
      "text/plain": [
       "array([ 989,  149, 1264, 1204,  110,  414,  623,  925,  298, 1334,  613,\n",
       "        149, 1244,  742,  272])"
      ]
     },
     "execution_count": 2,
     "metadata": {},
     "output_type": "execute_result"
    }
   ],
   "source": [
    "ej1a = np.random.randint(42, 1338, 15)\n",
    "ej1a"
   ]
  },
  {
   "cell_type": "code",
   "execution_count": 3,
   "metadata": {},
   "outputs": [
    {
     "data": {
      "text/plain": [
       "array([ 613.04746663,  282.52147654,  994.8252585 , 1220.31073183,\n",
       "        929.80313632, 1282.95301578,  590.85776428,  916.7881383 ,\n",
       "        607.09534445,  989.5116991 ,  362.19538429,  714.19124061,\n",
       "        673.14839684,  209.18928066, 1208.47785733])"
      ]
     },
     "execution_count": 3,
     "metadata": {},
     "output_type": "execute_result"
    }
   ],
   "source": [
    "# Alternativa:\n",
    "ej1a = np.random.rand(15)*(1338-42)+42\n",
    "ej1a"
   ]
  },
  {
   "attachments": {},
   "cell_type": "markdown",
   "metadata": {},
   "source": [
    "### B - Un vector de números enteros ordenados entre el 3 y el 33."
   ]
  },
  {
   "cell_type": "code",
   "execution_count": 4,
   "metadata": {},
   "outputs": [
    {
     "data": {
      "text/plain": [
       "array([ 3,  4,  5,  6,  7,  8,  9, 10, 11, 12, 13, 14, 15, 16, 17, 18, 19,\n",
       "       20, 21, 22, 23, 24, 25, 26, 27, 28, 29, 30, 31, 32, 33])"
      ]
     },
     "execution_count": 4,
     "metadata": {},
     "output_type": "execute_result"
    }
   ],
   "source": [
    "ej1b = np.arange(3,34)\n",
    "ej1b"
   ]
  },
  {
   "attachments": {},
   "cell_type": "markdown",
   "metadata": {},
   "source": [
    "### C - Un vector de 10 números que representen una progresión geométrica (escala logarítmica) entre 10 y 100 (recordad que Google es vuestro amigo)."
   ]
  },
  {
   "cell_type": "code",
   "execution_count": 5,
   "metadata": {},
   "outputs": [
    {
     "data": {
      "text/plain": [
       "array([ 10.        ,  12.91549665,  16.68100537,  21.5443469 ,\n",
       "        27.82559402,  35.93813664,  46.41588834,  59.94842503,\n",
       "        77.42636827, 100.        ])"
      ]
     },
     "execution_count": 5,
     "metadata": {},
     "output_type": "execute_result"
    }
   ],
   "source": [
    "ej1c = np.geomspace(10, 100, 10)\n",
    "ej1c"
   ]
  },
  {
   "attachments": {},
   "cell_type": "markdown",
   "metadata": {},
   "source": [
    "### D - Crea una matriz de dimensiones 3 filas, 4 columnas y 5 de profundidad donde todos los elementos sean aleatorios."
   ]
  },
  {
   "cell_type": "code",
   "execution_count": 6,
   "metadata": {},
   "outputs": [
    {
     "data": {
      "text/plain": [
       "array([[[ 1.04564534,  0.42455634,  0.1480201 ,  0.05587572],\n",
       "        [ 0.62406836, -0.39517078,  0.37398914, -0.37735355],\n",
       "        [ 0.5411916 ,  2.28916742, -0.61022887,  0.28812783]],\n",
       "\n",
       "       [[ 0.69731226, -2.07414957, -1.09407313,  0.35635663],\n",
       "        [-0.76991316, -0.55566485, -0.20934215, -0.16708503],\n",
       "        [ 0.3364859 , -0.1435826 ,  1.80103811,  0.09693373]],\n",
       "\n",
       "       [[-0.51320611,  0.77689141,  2.54751053,  0.19416852],\n",
       "        [ 1.51184773,  0.57519582,  0.2700805 , -1.19424657],\n",
       "        [ 0.47689574,  0.00707854,  0.0225578 , -1.45974865]],\n",
       "\n",
       "       [[ 0.91438586,  0.01375954, -1.04511229,  1.04889798],\n",
       "        [ 0.65029033, -0.52127146, -1.45467194, -0.89097388],\n",
       "        [-0.64800264,  0.6075667 , -0.40842863,  0.90089209]],\n",
       "\n",
       "       [[-1.38211933, -0.07850065, -0.02034065, -0.3785164 ],\n",
       "        [ 0.08561739, -1.0750763 , -0.70043345, -0.5172402 ],\n",
       "        [ 0.36864423,  2.33331486, -1.09586307, -1.50150365]]])"
      ]
     },
     "execution_count": 6,
     "metadata": {},
     "output_type": "execute_result"
    }
   ],
   "source": [
    "ej1d = np.random.randn(5, 3, 4)\n",
    "ej1d"
   ]
  },
  {
   "attachments": {},
   "cell_type": "markdown",
   "metadata": {},
   "source": [
    "### E - Genera un vector de 10 numeros aleatorios entre el 0 y el 1. Haz que los valores de dicho vector se vuelvan 0 si el número es menor de 0.5 y de 1 si el número es mayor o igual a 0.5."
   ]
  },
  {
   "cell_type": "code",
   "execution_count": 7,
   "metadata": {},
   "outputs": [
    {
     "name": "stdout",
     "output_type": "stream",
     "text": [
      "[0.52275249 0.33539508 0.73911801 0.51758473 0.76641392 0.41263429\n",
      " 0.49903382 0.35913969 0.07099052 0.72837419]\n"
     ]
    },
    {
     "data": {
      "text/plain": [
       "array([1, 0, 1, 1, 1, 0, 0, 0, 0, 1])"
      ]
     },
     "execution_count": 7,
     "metadata": {},
     "output_type": "execute_result"
    }
   ],
   "source": [
    "ej1e = np.random.rand(10)\n",
    "print(ej1e)\n",
    "(ej1e>0.5)*1"
   ]
  },
  {
   "attachments": {},
   "cell_type": "markdown",
   "metadata": {},
   "source": [
    "### F - Genera una matriz de números aleatorios de dos filas y tres columnas y multiplicala matricialmente por si misma:"
   ]
  },
  {
   "cell_type": "code",
   "execution_count": 8,
   "metadata": {},
   "outputs": [
    {
     "data": {
      "text/plain": [
       "array([[17, 51, 22],\n",
       "       [47, 76, 10]])"
      ]
     },
     "execution_count": 8,
     "metadata": {},
     "output_type": "execute_result"
    }
   ],
   "source": [
    "ej1f = np.random.randint(0, 100, (2, 3))\n",
    "ej1f"
   ]
  },
  {
   "cell_type": "code",
   "execution_count": 9,
   "metadata": {},
   "outputs": [
    {
     "data": {
      "text/plain": [
       "array([[3374, 4895],\n",
       "       [4895, 8085]])"
      ]
     },
     "execution_count": 9,
     "metadata": {},
     "output_type": "execute_result"
    }
   ],
   "source": [
    "ej1f @ ej1f.T"
   ]
  },
  {
   "cell_type": "code",
   "execution_count": 10,
   "metadata": {},
   "outputs": [
    {
     "data": {
      "text/plain": [
       "array([[3374, 4895],\n",
       "       [4895, 8085]])"
      ]
     },
     "execution_count": 10,
     "metadata": {},
     "output_type": "execute_result"
    }
   ],
   "source": [
    "np.matmul(ej1f, ej1f.T)"
   ]
  },
  {
   "cell_type": "code",
   "execution_count": 11,
   "metadata": {},
   "outputs": [
    {
     "data": {
      "text/plain": [
       "array([[ 289, 2601,  484],\n",
       "       [2209, 5776,  100]])"
      ]
     },
     "execution_count": 11,
     "metadata": {},
     "output_type": "execute_result"
    }
   ],
   "source": [
    "ej1f*ej1f"
   ]
  },
  {
   "attachments": {},
   "cell_type": "markdown",
   "metadata": {},
   "source": [
    "## Ejercicio 2: Realiza las siguientes operaciones"
   ]
  },
  {
   "attachments": {},
   "cell_type": "markdown",
   "metadata": {},
   "source": [
    "### A - Toma cualquier vector y transformalo en una serie de pandas."
   ]
  },
  {
   "cell_type": "code",
   "execution_count": 12,
   "metadata": {},
   "outputs": [
    {
     "data": {
      "text/plain": [
       "0      613.047467\n",
       "1      282.521477\n",
       "2      994.825258\n",
       "3     1220.310732\n",
       "4      929.803136\n",
       "5     1282.953016\n",
       "6      590.857764\n",
       "7      916.788138\n",
       "8      607.095344\n",
       "9      989.511699\n",
       "10     362.195384\n",
       "11     714.191241\n",
       "12     673.148397\n",
       "13     209.189281\n",
       "14    1208.477857\n",
       "dtype: float64"
      ]
     },
     "execution_count": 12,
     "metadata": {},
     "output_type": "execute_result"
    }
   ],
   "source": [
    "ej2a = pd.Series(ej1a)\n",
    "ej2a"
   ]
  },
  {
   "attachments": {},
   "cell_type": "markdown",
   "metadata": {},
   "source": [
    "### B - Toma cualquier array de más de una dimensión de los ejercicios anteriores y transfórmalo en un DataFrame."
   ]
  },
  {
   "cell_type": "code",
   "execution_count": 13,
   "metadata": {},
   "outputs": [
    {
     "data": {
      "text/html": [
       "<div>\n",
       "<style scoped>\n",
       "    .dataframe tbody tr th:only-of-type {\n",
       "        vertical-align: middle;\n",
       "    }\n",
       "\n",
       "    .dataframe tbody tr th {\n",
       "        vertical-align: top;\n",
       "    }\n",
       "\n",
       "    .dataframe thead th {\n",
       "        text-align: right;\n",
       "    }\n",
       "</style>\n",
       "<table border=\"1\" class=\"dataframe\">\n",
       "  <thead>\n",
       "    <tr style=\"text-align: right;\">\n",
       "      <th></th>\n",
       "      <th>0</th>\n",
       "      <th>1</th>\n",
       "      <th>2</th>\n",
       "      <th>3</th>\n",
       "    </tr>\n",
       "  </thead>\n",
       "  <tbody>\n",
       "    <tr>\n",
       "      <th>0</th>\n",
       "      <td>0.697312</td>\n",
       "      <td>-2.074150</td>\n",
       "      <td>-1.094073</td>\n",
       "      <td>0.356357</td>\n",
       "    </tr>\n",
       "    <tr>\n",
       "      <th>1</th>\n",
       "      <td>-0.769913</td>\n",
       "      <td>-0.555665</td>\n",
       "      <td>-0.209342</td>\n",
       "      <td>-0.167085</td>\n",
       "    </tr>\n",
       "    <tr>\n",
       "      <th>2</th>\n",
       "      <td>0.336486</td>\n",
       "      <td>-0.143583</td>\n",
       "      <td>1.801038</td>\n",
       "      <td>0.096934</td>\n",
       "    </tr>\n",
       "  </tbody>\n",
       "</table>\n",
       "</div>"
      ],
      "text/plain": [
       "          0         1         2         3\n",
       "0  0.697312 -2.074150 -1.094073  0.356357\n",
       "1 -0.769913 -0.555665 -0.209342 -0.167085\n",
       "2  0.336486 -0.143583  1.801038  0.096934"
      ]
     },
     "execution_count": 13,
     "metadata": {},
     "output_type": "execute_result"
    }
   ],
   "source": [
    "#ej2b = pd.DataFrame(ej1d)\n",
    "\n",
    "ej2b = pd.DataFrame(ej1d[1])\n",
    "ej2b"
   ]
  },
  {
   "attachments": {},
   "cell_type": "markdown",
   "metadata": {},
   "source": [
    "### C - Genera un DataFrame de números aleatorios entre 0 y 100 de 10 filas y 5 columnas."
   ]
  },
  {
   "cell_type": "code",
   "execution_count": 14,
   "metadata": {},
   "outputs": [
    {
     "data": {
      "text/html": [
       "<div>\n",
       "<style scoped>\n",
       "    .dataframe tbody tr th:only-of-type {\n",
       "        vertical-align: middle;\n",
       "    }\n",
       "\n",
       "    .dataframe tbody tr th {\n",
       "        vertical-align: top;\n",
       "    }\n",
       "\n",
       "    .dataframe thead th {\n",
       "        text-align: right;\n",
       "    }\n",
       "</style>\n",
       "<table border=\"1\" class=\"dataframe\">\n",
       "  <thead>\n",
       "    <tr style=\"text-align: right;\">\n",
       "      <th></th>\n",
       "      <th>0</th>\n",
       "      <th>1</th>\n",
       "      <th>2</th>\n",
       "      <th>3</th>\n",
       "      <th>4</th>\n",
       "    </tr>\n",
       "  </thead>\n",
       "  <tbody>\n",
       "    <tr>\n",
       "      <th>0</th>\n",
       "      <td>13</td>\n",
       "      <td>65</td>\n",
       "      <td>60</td>\n",
       "      <td>94</td>\n",
       "      <td>0</td>\n",
       "    </tr>\n",
       "    <tr>\n",
       "      <th>1</th>\n",
       "      <td>3</td>\n",
       "      <td>21</td>\n",
       "      <td>55</td>\n",
       "      <td>43</td>\n",
       "      <td>73</td>\n",
       "    </tr>\n",
       "    <tr>\n",
       "      <th>2</th>\n",
       "      <td>3</td>\n",
       "      <td>70</td>\n",
       "      <td>9</td>\n",
       "      <td>77</td>\n",
       "      <td>55</td>\n",
       "    </tr>\n",
       "    <tr>\n",
       "      <th>3</th>\n",
       "      <td>68</td>\n",
       "      <td>38</td>\n",
       "      <td>38</td>\n",
       "      <td>61</td>\n",
       "      <td>55</td>\n",
       "    </tr>\n",
       "    <tr>\n",
       "      <th>4</th>\n",
       "      <td>53</td>\n",
       "      <td>45</td>\n",
       "      <td>18</td>\n",
       "      <td>39</td>\n",
       "      <td>84</td>\n",
       "    </tr>\n",
       "    <tr>\n",
       "      <th>5</th>\n",
       "      <td>32</td>\n",
       "      <td>19</td>\n",
       "      <td>14</td>\n",
       "      <td>11</td>\n",
       "      <td>8</td>\n",
       "    </tr>\n",
       "    <tr>\n",
       "      <th>6</th>\n",
       "      <td>52</td>\n",
       "      <td>48</td>\n",
       "      <td>15</td>\n",
       "      <td>51</td>\n",
       "      <td>21</td>\n",
       "    </tr>\n",
       "    <tr>\n",
       "      <th>7</th>\n",
       "      <td>90</td>\n",
       "      <td>92</td>\n",
       "      <td>23</td>\n",
       "      <td>82</td>\n",
       "      <td>59</td>\n",
       "    </tr>\n",
       "    <tr>\n",
       "      <th>8</th>\n",
       "      <td>5</td>\n",
       "      <td>43</td>\n",
       "      <td>13</td>\n",
       "      <td>9</td>\n",
       "      <td>68</td>\n",
       "    </tr>\n",
       "    <tr>\n",
       "      <th>9</th>\n",
       "      <td>24</td>\n",
       "      <td>24</td>\n",
       "      <td>40</td>\n",
       "      <td>66</td>\n",
       "      <td>61</td>\n",
       "    </tr>\n",
       "  </tbody>\n",
       "</table>\n",
       "</div>"
      ],
      "text/plain": [
       "    0   1   2   3   4\n",
       "0  13  65  60  94   0\n",
       "1   3  21  55  43  73\n",
       "2   3  70   9  77  55\n",
       "3  68  38  38  61  55\n",
       "4  53  45  18  39  84\n",
       "5  32  19  14  11   8\n",
       "6  52  48  15  51  21\n",
       "7  90  92  23  82  59\n",
       "8   5  43  13   9  68\n",
       "9  24  24  40  66  61"
      ]
     },
     "execution_count": 14,
     "metadata": {},
     "output_type": "execute_result"
    }
   ],
   "source": [
    "ej2c = pd.DataFrame(np.random.randint(0, 100, (10, 5)))\n",
    "ej2c"
   ]
  },
  {
   "attachments": {},
   "cell_type": "markdown",
   "metadata": {},
   "source": [
    "### D - Cambia los nombres de las columnas del anterior Dataframe"
   ]
  },
  {
   "cell_type": "code",
   "execution_count": 15,
   "metadata": {},
   "outputs": [
    {
     "data": {
      "text/html": [
       "<div>\n",
       "<style scoped>\n",
       "    .dataframe tbody tr th:only-of-type {\n",
       "        vertical-align: middle;\n",
       "    }\n",
       "\n",
       "    .dataframe tbody tr th {\n",
       "        vertical-align: top;\n",
       "    }\n",
       "\n",
       "    .dataframe thead th {\n",
       "        text-align: right;\n",
       "    }\n",
       "</style>\n",
       "<table border=\"1\" class=\"dataframe\">\n",
       "  <thead>\n",
       "    <tr style=\"text-align: right;\">\n",
       "      <th></th>\n",
       "      <th>A</th>\n",
       "      <th>B</th>\n",
       "      <th>C</th>\n",
       "      <th>D</th>\n",
       "      <th>E</th>\n",
       "    </tr>\n",
       "  </thead>\n",
       "  <tbody>\n",
       "    <tr>\n",
       "      <th>0</th>\n",
       "      <td>13</td>\n",
       "      <td>65</td>\n",
       "      <td>60</td>\n",
       "      <td>94</td>\n",
       "      <td>0</td>\n",
       "    </tr>\n",
       "    <tr>\n",
       "      <th>1</th>\n",
       "      <td>3</td>\n",
       "      <td>21</td>\n",
       "      <td>55</td>\n",
       "      <td>43</td>\n",
       "      <td>73</td>\n",
       "    </tr>\n",
       "    <tr>\n",
       "      <th>2</th>\n",
       "      <td>3</td>\n",
       "      <td>70</td>\n",
       "      <td>9</td>\n",
       "      <td>77</td>\n",
       "      <td>55</td>\n",
       "    </tr>\n",
       "    <tr>\n",
       "      <th>3</th>\n",
       "      <td>68</td>\n",
       "      <td>38</td>\n",
       "      <td>38</td>\n",
       "      <td>61</td>\n",
       "      <td>55</td>\n",
       "    </tr>\n",
       "    <tr>\n",
       "      <th>4</th>\n",
       "      <td>53</td>\n",
       "      <td>45</td>\n",
       "      <td>18</td>\n",
       "      <td>39</td>\n",
       "      <td>84</td>\n",
       "    </tr>\n",
       "    <tr>\n",
       "      <th>5</th>\n",
       "      <td>32</td>\n",
       "      <td>19</td>\n",
       "      <td>14</td>\n",
       "      <td>11</td>\n",
       "      <td>8</td>\n",
       "    </tr>\n",
       "    <tr>\n",
       "      <th>6</th>\n",
       "      <td>52</td>\n",
       "      <td>48</td>\n",
       "      <td>15</td>\n",
       "      <td>51</td>\n",
       "      <td>21</td>\n",
       "    </tr>\n",
       "    <tr>\n",
       "      <th>7</th>\n",
       "      <td>90</td>\n",
       "      <td>92</td>\n",
       "      <td>23</td>\n",
       "      <td>82</td>\n",
       "      <td>59</td>\n",
       "    </tr>\n",
       "    <tr>\n",
       "      <th>8</th>\n",
       "      <td>5</td>\n",
       "      <td>43</td>\n",
       "      <td>13</td>\n",
       "      <td>9</td>\n",
       "      <td>68</td>\n",
       "    </tr>\n",
       "    <tr>\n",
       "      <th>9</th>\n",
       "      <td>24</td>\n",
       "      <td>24</td>\n",
       "      <td>40</td>\n",
       "      <td>66</td>\n",
       "      <td>61</td>\n",
       "    </tr>\n",
       "  </tbody>\n",
       "</table>\n",
       "</div>"
      ],
      "text/plain": [
       "    A   B   C   D   E\n",
       "0  13  65  60  94   0\n",
       "1   3  21  55  43  73\n",
       "2   3  70   9  77  55\n",
       "3  68  38  38  61  55\n",
       "4  53  45  18  39  84\n",
       "5  32  19  14  11   8\n",
       "6  52  48  15  51  21\n",
       "7  90  92  23  82  59\n",
       "8   5  43  13   9  68\n",
       "9  24  24  40  66  61"
      ]
     },
     "execution_count": 15,
     "metadata": {},
     "output_type": "execute_result"
    }
   ],
   "source": [
    "ej2d = ej2c.copy()\n",
    "ej2d.columns = ['A', 'B', 'C', 'D', 'E']\n",
    "ej2d"
   ]
  },
  {
   "attachments": {},
   "cell_type": "markdown",
   "metadata": {},
   "source": [
    "### E - Cambia el índice del anterior dataframe para que sean años consecutivos después del 1990:"
   ]
  },
  {
   "cell_type": "code",
   "execution_count": 16,
   "metadata": {},
   "outputs": [
    {
     "data": {
      "text/html": [
       "<div>\n",
       "<style scoped>\n",
       "    .dataframe tbody tr th:only-of-type {\n",
       "        vertical-align: middle;\n",
       "    }\n",
       "\n",
       "    .dataframe tbody tr th {\n",
       "        vertical-align: top;\n",
       "    }\n",
       "\n",
       "    .dataframe thead th {\n",
       "        text-align: right;\n",
       "    }\n",
       "</style>\n",
       "<table border=\"1\" class=\"dataframe\">\n",
       "  <thead>\n",
       "    <tr style=\"text-align: right;\">\n",
       "      <th></th>\n",
       "      <th>A</th>\n",
       "      <th>B</th>\n",
       "      <th>C</th>\n",
       "      <th>D</th>\n",
       "      <th>E</th>\n",
       "    </tr>\n",
       "  </thead>\n",
       "  <tbody>\n",
       "    <tr>\n",
       "      <th>1990</th>\n",
       "      <td>13</td>\n",
       "      <td>65</td>\n",
       "      <td>60</td>\n",
       "      <td>94</td>\n",
       "      <td>0</td>\n",
       "    </tr>\n",
       "    <tr>\n",
       "      <th>1991</th>\n",
       "      <td>3</td>\n",
       "      <td>21</td>\n",
       "      <td>55</td>\n",
       "      <td>43</td>\n",
       "      <td>73</td>\n",
       "    </tr>\n",
       "    <tr>\n",
       "      <th>1992</th>\n",
       "      <td>3</td>\n",
       "      <td>70</td>\n",
       "      <td>9</td>\n",
       "      <td>77</td>\n",
       "      <td>55</td>\n",
       "    </tr>\n",
       "    <tr>\n",
       "      <th>1993</th>\n",
       "      <td>68</td>\n",
       "      <td>38</td>\n",
       "      <td>38</td>\n",
       "      <td>61</td>\n",
       "      <td>55</td>\n",
       "    </tr>\n",
       "    <tr>\n",
       "      <th>1994</th>\n",
       "      <td>53</td>\n",
       "      <td>45</td>\n",
       "      <td>18</td>\n",
       "      <td>39</td>\n",
       "      <td>84</td>\n",
       "    </tr>\n",
       "    <tr>\n",
       "      <th>1995</th>\n",
       "      <td>32</td>\n",
       "      <td>19</td>\n",
       "      <td>14</td>\n",
       "      <td>11</td>\n",
       "      <td>8</td>\n",
       "    </tr>\n",
       "    <tr>\n",
       "      <th>1996</th>\n",
       "      <td>52</td>\n",
       "      <td>48</td>\n",
       "      <td>15</td>\n",
       "      <td>51</td>\n",
       "      <td>21</td>\n",
       "    </tr>\n",
       "    <tr>\n",
       "      <th>1997</th>\n",
       "      <td>90</td>\n",
       "      <td>92</td>\n",
       "      <td>23</td>\n",
       "      <td>82</td>\n",
       "      <td>59</td>\n",
       "    </tr>\n",
       "    <tr>\n",
       "      <th>1998</th>\n",
       "      <td>5</td>\n",
       "      <td>43</td>\n",
       "      <td>13</td>\n",
       "      <td>9</td>\n",
       "      <td>68</td>\n",
       "    </tr>\n",
       "    <tr>\n",
       "      <th>1999</th>\n",
       "      <td>24</td>\n",
       "      <td>24</td>\n",
       "      <td>40</td>\n",
       "      <td>66</td>\n",
       "      <td>61</td>\n",
       "    </tr>\n",
       "  </tbody>\n",
       "</table>\n",
       "</div>"
      ],
      "text/plain": [
       "       A   B   C   D   E\n",
       "1990  13  65  60  94   0\n",
       "1991   3  21  55  43  73\n",
       "1992   3  70   9  77  55\n",
       "1993  68  38  38  61  55\n",
       "1994  53  45  18  39  84\n",
       "1995  32  19  14  11   8\n",
       "1996  52  48  15  51  21\n",
       "1997  90  92  23  82  59\n",
       "1998   5  43  13   9  68\n",
       "1999  24  24  40  66  61"
      ]
     },
     "execution_count": 16,
     "metadata": {},
     "output_type": "execute_result"
    }
   ],
   "source": [
    "ej2e = ej2d.copy()\n",
    "ej2e.index = np.arange(len(ej2e))+1990\n",
    "ej2e"
   ]
  },
  {
   "attachments": {},
   "cell_type": "markdown",
   "metadata": {},
   "source": [
    "## Ejercicio 3: Toma la matriz del ejercicio 1-D anterior y devuelve las sumas de sus elementos:\n",
    "-\tPor filas\n",
    "-\tPor columnas\n",
    "-\tPor profundidad"
   ]
  },
  {
   "cell_type": "code",
   "execution_count": 17,
   "metadata": {},
   "outputs": [
    {
     "data": {
      "text/plain": [
       "array([[ 1.6740975 ,  0.22553316,  2.50825798],\n",
       "       [-2.11455381, -1.70200518,  2.09087514],\n",
       "       [ 3.00536435,  1.16287748, -0.95321657],\n",
       "       [ 0.93193108, -2.21662695,  0.45202751],\n",
       "       [-1.85947703, -2.20713256,  0.10459238]])"
      ]
     },
     "execution_count": 17,
     "metadata": {},
     "output_type": "execute_result"
    }
   ],
   "source": [
    "ej_2_filas = ej1d.sum(axis=2)\n",
    "ej_2_filas"
   ]
  },
  {
   "cell_type": "code",
   "execution_count": 18,
   "metadata": {},
   "outputs": [
    {
     "data": {
      "text/plain": [
       "array([[ 2.2109053 ,  2.31855298, -0.08821963, -0.03335   ],\n",
       "       [ 0.263885  , -2.77339701,  0.49762283,  0.28620534],\n",
       "       [ 1.47553736,  1.35916577,  2.84014884, -2.4598267 ],\n",
       "       [ 0.91667355,  0.10005477, -2.90821286,  1.05881619],\n",
       "       [-0.9278577 ,  1.17973791, -1.81663717, -2.39726025]])"
      ]
     },
     "execution_count": 18,
     "metadata": {},
     "output_type": "execute_result"
    }
   ],
   "source": [
    "ej_2_columnas = ej1d.sum(axis=1)\n",
    "ej_2_columnas"
   ]
  },
  {
   "cell_type": "code",
   "execution_count": 19,
   "metadata": {},
   "outputs": [
    {
     "data": {
      "text/plain": [
       "array([[ 0.76201802, -0.93744293,  0.53600455,  1.27678245],\n",
       "       [ 2.10191065, -1.97198758, -1.72037789, -3.14689923],\n",
       "       [ 1.07521484,  5.09354493, -0.29092466, -1.67529866]])"
      ]
     },
     "execution_count": 19,
     "metadata": {},
     "output_type": "execute_result"
    }
   ],
   "source": [
    "ej_2_profundidad = ej1d.sum(axis=0)\n",
    "ej_2_profundidad"
   ]
  },
  {
   "attachments": {},
   "cell_type": "markdown",
   "metadata": {},
   "source": [
    "## Ejercicio 4:  Crea un array de 365 de longitud que cumpla lo siguiente:\n",
    "-\tLongitud 365.\n",
    "-\tPrimer elemento = 1\n",
    "-\tCada elemento posterior es el resultado de incrementar el elemento anterior en un porcentaje aleatorio entre el +10% y el -10%.\n",
    "\n",
    "Por ejemplo, si el número anterior fuese un 2, el elemento posterior sería cualquier número en el rango 1,8-2,2 (+-10%)"
   ]
  },
  {
   "cell_type": "code",
   "execution_count": 20,
   "metadata": {},
   "outputs": [
    {
     "name": "stdout",
     "output_type": "stream",
     "text": [
      "[1.         0.92965906 0.97822295 0.89310433 0.92488059 0.88372133\n",
      " 0.90640774 0.9692908  0.87910522 0.91667392]\n"
     ]
    },
    {
     "data": {
      "text/plain": [
       "(365,)"
      ]
     },
     "execution_count": 20,
     "metadata": {},
     "output_type": "execute_result"
    }
   ],
   "source": [
    "lista_objetivo = [1]\n",
    "\n",
    "for i in range(1,365):\n",
    "  aleat = np.random.uniform(-0.1,0.1)\n",
    "  lista_objetivo.append(lista_objetivo[-1]*(1+aleat))\n",
    "\n",
    "ej_4 = np.array(lista_objetivo)\n",
    "print(ej_4[:10])\n",
    "ej_4.shape"
   ]
  },
  {
   "attachments": {},
   "cell_type": "markdown",
   "metadata": {},
   "source": [
    "## Ejercicio 5: Ahora crea un array de la misma longitud que consista en ir repitiendo los números del 0 al 6 hasta que rellene la longitud (puede que no cuadre perfectamente, no tiene por qué terminar en 6)."
   ]
  },
  {
   "cell_type": "code",
   "execution_count": 21,
   "metadata": {},
   "outputs": [
    {
     "name": "stdout",
     "output_type": "stream",
     "text": [
      " Array base: [0 1 2 3 4 5 6]\n",
      " Array repetido: [0 1 2 3 4 5 6 0 1 2 3 4 5 6 0 1 2 3 4 5 6 0 1 2 3 4 5 6 0 1 2 3 4 5 6 0 1\n",
      " 2 3 4 5 6 0 1 2 3 4 5 6 0 1 2 3 4 5 6 0 1 2 3 4 5 6 0 1 2 3 4 5 6 0 1 2 3\n",
      " 4 5 6 0 1 2 3 4 5 6 0 1 2 3 4 5 6 0 1 2 3 4 5 6 0 1 2 3 4 5 6 0 1 2 3 4 5\n",
      " 6 0 1 2 3 4 5 6 0 1 2 3 4 5 6 0 1 2 3 4 5 6 0 1 2 3 4 5 6 0 1 2 3 4 5 6 0\n",
      " 1 2 3 4 5 6 0 1 2 3 4 5 6 0 1 2 3 4 5 6 0 1 2 3 4 5 6 0 1 2 3 4 5 6 0 1 2\n",
      " 3 4 5 6 0 1 2 3 4 5 6 0 1 2 3 4 5 6 0 1 2 3 4 5 6 0 1 2 3 4 5 6 0 1 2 3 4\n",
      " 5 6 0 1 2 3 4 5 6 0 1 2 3 4 5 6 0 1 2 3 4 5 6 0 1 2 3 4 5 6 0 1 2 3 4 5 6\n",
      " 0 1 2 3 4 5 6 0 1 2 3 4 5 6 0 1 2 3 4 5 6 0 1 2 3 4 5 6 0 1 2 3 4 5 6 0 1\n",
      " 2 3 4 5 6 0 1 2 3 4 5 6 0 1 2 3 4 5 6 0 1 2 3 4 5 6 0 1 2 3 4 5 6 0 1 2 3\n",
      " 4 5 6 0 1 2 3 4 5 6 0 1 2 3 4 5 6 0 1 2 3 4 5 6 0 1 2 3 4 5 6 0]\n"
     ]
    }
   ],
   "source": [
    "mini_array = np.arange(0,7)\n",
    "print(f' Array base: {mini_array}')\n",
    "\n",
    "# Si lo multiplicamos, multiplicamos sus elementos, no queremos esto sino repetirlo.\n",
    "# Podemos repetir las listas, por lo que transformandolo a lista y multiplicandolo por el numero de veces que queremos repetirlo, lo conseguimos.\n",
    "array = list(mini_array)*int(365/7+1)\n",
    "# Puede que nos hayamos pasado, por lo que cortamos el array a 365 elementos.\n",
    "array = np.array(array[:365])\n",
    "print(f' Array repetido: {array}')"
   ]
  },
  {
   "cell_type": "code",
   "execution_count": 30,
   "metadata": {},
   "outputs": [
    {
     "data": {
      "text/plain": [
       "array([0, 1, 2, 3, 4, 5, 6, 0, 1, 2, 3, 4, 5, 6, 0, 1, 2, 3, 4, 5, 6, 0,\n",
       "       1, 2, 3, 4, 5, 6, 0, 1, 2, 3, 4, 5, 6, 0, 1, 2, 3, 4, 5, 6, 0, 1,\n",
       "       2, 3, 4, 5, 6, 0, 1, 2, 3, 4, 5, 6, 0, 1, 2, 3, 4, 5, 6, 0, 1, 2,\n",
       "       3, 4, 5, 6, 0, 1, 2, 3, 4, 5, 6, 0, 1, 2, 3, 4, 5, 6, 0, 1, 2, 3,\n",
       "       4, 5, 6, 0, 1, 2, 3, 4, 5, 6, 0, 1, 2, 3, 4, 5, 6, 0, 1, 2, 3, 4,\n",
       "       5, 6, 0, 1, 2, 3, 4, 5, 6, 0, 1, 2, 3, 4, 5, 6, 0, 1, 2, 3, 4, 5,\n",
       "       6, 0, 1, 2, 3, 4, 5, 6, 0, 1, 2, 3, 4, 5, 6, 0, 1, 2, 3, 4, 5, 6,\n",
       "       0, 1, 2, 3, 4, 5, 6, 0, 1, 2, 3, 4, 5, 6, 0, 1, 2, 3, 4, 5, 6, 0,\n",
       "       1, 2, 3, 4, 5, 6, 0, 1, 2, 3, 4, 5, 6, 0, 1, 2, 3, 4, 5, 6, 0, 1,\n",
       "       2, 3, 4, 5, 6, 0, 1, 2, 3, 4, 5, 6, 0, 1, 2, 3, 4, 5, 6, 0, 1, 2,\n",
       "       3, 4, 5, 6, 0, 1, 2, 3, 4, 5, 6, 0, 1, 2, 3, 4, 5, 6, 0, 1, 2, 3,\n",
       "       4, 5, 6, 0, 1, 2, 3, 4, 5, 6, 0, 1, 2, 3, 4, 5, 6, 0, 1, 2, 3, 4,\n",
       "       5, 6, 0, 1, 2, 3, 4, 5, 6, 0, 1, 2, 3, 4, 5, 6, 0, 1, 2, 3, 4, 5,\n",
       "       6, 0, 1, 2, 3, 4, 5, 6, 0, 1, 2, 3, 4, 5, 6, 0, 1, 2, 3, 4, 5, 6,\n",
       "       0, 1, 2, 3, 4, 5, 6, 0, 1, 2, 3, 4, 5, 6, 0, 1, 2, 3, 4, 5, 6, 0,\n",
       "       1, 2, 3, 4, 5, 6, 0, 1, 2, 3, 4, 5, 6, 0, 1, 2, 3, 4, 5, 6, 0, 1,\n",
       "       2, 3, 4, 5, 6, 0, 1, 2, 3, 4, 5, 6, 0])"
      ]
     },
     "execution_count": 30,
     "metadata": {},
     "output_type": "execute_result"
    }
   ],
   "source": [
    "# Alternativa: Un array de 0 a 6 tiene longitud 7\n",
    "mini_array = np.arange(0,7)\n",
    "\n",
    "# Por lo tanto necesitamos 365/7 veces esto\n",
    "full_array = np.tile(mini_array, int(365/7+1))\n",
    "full_array = full_array[:365]\n",
    "full_array"
   ]
  },
  {
   "attachments": {},
   "cell_type": "markdown",
   "metadata": {},
   "source": [
    "## Ejercicio 6: Toma el array del ejercicio anterior y el que acabas de crear y crea un nuevo array en el que solo se muestren los datos del array del ejercicio 4 que no estén en la misma posición en que en el array del ejercicio 5 existe un ‘6’.\n",
    "\n",
    "### Ejemplo: Usando la posición donde en el array del Ej5 haya un 6 (posición 7, 14,...) debemos **filtrar** el array del Ej4 para no obtener esos datos:\n",
    "\n",
    "**Array ej 4:**\n",
    "\n",
    "[1.         0.91765149 0.87665302 0.82558682 0.87322844 0.93757515\n",
    " **0.99255131** 1.06506252 1.16221735 1.13299229 1.10232511 1.09412955\n",
    " 1.0107777  **1.0787682**  1.03595279 1.10241797 1.12717531 1.22887874 ...\n",
    "\n",
    "**Array ej 5:**\n",
    "\n",
    "[0 1 2 3 4 5 **6** 0 1 2 3 4 5 **6** 0 1 2 3 4 5 **6** ..."
   ]
  },
  {
   "cell_type": "code",
   "execution_count": 23,
   "metadata": {},
   "outputs": [
    {
     "data": {
      "text/plain": [
       "array([1.        , 0.92965906, 0.97822295, 0.89310433, 0.92488059,\n",
       "       0.88372133, 0.90640774, 0.9692908 , 0.87910522, 0.91667392])"
      ]
     },
     "execution_count": 23,
     "metadata": {},
     "output_type": "execute_result"
    }
   ],
   "source": [
    "ej_4[:10]"
   ]
  },
  {
   "cell_type": "code",
   "execution_count": 24,
   "metadata": {},
   "outputs": [
    {
     "data": {
      "text/plain": [
       "array([1.        , 0.92965906, 0.97822295, 0.89310433, 0.92488059,\n",
       "       0.88372133, 0.9692908 , 0.87910522, 0.91667392, 0.94854296,\n",
       "       0.93179238, 1.02180456, 1.10103647, 1.12701435, 1.18390851,\n",
       "       1.24540854, 1.285804  , 1.29070703, 1.21993804, 1.28348285,\n",
       "       1.18501817, 1.16429059, 1.20407154, 1.27901163, 1.21992561,\n",
       "       1.20425492, 1.16745008, 1.27623986, 1.27915086, 1.38780477,\n",
       "       1.34857912, 1.27342606, 1.318038  , 1.38690104, 1.42847213,\n",
       "       1.44023207, 1.33718297, 1.39644381, 1.5140723 , 1.49644671,\n",
       "       1.59058534, 1.50086023, 1.53805665, 1.44804325, 1.48323992,\n",
       "       1.3863042 , 1.34095066, 1.21186463, 1.14111411, 1.07618551,\n",
       "       1.16637174, 1.19035483, 1.09321352, 1.0142659 , 1.07828474,\n",
       "       1.05100679, 0.95046918, 0.87784525, 0.87096568, 0.9226667 ,\n",
       "       0.95500988, 0.98468117, 0.96680128, 1.04735125, 1.01415351,\n",
       "       0.97324395, 0.89035225, 0.92907711, 0.97015321, 1.02788244,\n",
       "       1.06622891, 0.96925013, 0.87559497, 0.84943603, 0.83238596,\n",
       "       0.77338307, 0.7753948 , 0.70494734, 0.64271569, 0.68416119,\n",
       "       0.67342198, 0.69087576, 0.64630209, 0.66399464, 0.68274941,\n",
       "       0.61881303, 0.6518856 , 0.61250607, 0.55500277, 0.58660435,\n",
       "       0.57969533, 0.61460917, 0.63097183, 0.62529736, 0.60429884,\n",
       "       0.61657001, 0.60984221, 0.6216522 , 0.62273008, 0.67706002,\n",
       "       0.72258799, 0.77013169, 0.81202861, 0.87340182, 0.87291249,\n",
       "       0.85227662, 0.9021286 , 0.95886388, 0.88435956, 0.93240618,\n",
       "       0.93585737, 0.85443642, 0.78162339, 0.71857926, 0.74710288,\n",
       "       0.75692082, 0.78347066, 0.77983714, 0.78830393, 0.8319718 ,\n",
       "       0.91440387, 0.86253066, 0.79178776, 0.72650323, 0.76089316,\n",
       "       0.76020522, 0.76002479, 0.78745587, 0.85161313, 0.77344166,\n",
       "       0.71039355, 0.64749381, 0.58637035, 0.62644541, 0.67972502,\n",
       "       0.68372927, 0.63100437, 0.67947698, 0.64146721, 0.59629366,\n",
       "       0.61851335, 0.62759971, 0.67736681, 0.65866752, 0.73380993,\n",
       "       0.67336414, 0.72902699, 0.79380599, 0.81537849, 0.84171146,\n",
       "       0.96834099, 0.88656351, 0.80408959, 0.79723211, 0.78055446,\n",
       "       0.84595177, 0.82197528, 0.8929843 , 0.87037211, 0.89972386,\n",
       "       0.91223391, 0.9113145 , 0.93804999, 0.92880651, 0.97187008,\n",
       "       1.02657235, 0.97258053, 0.92307156, 0.91712706, 0.84665412,\n",
       "       0.76615291, 0.74891467, 0.72934277, 0.66764094, 0.60263116,\n",
       "       0.61775243, 0.55739314, 0.57373779, 0.61839636, 0.67272512,\n",
       "       0.69064381, 0.71437179, 0.74260808, 0.81277615, 0.74510109,\n",
       "       0.72965116, 0.75783633, 0.74000612, 0.68357941, 0.74065292,\n",
       "       0.81035643, 0.81853671, 0.74561037, 0.71828817, 0.67496005,\n",
       "       0.61089217, 0.61568436, 0.63071214, 0.72853002, 0.69047824,\n",
       "       0.62567148, 0.66793979, 0.65797462, 0.62581931, 0.70266164,\n",
       "       0.68480161, 0.71543512, 0.71550255, 0.65909381, 0.62332892,\n",
       "       0.58903575, 0.59822834, 0.62485983, 0.64614405, 0.61002816,\n",
       "       0.59127878, 0.50756315, 0.55209298, 0.54585084, 0.51904532,\n",
       "       0.55203831, 0.50405914, 0.55739159, 0.53354172, 0.54027793,\n",
       "       0.56926063, 0.53202503, 0.53854343, 0.53923831, 0.50749447,\n",
       "       0.49916981, 0.44997718, 0.4384887 , 0.42050539, 0.45488997,\n",
       "       0.49887761, 0.5367119 , 0.50860696, 0.48499059, 0.44005728,\n",
       "       0.44447565, 0.474302  , 0.48106417, 0.49116788, 0.49277276,\n",
       "       0.50758603, 0.56235402, 0.57730192, 0.59953308, 0.63739481,\n",
       "       0.69718367, 0.67415357, 0.73334906, 0.7623535 , 0.80610605,\n",
       "       0.88509575, 0.92714364, 1.00711263, 1.06733349, 0.99482225,\n",
       "       1.06376028, 0.97468081, 1.03241642, 1.06529052, 1.12497447,\n",
       "       1.06022734, 1.06701493, 1.07246307, 1.03527156, 1.0349778 ,\n",
       "       1.00062224, 0.90473131, 0.86703533, 0.80704831, 0.74904982,\n",
       "       0.77672423, 0.73833187, 0.75237964, 0.72282442, 0.70962635,\n",
       "       0.70107683, 0.73786777, 0.64127875, 0.59688655, 0.61989215,\n",
       "       0.65320715, 0.61517201, 0.55803805, 0.53665262, 0.58612903,\n",
       "       0.59562393, 0.58025991, 0.5533191 , 0.50137301, 0.52322099,\n",
       "       0.50478988, 0.49832403, 0.46129847, 0.44776317, 0.47324069,\n",
       "       0.48006043, 0.5082075 , 0.53173552, 0.49858667, 0.53085651,\n",
       "       0.52254966, 0.54674372, 0.56869408, 0.60098716, 0.65506808,\n",
       "       0.63562456, 0.66467931, 0.64962417])"
      ]
     },
     "execution_count": 24,
     "metadata": {},
     "output_type": "execute_result"
    }
   ],
   "source": [
    "ej_6 = ej_4[array != 6]\n",
    "ej_6"
   ]
  },
  {
   "attachments": {},
   "cell_type": "markdown",
   "metadata": {},
   "source": [
    "## Ejercicios Numpy Finance:"
   ]
  },
  {
   "cell_type": "code",
   "execution_count": 25,
   "metadata": {},
   "outputs": [],
   "source": [
    "import numpy_financial as npf"
   ]
  },
  {
   "attachments": {},
   "cell_type": "markdown",
   "metadata": {},
   "source": [
    "### **1.-** Crea una función que calcule lo que te queda por pagar de hipoteca:\n",
    "\n",
    "- Parámetros:\n",
    "    - Cantidad de la hipoteca\n",
    "    - Pago mensual\n",
    "    - Cantidad pagada\n",
    "    - Tasa de interés"
   ]
  },
  {
   "cell_type": "code",
   "execution_count": 26,
   "metadata": {},
   "outputs": [
    {
     "name": "stdout",
     "output_type": "stream",
     "text": [
      "El pago mensual es de -421.6 €\n",
      "Quedan -50592.48 € por pagar\n"
     ]
    },
    {
     "data": {
      "text/plain": [
       "-50592.48404753471"
      ]
     },
     "execution_count": 26,
     "metadata": {},
     "output_type": "execute_result"
    }
   ],
   "source": [
    "# Función que calcule lo que queda de pagar de hipoteca en función de cantidad inicial, años pago mensual, interés y número de meses:\n",
    "def hipoteca(cantidad_inicial, años, interes, meses_restantes):\n",
    "    pago_mensual = npf.pmt(interes/12, años*12, cantidad_inicial)\n",
    "    print(f\"El pago mensual es de {round(pago_mensual, 2)} €\")\n",
    "    cuotas_restantes = pago_mensual * meses_restantes\n",
    "    print(f\"Quedan {round(cuotas_restantes,2)} € por pagar\")\n",
    "    return cuotas_restantes\n",
    "hipoteca(100000, 30, 0.03, 12*10)"
   ]
  },
  {
   "attachments": {},
   "cell_type": "markdown",
   "metadata": {},
   "source": [
    "### **2.-** Calcula el TIR :\n",
    "|Mes|Cantidad|\n",
    "|----|---|\n",
    "|Enero|-1500|\n",
    "|Febrero|300|\n",
    "|Marzo|75|\n",
    "|Abril|200|\n",
    "|Mayo|300|\n",
    "|Junio|56|\n",
    "|Julio|98|\n",
    "|Agosto|290|\n",
    "|Septiembre|130|\n",
    "|Octubre|160|\n",
    "|Noviembre|120|\n",
    "|Diciembre|100|\n"
   ]
  },
  {
   "cell_type": "code",
   "execution_count": 27,
   "metadata": {},
   "outputs": [],
   "source": [
    "flujos = [-1500, 300, 75, 200, 300, 56, 98, 290, 130, 160, 120, 100]"
   ]
  },
  {
   "cell_type": "code",
   "execution_count": 28,
   "metadata": {},
   "outputs": [
    {
     "data": {
      "text/plain": [
       "0.03853247830660611"
      ]
     },
     "execution_count": 28,
     "metadata": {},
     "output_type": "execute_result"
    }
   ],
   "source": [
    "# La funcion npf.irr(flujos) calcula la tasa interna de retorno de una serie de flujos de caja\n",
    "npf.irr(flujos)\n",
    "    "
   ]
  },
  {
   "attachments": {},
   "cell_type": "markdown",
   "metadata": {},
   "source": [
    "### **3.-** ¿Cuál es el valor actual (por ejemplo, la inversión inicial) de una inversión que debe ascender a 15692.93 € después de 10 años de ahorrar 100 € cada mes? Supongamos que el tipo de interés es del 5% (anual).\n"
   ]
  },
  {
   "cell_type": "code",
   "execution_count": 29,
   "metadata": {},
   "outputs": [
    {
     "data": {
      "text/plain": [
       "-100.00067131625819"
      ]
     },
     "execution_count": 29,
     "metadata": {},
     "output_type": "execute_result"
    }
   ],
   "source": [
    "# La función Present Value (PV) nos permite calcular el valor presente de una serie de flujos de caja.\n",
    "npf.pv(0.05/12, 10*12, -100, 15692.93)  "
   ]
  },
  {
   "cell_type": "code",
   "execution_count": null,
   "metadata": {},
   "outputs": [],
   "source": []
  }
 ],
 "metadata": {
  "kernelspec": {
   "display_name": "Python 3.8.8 ('base')",
   "language": "python",
   "name": "python3"
  },
  "language_info": {
   "codemirror_mode": {
    "name": "ipython",
    "version": 3
   },
   "file_extension": ".py",
   "mimetype": "text/x-python",
   "name": "python",
   "nbconvert_exporter": "python",
   "pygments_lexer": "ipython3",
   "version": "3.10.10"
  },
  "orig_nbformat": 4,
  "vscode": {
   "interpreter": {
    "hash": "3a2a03ea413f8be244ba01daf0e257f98f0dabeb03c7836e7000a0f3738aa8c9"
   }
  }
 },
 "nbformat": 4,
 "nbformat_minor": 2
}
