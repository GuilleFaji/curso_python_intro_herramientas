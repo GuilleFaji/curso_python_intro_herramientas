{
 "cells": [
  {
   "attachments": {},
   "cell_type": "markdown",
   "metadata": {},
   "source": [
    "# Python Aplicado.\n",
    "\n",
    "\n",
    "\n",
    "<center>\n",
    "<img src=\"./1_introduccion/imgs/python-logo.png\"  alt=\"drawing\" width=\"500\"/>\n",
    "</center>\n",
    "\n",
    "\n",
    "- [Guillermo Fajardo](https://www.linkedin.com/in/guillermo-fajardo-calvache-87a2082a/)\n",
    "- guifajarcal@gmail.com"
   ]
  },
  {
   "attachments": {},
   "cell_type": "markdown",
   "metadata": {},
   "source": [
    "## Módulo 1: Introducción\n",
    "* [1.1](1_introduccion/1_1_instalacion.ipynb) Instalación\n",
    "* [1.2](1_introduccion/1_2_IDE.ipynb) IDEs\n",
    "* [1.3](1_introduccion/1_3_entornos_virtuales.ipynb) Entornos Virtuales\n",
    "* [1.4](1_introduccion/1_4_jupyter_notebooks.ipynb) Jupyter Notebook"
   ]
  },
  {
   "attachments": {},
   "cell_type": "markdown",
   "metadata": {},
   "source": [
    "## Módulo 2: Core de python\n",
    "* [2.1](2_python_core/2_1_syntaxis.ipynb) Syntaxis básica\n",
    "* [2.2](2_python_core/2_2_variables.ipynb) Variables\n",
    "* [2.3](2_python_core/2_3_operadores.ipynb) Operadores\n",
    "* [2.4](2_python_core/2_4_funciones_incorporadas.ipynb) Funciones incorporadas\n",
    "* [2.5](2_python_core/2_5_strings.ipynb) Strings\n",
    "* [2.6](2_python_core/2_6_listas_y_tuplas.ipynb) Listas y tuplas\n",
    "* [2.7](2_python_core/2_7_diccionarios.ipynb) Diccionarios\n",
    "* [2.8](2_python_core/2_8_condicionales_y_bucles.ipynb) Condicionales y bucles\n",
    "* [2.9](2_python_core/2_9_funciones.ipynb) Funciones\n",
    "* [2.10](2_python_core/2_10_modulos_y_scripts.ipynb) Modulos y scripts\n"
   ]
  },
  {
   "attachments": {},
   "cell_type": "markdown",
   "metadata": {},
   "source": [
    "## Módulo 3: Numpy\n",
    "* [3.1](3_numpy/3_1_array.ipynb) Array\n",
    "* [3.2](3_numpy/3_2_operaciones_matematicas_y_estadistica.ipynb) Matemáticas y estadística\n",
    "* [3.3](3_numpy/3_3_operaciones_algebraicas.ipynb) Álgebra\n",
    "* [3.4](3_numpy/3_4_numeros_aletorios.ipynb) Números aleatorios\n",
    "* [3.5](3_numpy/3_5_funciones.ipynb) Funciones\n"
   ]
  },
  {
   "attachments": {},
   "cell_type": "markdown",
   "metadata": {},
   "source": [
    "## Módulo 4: Introducción a la librería Pandas\n",
    "* [4.1](4_pandas/4_1_Creación_Series_Dataframes.ipynb) Definición y creación de las estructuras de datos Series y DataFrames\n",
    "* [4.2](4_pandas/4_2_indexación_slicing.ipynb) Indexación y slicing\n",
    "* [4.3](4_pandas/4_3_reindexación.ipynb) Reindexación\n",
    "* [4.4](4_pandas/4_4_operaciones_aritméticas.ipynb) Operaciones aritméticas\n",
    "* [4.5](4_pandas/4_5_visualización_básica.ipynb) Visualización básica\n",
    "* [4.6](4_pandas/4_6_funciones_mapping.ipynb) Aplicación de funciones y mapping\n",
    "* [4.7](4_pandas/4_7_combinar_juntar.ipynb) Combinar, juntar y agrupar\n",
    "* [4.8](4_pandas/4_8_ejemplos_financieros.ipynb) Ejemplos financieros\n",
    "    \n"
   ]
  },
  {
   "attachments": {},
   "cell_type": "markdown",
   "metadata": {},
   "source": [
    "## Módulo 5: Tratamiento de series temporales\n",
    "* [5.1](5_series_temporales/5_1_time_structures.ipynb) Estructuras de tiempo nativas y de pandas\n",
    "* [5.2](5_series_temporales/5_2_indexación_rangos.ipynb) Indexación, selección y rangos\n",
    "* [5.3](5_series_temporales/5_3_offsets_shift.ipynb) Índices duplicados, offsets y desplazamiento\n",
    "* [5.4](5_series_temporales/5_4_resampling.ipynb) Remuestreo, donwsampling, OHLC\n",
    "* [5.5](5_series_temporales/5_5_ventanas_moviles.ipynb) Ventanas móviles"
   ]
  },
  {
   "attachments": {},
   "cell_type": "markdown",
   "metadata": {},
   "source": [
    "## Módulo 6:  Visualización y tratamiento de datos\n",
    "* [6.1](6_visualizacion_y_tratamiento_de_datos/6_1_visualizacion_matplotlib.ipynb) Visualización Matplotlib\n",
    "* [6.2](6_visualizacion_y_tratamiento_de_datos/6_2_visualizacion_seaborn.ipynb) Visualización Seaborn\n",
    "* [6.3](6_visualizacion_y_tratamiento_de_datos/6_3_visualizacion_plotly.ipynb) Visualización Plotly\n",
    "* [6.4](6_visualizacion_y_tratamiento_de_datos/6_4_lectura_y_escritura.ipynb) Lectura y escritura de archivos\n",
    "* [6.5](6_visualizacion_y_tratamiento_de_datos/6_5_preparacion_y_limpieza.ipynb) Preparación y limpieza de datos"
   ]
  },
  {
   "attachments": {},
   "cell_type": "markdown",
   "metadata": {},
   "source": [
    "### Próximos módulos a añadir cuando avancemos"
   ]
  }
 ],
 "metadata": {
  "kernelspec": {
   "display_name": "base",
   "language": "python",
   "name": "python3"
  },
  "language_info": {
   "codemirror_mode": {
    "name": "ipython",
    "version": 3
   },
   "file_extension": ".py",
   "mimetype": "text/x-python",
   "name": "python",
   "nbconvert_exporter": "python",
   "pygments_lexer": "ipython3",
   "version": "3.9.13"
  },
  "orig_nbformat": 4,
  "vscode": {
   "interpreter": {
    "hash": "18a6b418ca989a304418b74e14b57df096d22507d5bd0d85ac6f17ef362aab2d"
   }
  }
 },
 "nbformat": 4,
 "nbformat_minor": 2
}
