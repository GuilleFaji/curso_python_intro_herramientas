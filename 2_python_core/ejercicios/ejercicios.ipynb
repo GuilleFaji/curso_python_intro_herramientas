{
 "cells": [
  {
   "attachments": {},
   "cell_type": "markdown",
   "metadata": {},
   "source": [
    "## Minipreguntas\n",
    "Intenta razonar el resultado antes de ejecutarlo:"
   ]
  },
  {
   "attachments": {},
   "cell_type": "markdown",
   "metadata": {},
   "source": [
    "**¿Cuál es el output del siguiente código?**"
   ]
  },
  {
   "cell_type": "code",
   "execution_count": null,
   "metadata": {},
   "outputs": [],
   "source": [
    "print(\"Hola mundo\\n\"*3)"
   ]
  },
  {
   "cell_type": "code",
   "execution_count": null,
   "metadata": {},
   "outputs": [],
   "source": [
    "a = [1, 2, 3]\n",
    "b = a.append(4)\n",
    "print(a, b)"
   ]
  },
  {
   "cell_type": "code",
   "execution_count": null,
   "metadata": {},
   "outputs": [],
   "source": [
    "# \n",
    "a = [1, 2, 3, 4]\n",
    "a.insert(1, a.pop(2))\n",
    "print(a)"
   ]
  },
  {
   "cell_type": "code",
   "execution_count": null,
   "metadata": {},
   "outputs": [],
   "source": [
    "x = 5\n",
    "y = 10\n",
    "x, y = y, x\n",
    "print(x, y)"
   ]
  },
  {
   "cell_type": "code",
   "execution_count": null,
   "metadata": {},
   "outputs": [],
   "source": [
    "def funcion(num):\n",
    "    return num * 3 if num < 10 else num * 2\n",
    "\n",
    "print(funcion(funcion(4)), funcion(funcion(10)))"
   ]
  },
  {
   "cell_type": "code",
   "execution_count": null,
   "metadata": {},
   "outputs": [],
   "source": [
    "lista = [1, 2, 3, 4, 5]\n",
    "lista[:3] = lista[-1:-4:-1]\n",
    "print(lista)"
   ]
  },
  {
   "cell_type": "code",
   "execution_count": null,
   "metadata": {},
   "outputs": [],
   "source": [
    "numero = 5\n",
    "\n",
    "def funcion():\n",
    "    numero = 3\n",
    "\n",
    "funcion()   \n",
    "\n",
    "print(numero)"
   ]
  },
  {
   "cell_type": "code",
   "execution_count": null,
   "metadata": {},
   "outputs": [],
   "source": [
    "lista_1 = [1, 2, 3]\n",
    "lista_2 = lista_1\n",
    "\n",
    "lista_2[0] = 4\n",
    "\n",
    "print(lista_1)"
   ]
  },
  {
   "attachments": {},
   "cell_type": "markdown",
   "metadata": {},
   "source": [
    "## Ejercicios"
   ]
  },
  {
   "attachments": {},
   "cell_type": "markdown",
   "metadata": {},
   "source": [
    "**1.-** Multiplica 2 números y muestra su resultado por pantalla"
   ]
  },
  {
   "cell_type": "code",
   "execution_count": null,
   "metadata": {},
   "outputs": [],
   "source": []
  },
  {
   "attachments": {},
   "cell_type": "markdown",
   "metadata": {},
   "source": [
    "**2.-** Escribe una función que te pida 2 números y te devuelva su suma por pantalla"
   ]
  },
  {
   "cell_type": "code",
   "execution_count": null,
   "metadata": {},
   "outputs": [],
   "source": []
  },
  {
   "attachments": {},
   "cell_type": "markdown",
   "metadata": {},
   "source": [
    "**3.-** Crea una variable string con los números del 1 al 20 y muestra solo los índices pares"
   ]
  },
  {
   "cell_type": "code",
   "execution_count": null,
   "metadata": {},
   "outputs": [],
   "source": []
  },
  {
   "attachments": {},
   "cell_type": "markdown",
   "metadata": {},
   "source": [
    "**3.-b** Crea la variable anterior pero hasta el 100 de manera automatizada. Haz que los números estén separados por un espacio."
   ]
  },
  {
   "cell_type": "code",
   "execution_count": null,
   "metadata": {},
   "outputs": [],
   "source": []
  },
  {
   "attachments": {},
   "cell_type": "markdown",
   "metadata": {},
   "source": [
    "**4.-** Dada una lista divide todos sus elementos entre 5 y muestralo por pantalla"
   ]
  },
  {
   "cell_type": "code",
   "execution_count": null,
   "metadata": {},
   "outputs": [],
   "source": [
    "a = [10,15,20,25,30,35,40,45,50]"
   ]
  },
  {
   "attachments": {},
   "cell_type": "markdown",
   "metadata": {},
   "source": [
    "**5.-** Crea una función que compruebe si el primer y el último elemento de una lista son iguales."
   ]
  },
  {
   "cell_type": "code",
   "execution_count": null,
   "metadata": {},
   "outputs": [],
   "source": []
  },
  {
   "attachments": {},
   "cell_type": "markdown",
   "metadata": {},
   "source": [
    "**6.-** Devuelve cuantas veces aparece la palabra \"por\" en el string"
   ]
  },
  {
   "cell_type": "code",
   "execution_count": 1,
   "metadata": {},
   "outputs": [],
   "source": [
    "x_string = '''Por una mirada, un mundo,\n",
    "            por una sonrisa, un cielo,\n",
    "            por un beso… ¡yo no sé\n",
    "            qué te diera por un beso!'''"
   ]
  },
  {
   "attachments": {},
   "cell_type": "markdown",
   "metadata": {},
   "source": [
    "**7.-** Crea una función que dado un número entero devuelva este patrón\n",
    "```\n",
    "1\n",
    "22\n",
    "333\n",
    "4444\n",
    "55555\n",
    "```"
   ]
  },
  {
   "attachments": {},
   "cell_type": "markdown",
   "metadata": {},
   "source": [
    "**8.-** Escribe una función que compruebe si un número es un palíndromo"
   ]
  },
  {
   "cell_type": "code",
   "execution_count": null,
   "metadata": {},
   "outputs": [],
   "source": []
  },
  {
   "attachments": {},
   "cell_type": "markdown",
   "metadata": {},
   "source": [
    "**9.-** Escribe una lista a partir de otras 2 lista cumpliendo las siguientes condiciones:\n",
    "- Cogemos los números pares de la lista 1\n",
    "- Cogemos los números impares de la lista 2\n",
    "\n",
    "```\n",
    "lista_1 = [20,25,30,45,80]\n",
    "lista_2 = [2,4,5,6,7]\n",
    ">>>>>>>>>\n",
    "lista_resultado = [20,30,80,5,7]\n",
    "```"
   ]
  },
  {
   "attachments": {},
   "cell_type": "markdown",
   "metadata": {},
   "source": [
    "**10.-** Crea una función que calcule el sueldo  después de impuestos y que porcentaje se paga del mismo, basate en las siguientes reglas:\n",
    "- Primer tramo hasta 12450 euros en el que se paga un 19%.\n",
    "- Segundo tramo hasta 20200 euros con tipo del 24%\n",
    "- Tercer tramo hasta 35200 euros con un 30%.\n",
    "- Cuarto tramo hasta 60000 euros con un 37%\n",
    "- Quinto tramo hasta 300000 euros con un 45%\n",
    "- Sexto tramo a partir de 300000 euros de 47%.\n",
    "\n",
    "Ejemplo de cálculo: persona que cobra 30000€:\n",
    "-  12450*(0.19)+(20200-12450)* (0.24)+(30000-20200) *(0.30)\n",
    "- Total a pagar : 7165.5 (~24%)"
   ]
  },
  {
   "attachments": {},
   "cell_type": "markdown",
   "metadata": {},
   "source": [
    "**10-b** Usa la función anterior"
   ]
  },
  {
   "cell_type": "code",
   "execution_count": null,
   "metadata": {},
   "outputs": [],
   "source": []
  },
  {
   "attachments": {},
   "cell_type": "markdown",
   "metadata": {},
   "source": [
    "**11.-** Genera un código al que le podamos pasar un string de cualquier longitud, separe el string en palabras y luego nos imprima por pantalla aquellas ‘palabras’ que en realidad sean números. Utiliza el siguiente string:\n",
    "\n",
    "***“01 In the beginning the Universe was created. 02 This had made many people very angry 03 and has been widely regarded as a bad move.”***"
   ]
  },
  {
   "cell_type": "code",
   "execution_count": null,
   "metadata": {},
   "outputs": [],
   "source": []
  },
  {
   "attachments": {},
   "cell_type": "markdown",
   "metadata": {},
   "source": [
    "**12.-** A veces necesitamos tener vectores o listas que sean de una longitud concreta. Crea una **función** a la que le pases una lista (vacía o con elementos), un número que represente la longitud deseada y un elemento que sea el valor con el que ‘rellenar’ hasta la longitud deseada."
   ]
  },
  {
   "cell_type": "code",
   "execution_count": null,
   "metadata": {},
   "outputs": [],
   "source": []
  },
  {
   "attachments": {},
   "cell_type": "markdown",
   "metadata": {},
   "source": [
    "**12.-b** Modifica la función anterior para poder elegir si introducimos el relleno antes o después de la lista proporcionada:"
   ]
  },
  {
   "cell_type": "code",
   "execution_count": null,
   "metadata": {},
   "outputs": [],
   "source": []
  },
  {
   "attachments": {},
   "cell_type": "markdown",
   "metadata": {},
   "source": [
    "**13.-** Crea una función que dado un número te devuelva una lista con todos los números enteros positivos impares hasta dicho número pero que:\n",
    "- No incluya los números divisibles por 7.\n",
    "- No incluya los números capicúa pero sí los números en los que todas las cifras sean iguales (ej. 33 pero no 121)\n"
   ]
  },
  {
   "attachments": {},
   "cell_type": "markdown",
   "metadata": {},
   "source": []
  }
 ],
 "metadata": {
  "kernelspec": {
   "display_name": "Python 3.8.8 ('base')",
   "language": "python",
   "name": "python3"
  },
  "language_info": {
   "codemirror_mode": {
    "name": "ipython",
    "version": 3
   },
   "file_extension": ".py",
   "mimetype": "text/x-python",
   "name": "python",
   "nbconvert_exporter": "python",
   "pygments_lexer": "ipython3",
   "version": "3.10.10"
  },
  "orig_nbformat": 4,
  "vscode": {
   "interpreter": {
    "hash": "3a2a03ea413f8be244ba01daf0e257f98f0dabeb03c7836e7000a0f3738aa8c9"
   }
  }
 },
 "nbformat": 4,
 "nbformat_minor": 2
}
