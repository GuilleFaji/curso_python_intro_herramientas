{
 "cells": [
  {
   "attachments": {},
   "cell_type": "markdown",
   "metadata": {},
   "source": [
    "## Minipreguntas\n",
    "Intenta razonar el resultado antes de ejecutarlo:"
   ]
  },
  {
   "attachments": {},
   "cell_type": "markdown",
   "metadata": {},
   "source": [
    "**¿Cuál es el output del siguiente código?**"
   ]
  },
  {
   "cell_type": "code",
   "execution_count": 3,
   "metadata": {},
   "outputs": [
    {
     "name": "stdout",
     "output_type": "stream",
     "text": [
      "Hola mundoHola mundoHola mundo\n"
     ]
    }
   ],
   "source": [
    "print(\"Hola mundo\"*3)"
   ]
  },
  {
   "cell_type": "code",
   "execution_count": 4,
   "metadata": {},
   "outputs": [
    {
     "name": "stdout",
     "output_type": "stream",
     "text": [
      "[1, 2, 3, 4] None\n"
     ]
    }
   ],
   "source": [
    "a = [1, 2, 3]\n",
    "b = a.append(4)\n",
    "print(a, b)"
   ]
  },
  {
   "cell_type": "code",
   "execution_count": 6,
   "metadata": {},
   "outputs": [],
   "source": [
    "a.append(4)"
   ]
  },
  {
   "cell_type": "code",
   "execution_count": 5,
   "metadata": {},
   "outputs": [
    {
     "name": "stdout",
     "output_type": "stream",
     "text": [
      "[1, 3, 2, 4]\n"
     ]
    }
   ],
   "source": [
    "# \n",
    "a = [1, 2, 3, 4]\n",
    "a.insert(1, a.pop(2))\n",
    "print(a)"
   ]
  },
  {
   "cell_type": "code",
   "execution_count": 8,
   "metadata": {},
   "outputs": [
    {
     "name": "stdout",
     "output_type": "stream",
     "text": [
      "10 5\n"
     ]
    }
   ],
   "source": [
    "x = 5\n",
    "y = 10\n",
    "x, y = y, x\n",
    "print(x, y)"
   ]
  },
  {
   "cell_type": "code",
   "execution_count": 9,
   "metadata": {},
   "outputs": [
    {
     "name": "stdout",
     "output_type": "stream",
     "text": [
      "24 40\n"
     ]
    }
   ],
   "source": [
    "def funcion(num):\n",
    "    return num * 3 if num < 10 else num * 2\n",
    "\n",
    "print(funcion(funcion(4)), funcion(funcion(10)))"
   ]
  },
  {
   "cell_type": "code",
   "execution_count": 10,
   "metadata": {},
   "outputs": [
    {
     "data": {
      "text/plain": [
       "[1, 2, 3]"
      ]
     },
     "execution_count": 10,
     "metadata": {},
     "output_type": "execute_result"
    }
   ],
   "source": [
    "lista = [1, 2, 3, 4, 5]\n",
    "lista[:3]"
   ]
  },
  {
   "cell_type": "code",
   "execution_count": 11,
   "metadata": {},
   "outputs": [
    {
     "name": "stdout",
     "output_type": "stream",
     "text": [
      "[5, 4, 3, 4, 5]\n"
     ]
    }
   ],
   "source": [
    "lista = [1, 2, 3, 4, 5]\n",
    "lista[:3] = lista[-1:-4:-1]\n",
    "print(lista)"
   ]
  },
  {
   "cell_type": "code",
   "execution_count": null,
   "metadata": {},
   "outputs": [],
   "source": [
    "numero = 5\n",
    "\n",
    "def funcion():\n",
    "    numero = 3\n",
    "\n",
    "funcion()   \n",
    "\n",
    "print(numero)"
   ]
  },
  {
   "cell_type": "code",
   "execution_count": 12,
   "metadata": {},
   "outputs": [
    {
     "name": "stdout",
     "output_type": "stream",
     "text": [
      "[4, 2, 3]\n"
     ]
    }
   ],
   "source": [
    "lista_1 = [1, 2, 3]\n",
    "lista_2 = lista_1\n",
    "\n",
    "lista_2[0] = 4\n",
    "\n",
    "print(lista_1)"
   ]
  },
  {
   "attachments": {},
   "cell_type": "markdown",
   "metadata": {},
   "source": [
    "## Ejercicios"
   ]
  },
  {
   "attachments": {},
   "cell_type": "markdown",
   "metadata": {},
   "source": [
    "**1.-** Multiplica 2 números y muestra su resultado por pantalla"
   ]
  },
  {
   "cell_type": "code",
   "execution_count": 13,
   "metadata": {},
   "outputs": [
    {
     "name": "stdout",
     "output_type": "stream",
     "text": [
      "20\n"
     ]
    }
   ],
   "source": [
    "print(4*5)"
   ]
  },
  {
   "attachments": {},
   "cell_type": "markdown",
   "metadata": {},
   "source": [
    "**2.-** Escribe una función que te pida 2 números y te devuelva su suma por pantalla"
   ]
  },
  {
   "cell_type": "code",
   "execution_count": 14,
   "metadata": {},
   "outputs": [
    {
     "name": "stdout",
     "output_type": "stream",
     "text": [
      "50\n"
     ]
    }
   ],
   "source": [
    "def suma(num1, num2):\n",
    "    print(num1+num2)\n",
    "\n",
    "suma(45,5)"
   ]
  },
  {
   "attachments": {},
   "cell_type": "markdown",
   "metadata": {},
   "source": [
    "**3.-** Crea una variable string con los números del 1 al 20 y muestra solo los índices pares"
   ]
  },
  {
   "cell_type": "code",
   "execution_count": 19,
   "metadata": {},
   "outputs": [
    {
     "data": {
      "text/plain": [
       "'246811111111112'"
      ]
     },
     "execution_count": 19,
     "metadata": {},
     "output_type": "execute_result"
    }
   ],
   "source": [
    "string_1_20 = \"1234567891011121314151617181920\"\n",
    "string_1_20[1::2]"
   ]
  },
  {
   "attachments": {},
   "cell_type": "markdown",
   "metadata": {},
   "source": [
    "**3.-b** Crea la variable anterior pero hasta el 100 de manera automatizada. Haz que los números estén separados por un espacio."
   ]
  },
  {
   "cell_type": "code",
   "execution_count": 23,
   "metadata": {},
   "outputs": [
    {
     "data": {
      "text/plain": [
       "'1 2 3 4 5 6 7 8 9 10 11 12 13 14 15 16 17 18 19 20 21 22 23 24 25 26 27 28 29 30 31 32 33 34 35 36 37 38 39 40 41 42 43 44 45 46 47 48 49 50 51 52 53 54 55 56 57 58 59 60 61 62 63 64 65 66 67 68 69 70 71 72 73 74 75 76 77 78 79 80 81 82 83 84 85 86 87 88 89 90 91 92 93 94 95 96 97 98 99 100 '"
      ]
     },
     "execution_count": 23,
     "metadata": {},
     "output_type": "execute_result"
    }
   ],
   "source": [
    "string_1_100 = \"\"\n",
    "\n",
    "for numero in range(1,100+1):\n",
    "    string_1_100 += str(numero)\n",
    "    string_1_100 += \" \"\n",
    "\n",
    "string_1_100"
   ]
  },
  {
   "cell_type": "code",
   "execution_count": 26,
   "metadata": {},
   "outputs": [
    {
     "data": {
      "text/plain": [
       "'1 2 3 4 5 6 7 8 9 10 11 12 13 14 15 16 17 18 19 20 21 22 23 24 25 26 27 28 29 30 31 32 33 34 35 36 37 38 39 40 41 42 43 44 45 46 47 48 49 50 51 52 53 54 55 56 57 58 59 60 61 62 63 64 65 66 67 68 69 70 71 72 73 74 75 76 77 78 79 80 81 82 83 84 85 86 87 88 89 90 91 92 93 94 95 96 97 98 99 100'"
      ]
     },
     "execution_count": 26,
     "metadata": {},
     "output_type": "execute_result"
    }
   ],
   "source": [
    "\" \".join([str(num) for num in range(1,101)])"
   ]
  },
  {
   "attachments": {},
   "cell_type": "markdown",
   "metadata": {},
   "source": [
    "**4.-** Dada una lista divide todos sus elementos entre 5 y muestralo por pantalla"
   ]
  },
  {
   "cell_type": "code",
   "execution_count": 27,
   "metadata": {},
   "outputs": [],
   "source": [
    "a = [10,15,20,25,30,35,40,45,50]"
   ]
  },
  {
   "cell_type": "code",
   "execution_count": 28,
   "metadata": {},
   "outputs": [
    {
     "name": "stdout",
     "output_type": "stream",
     "text": [
      "2.0\n",
      "3.0\n",
      "4.0\n",
      "5.0\n",
      "6.0\n",
      "7.0\n",
      "8.0\n",
      "9.0\n",
      "10.0\n"
     ]
    }
   ],
   "source": [
    "for num in a:\n",
    "    print(num/5)"
   ]
  },
  {
   "attachments": {},
   "cell_type": "markdown",
   "metadata": {},
   "source": [
    "**5.-** Crea una función que compruebe si el primer y el último elemento de una lista son iguales."
   ]
  },
  {
   "cell_type": "code",
   "execution_count": 29,
   "metadata": {},
   "outputs": [
    {
     "data": {
      "text/plain": [
       "False"
      ]
     },
     "execution_count": 29,
     "metadata": {},
     "output_type": "execute_result"
    }
   ],
   "source": [
    "def chequeo(lista):\n",
    "    return lista[0] == lista[-1]\n",
    "\n",
    "chequeo(a) "
   ]
  },
  {
   "attachments": {},
   "cell_type": "markdown",
   "metadata": {},
   "source": [
    "**6.-** Devuelve cuantas veces aparece la palabra \"por\" en el string"
   ]
  },
  {
   "cell_type": "code",
   "execution_count": 30,
   "metadata": {},
   "outputs": [],
   "source": [
    "x_string = '''Por una mirada, un mundo,\n",
    "            por una sonrisa, un cielo,\n",
    "            por un beso… ¡yo no sé\n",
    "            qué te diera por un beso!'''"
   ]
  },
  {
   "cell_type": "code",
   "execution_count": 36,
   "metadata": {},
   "outputs": [
    {
     "data": {
      "text/plain": [
       "4"
      ]
     },
     "execution_count": 36,
     "metadata": {},
     "output_type": "execute_result"
    }
   ],
   "source": [
    "x_string.lower().count('por')"
   ]
  },
  {
   "attachments": {},
   "cell_type": "markdown",
   "metadata": {},
   "source": [
    "**7.-** Crea una función que dado un número entero devuelva este patrón\n",
    "```\n",
    "1\n",
    "22\n",
    "333\n",
    "4444\n",
    "55555\n",
    "```"
   ]
  },
  {
   "cell_type": "code",
   "execution_count": 39,
   "metadata": {},
   "outputs": [
    {
     "name": "stdout",
     "output_type": "stream",
     "text": [
      "55555\n"
     ]
    }
   ],
   "source": [
    "def repetir_cifras(numero):\n",
    "    return print(str(numero)*numero)\n",
    "\n",
    "repetir_cifras(5)"
   ]
  },
  {
   "attachments": {},
   "cell_type": "markdown",
   "metadata": {},
   "source": [
    "**8.-** Escribe una función que compruebe si un número es capicúa"
   ]
  },
  {
   "cell_type": "code",
   "execution_count": null,
   "metadata": {},
   "outputs": [],
   "source": [
    "x = 555"
   ]
  },
  {
   "cell_type": "code",
   "execution_count": null,
   "metadata": {},
   "outputs": [],
   "source": [
    "def capicua(numero):\n",
    "    for i in range(len(str(numero))//2):\n",
    "        if str(numero)[i] != str(numero)[-i]:\n",
    "            return False\n",
    "    \n",
    "    return True"
   ]
  },
  {
   "cell_type": "code",
   "execution_count": null,
   "metadata": {},
   "outputs": [],
   "source": [
    "def capicua(numero):\n",
    "    return str(numero) == str(numero)[::-1]"
   ]
  },
  {
   "attachments": {},
   "cell_type": "markdown",
   "metadata": {},
   "source": [
    "**9.-** Escribe una lista a partir de otras 2 lista cumpliendo las siguientes condiciones:\n",
    "- Cogemos los números pares de la lista 1\n",
    "- Cogemos los números impares de la lista 2\n",
    "\n",
    "```\n",
    "lista_1 = [20,25,30,45,80]\n",
    "lista_2 = [2,4,5,6,7]\n",
    ">>>>>>>>>\n",
    "lista_resultado = [20,30,80,5,7]\n",
    "```"
   ]
  },
  {
   "cell_type": "code",
   "execution_count": 42,
   "metadata": {},
   "outputs": [
    {
     "data": {
      "text/plain": [
       "[20, 30, 80, 5, 7]"
      ]
     },
     "execution_count": 42,
     "metadata": {},
     "output_type": "execute_result"
    }
   ],
   "source": [
    "lista_1 = [20,25,30,45,80]\n",
    "lista_2 = [2,4,5,6,7]\n",
    "\n",
    "lista_vacia = []\n",
    "\n",
    "for i in lista_1:\n",
    "    if i%2 == 0:\n",
    "        lista_vacia.append(i)\n",
    "\n",
    "for i in lista_2:\n",
    "    if i%2 != 0:\n",
    "        lista_vacia.append(i)\n",
    "\n",
    "lista_vacia\n"
   ]
  },
  {
   "cell_type": "code",
   "execution_count": 44,
   "metadata": {},
   "outputs": [
    {
     "data": {
      "text/plain": [
       "[20, 30, 80, 5, 7]"
      ]
     },
     "execution_count": 44,
     "metadata": {},
     "output_type": "execute_result"
    }
   ],
   "source": [
    "[x for x in lista_1 if x%2==0] + [x for x in lista_2 if x%2!=0]"
   ]
  },
  {
   "attachments": {},
   "cell_type": "markdown",
   "metadata": {},
   "source": [
    "**10.-** Crea una función que calcule el sueldo  después de impuestos y que porcentaje se paga del mismo, basate en las siguientes reglas:\n",
    "- Primer tramo hasta 12450 euros en el que se paga un 19%.\n",
    "- Segundo tramo hasta 20200 euros con tipo del 24%\n",
    "- Tercer tramo hasta 35200 euros con un 30%.\n",
    "- Cuarto tramo hasta 60000 euros con un 37%\n",
    "- Quinto tramo hasta 300000 euros con un 45%\n",
    "- Sexto tramo a partir de 300000 euros de 47%.\n",
    "\n",
    "Ejemplo de cálculo: persona que cobra 30000€:\n",
    "-  12450*(0.19)+(20200-12450)* (0.24)+(30000-20200) *(0.30)\n",
    "- Total a pagar : 7165.5 (~24%)"
   ]
  },
  {
   "attachments": {},
   "cell_type": "markdown",
   "metadata": {},
   "source": [
    "**10-b** Usa la función anterior"
   ]
  },
  {
   "cell_type": "code",
   "execution_count": null,
   "metadata": {},
   "outputs": [],
   "source": []
  },
  {
   "attachments": {},
   "cell_type": "markdown",
   "metadata": {},
   "source": [
    "**11.-** Genera un código al que le podamos pasar un string de cualquier longitud, separe el string en palabras y luego nos imprima por pantalla aquellas ‘palabras’ que en realidad sean números. Utiliza el siguiente string:\n",
    "\n",
    "***“01 In the beginning the Universe was created. 02 This had made many people very angry 03 and has been widely regarded as a bad move.”***"
   ]
  },
  {
   "cell_type": "code",
   "execution_count": null,
   "metadata": {},
   "outputs": [],
   "source": []
  },
  {
   "attachments": {},
   "cell_type": "markdown",
   "metadata": {},
   "source": [
    "**12.-** A veces necesitamos tener vectores o listas que sean de una longitud concreta. Crea una **función** a la que le pases una lista (vacía o con elementos), un número que represente la longitud deseada y un elemento que sea el valor con el que ‘rellenar’ hasta la longitud deseada."
   ]
  },
  {
   "cell_type": "code",
   "execution_count": null,
   "metadata": {},
   "outputs": [],
   "source": []
  },
  {
   "attachments": {},
   "cell_type": "markdown",
   "metadata": {},
   "source": [
    "**12.-b** Modifica la función anterior para poder elegir si introducimos el relleno antes o después de la lista proporcionada:"
   ]
  },
  {
   "cell_type": "code",
   "execution_count": null,
   "metadata": {},
   "outputs": [],
   "source": []
  },
  {
   "attachments": {},
   "cell_type": "markdown",
   "metadata": {},
   "source": [
    "**13.-** Crea una función que dado un número te devuelva una lista con todos los números enteros positivos impares hasta dicho número pero que:\n",
    "- No incluya los números divisibles por 7.\n",
    "- No incluya los números capicúa pero sí los números en los que todas las cifras sean iguales (ej. 33 pero no 121)\n"
   ]
  },
  {
   "attachments": {},
   "cell_type": "markdown",
   "metadata": {},
   "source": []
  }
 ],
 "metadata": {
  "kernelspec": {
   "display_name": "Python 3.8.8 ('base')",
   "language": "python",
   "name": "python3"
  },
  "language_info": {
   "codemirror_mode": {
    "name": "ipython",
    "version": 3
   },
   "file_extension": ".py",
   "mimetype": "text/x-python",
   "name": "python",
   "nbconvert_exporter": "python",
   "pygments_lexer": "ipython3",
   "version": "3.10.10"
  },
  "orig_nbformat": 4,
  "vscode": {
   "interpreter": {
    "hash": "3a2a03ea413f8be244ba01daf0e257f98f0dabeb03c7836e7000a0f3738aa8c9"
   }
  }
 },
 "nbformat": 4,
 "nbformat_minor": 2
}
