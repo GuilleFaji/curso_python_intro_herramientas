{
 "cells": [
  {
   "attachments": {},
   "cell_type": "markdown",
   "metadata": {},
   "source": [
    "## Minipreguntas\n",
    "Intenta razonar el resultado antes de ejecutarlo:"
   ]
  },
  {
   "attachments": {},
   "cell_type": "markdown",
   "metadata": {},
   "source": [
    "**¿Cuál es el output del siguiente código?**"
   ]
  },
  {
   "cell_type": "code",
   "execution_count": 70,
   "metadata": {},
   "outputs": [
    {
     "name": "stdout",
     "output_type": "stream",
     "text": [
      "Hola mundo\n",
      "Hola mundo\n",
      "Hola mundo\n",
      "\n"
     ]
    }
   ],
   "source": [
    "print(\"Hola mundo\\n\"*3)"
   ]
  },
  {
   "cell_type": "code",
   "execution_count": 71,
   "metadata": {},
   "outputs": [
    {
     "name": "stdout",
     "output_type": "stream",
     "text": [
      "[1, 2, 3, 4] None\n"
     ]
    }
   ],
   "source": [
    "a = [1, 2, 3]\n",
    "b = a.append(4)\n",
    "print(a, b)"
   ]
  },
  {
   "cell_type": "code",
   "execution_count": 72,
   "metadata": {},
   "outputs": [
    {
     "name": "stdout",
     "output_type": "stream",
     "text": [
      "[1, 3, 2, 4]\n"
     ]
    }
   ],
   "source": [
    "# \n",
    "a = [1, 2, 3, 4]\n",
    "a.insert(1, a.pop(2))\n",
    "print(a)"
   ]
  },
  {
   "cell_type": "code",
   "execution_count": 73,
   "metadata": {},
   "outputs": [
    {
     "name": "stdout",
     "output_type": "stream",
     "text": [
      "10 5\n"
     ]
    }
   ],
   "source": [
    "x = 5\n",
    "y = 10\n",
    "x, y = y, x\n",
    "print(x, y)"
   ]
  },
  {
   "cell_type": "code",
   "execution_count": 74,
   "metadata": {},
   "outputs": [
    {
     "name": "stdout",
     "output_type": "stream",
     "text": [
      "24 40\n"
     ]
    }
   ],
   "source": [
    "def funcion(num):\n",
    "    return num * 3 if num < 10 else num * 2\n",
    "\n",
    "print(funcion(funcion(4)), funcion(funcion(10)))"
   ]
  },
  {
   "cell_type": "code",
   "execution_count": 75,
   "metadata": {},
   "outputs": [
    {
     "name": "stdout",
     "output_type": "stream",
     "text": [
      "[5, 4, 3, 4, 5]\n"
     ]
    }
   ],
   "source": [
    "lista = [1, 2, 3, 4, 5]\n",
    "lista[:3] = lista[-1:-4:-1]\n",
    "print(lista)"
   ]
  },
  {
   "cell_type": "code",
   "execution_count": 76,
   "metadata": {},
   "outputs": [
    {
     "name": "stdout",
     "output_type": "stream",
     "text": [
      "5\n"
     ]
    }
   ],
   "source": [
    "numero = 5\n",
    "\n",
    "def funcion():\n",
    "    numero = 3\n",
    "\n",
    "funcion()   \n",
    "\n",
    "print(numero)"
   ]
  },
  {
   "cell_type": "code",
   "execution_count": 77,
   "metadata": {},
   "outputs": [
    {
     "name": "stdout",
     "output_type": "stream",
     "text": [
      "[4, 2, 3]\n"
     ]
    }
   ],
   "source": [
    "lista_1 = [1, 2, 3]\n",
    "lista_2 = lista_1\n",
    "\n",
    "lista_2[0] = 4\n",
    "\n",
    "print(lista_1)"
   ]
  },
  {
   "attachments": {},
   "cell_type": "markdown",
   "metadata": {},
   "source": [
    "## Ejercicios"
   ]
  },
  {
   "attachments": {},
   "cell_type": "markdown",
   "metadata": {},
   "source": [
    "**1.-** Multiplica 2 números y muestra su resultado por pantalla"
   ]
  },
  {
   "cell_type": "code",
   "execution_count": 78,
   "metadata": {},
   "outputs": [
    {
     "name": "stdout",
     "output_type": "stream",
     "text": [
      "20\n"
     ]
    }
   ],
   "source": [
    "print(5*4)"
   ]
  },
  {
   "attachments": {},
   "cell_type": "markdown",
   "metadata": {},
   "source": [
    "**2.-** Escribe una función que te pida 2 números y te devuelva su suma por pantalla"
   ]
  },
  {
   "cell_type": "code",
   "execution_count": 79,
   "metadata": {},
   "outputs": [],
   "source": [
    "def funcion(num, num2):\n",
    "    print(num + num2)"
   ]
  },
  {
   "attachments": {},
   "cell_type": "markdown",
   "metadata": {},
   "source": [
    "**3.-** Crea una variable string con los números del 1 al 20 y muestra solo los índices pares"
   ]
  },
  {
   "cell_type": "code",
   "execution_count": 80,
   "metadata": {},
   "outputs": [
    {
     "name": "stdout",
     "output_type": "stream",
     "text": [
      "1357901234567890\n"
     ]
    }
   ],
   "source": [
    "string_1_20 = \"1234567891011121314151617181920\"\n",
    "print(string_1_20[::2])"
   ]
  },
  {
   "attachments": {},
   "cell_type": "markdown",
   "metadata": {},
   "source": [
    "**3.-b** Crea la variable anterior pero hasta el 100 de manera automatizada. Haz que los números estén separados por un espacio."
   ]
  },
  {
   "cell_type": "code",
   "execution_count": 81,
   "metadata": {},
   "outputs": [
    {
     "data": {
      "text/plain": [
       "'1 2 3 4 5 6 7 8 9 10 11 12 13 14 15 16 17 18 19 20 21 22 23 24 25 26 27 28 29 30 31 32 33 34 35 36 37 38 39 40 41 42 43 44 45 46 47 48 49 50 51 52 53 54 55 56 57 58 59 60 61 62 63 64 65 66 67 68 69 70 71 72 73 74 75 76 77 78 79 80 81 82 83 84 85 86 87 88 89 90 91 92 93 94 95 96 97 98 99 100 '"
      ]
     },
     "execution_count": 81,
     "metadata": {},
     "output_type": "execute_result"
    }
   ],
   "source": [
    "string_1_100 = \"\"\n",
    "for i in range(1, 101):\n",
    "    string_1_100 += str(i)\n",
    "    string_1_100 += \" \"\n",
    "    \n",
    "string_1_100"
   ]
  },
  {
   "cell_type": "code",
   "execution_count": 82,
   "metadata": {},
   "outputs": [
    {
     "data": {
      "text/plain": [
       "'1 2 3 4 5 6 7 8 9 10 11 12 13 14 15 16 17 18 19 20 21 22 23 24 25 26 27 28 29 30 31 32 33 34 35 36 37 38 39 40 41 42 43 44 45 46 47 48 49 50 51 52 53 54 55 56 57 58 59 60 61 62 63 64 65 66 67 68 69 70 71 72 73 74 75 76 77 78 79 80 81 82 83 84 85 86 87 88 89 90 91 92 93 94 95 96 97 98 99 100'"
      ]
     },
     "execution_count": 82,
     "metadata": {},
     "output_type": "execute_result"
    }
   ],
   "source": [
    "# Otra forma de hacerlo\n",
    "\" \".join([str(i) for i in range(1, 101)])\n"
   ]
  },
  {
   "attachments": {},
   "cell_type": "markdown",
   "metadata": {},
   "source": [
    "**4.-** Dada una lista divide todos sus elementos entre 5 y muestralo por pantalla"
   ]
  },
  {
   "cell_type": "code",
   "execution_count": 83,
   "metadata": {},
   "outputs": [
    {
     "name": "stdout",
     "output_type": "stream",
     "text": [
      "[2.0, 3.0, 4.0, 5.0, 6.0, 7.0, 8.0, 9.0, 10.0]\n"
     ]
    }
   ],
   "source": [
    "a = [10,15,20,25,30,35,40,45,50]\n",
    "\n",
    "lista_entre_5 = []\n",
    "for i in a:\n",
    "    lista_entre_5.append(i/5)\n",
    "\n",
    "print(lista_entre_5)"
   ]
  },
  {
   "cell_type": "code",
   "execution_count": 84,
   "metadata": {},
   "outputs": [
    {
     "name": "stdout",
     "output_type": "stream",
     "text": [
      "[2.0, 3.0, 4.0, 5.0, 6.0, 7.0, 8.0, 9.0, 10.0]\n"
     ]
    }
   ],
   "source": [
    "# Cómo hacerlo con listas por comprensión:\n",
    "lista_entre_5 = [i/5 for i in a]\n",
    "print(lista_entre_5)"
   ]
  },
  {
   "attachments": {},
   "cell_type": "markdown",
   "metadata": {},
   "source": [
    "**5.-** Crea una función que compruebe si el primer y el último elemento de una lista son iguales."
   ]
  },
  {
   "cell_type": "code",
   "execution_count": 85,
   "metadata": {},
   "outputs": [],
   "source": [
    "def check(lista):\n",
    "    return lista[0] == lista[-1]"
   ]
  },
  {
   "attachments": {},
   "cell_type": "markdown",
   "metadata": {},
   "source": [
    "**6.-** Devuelve cuantas veces aparece la palabra \"por\" en el string"
   ]
  },
  {
   "cell_type": "code",
   "execution_count": 86,
   "metadata": {},
   "outputs": [],
   "source": [
    "x_string = '''Por una mirada, un mundo,\n",
    "            por una sonrisa, un cielo,\n",
    "            por un beso… ¡yo no sé\n",
    "            qué te diera por un beso!'''"
   ]
  },
  {
   "cell_type": "code",
   "execution_count": 87,
   "metadata": {},
   "outputs": [
    {
     "data": {
      "text/plain": [
       "4"
      ]
     },
     "execution_count": 87,
     "metadata": {},
     "output_type": "execute_result"
    }
   ],
   "source": [
    "n_por = x_string.lower().count(\"por\")\n",
    "n_por"
   ]
  },
  {
   "attachments": {},
   "cell_type": "markdown",
   "metadata": {},
   "source": [
    "**7.-** Crea una función que dado un número entero devuelva este patrón\n",
    "```\n",
    "1\n",
    "22\n",
    "333\n",
    "4444\n",
    "55555\n",
    "```"
   ]
  },
  {
   "cell_type": "code",
   "execution_count": 88,
   "metadata": {},
   "outputs": [
    {
     "name": "stdout",
     "output_type": "stream",
     "text": [
      "1111111111111111111111\n"
     ]
    }
   ],
   "source": [
    "def repetir_cifras(numero):\n",
    "    return print(str(numero)*numero)\n",
    "\n",
    "repetir_cifras(11)"
   ]
  },
  {
   "attachments": {},
   "cell_type": "markdown",
   "metadata": {},
   "source": [
    "**8.-** Escribe una función que compruebe si un número es un palíndromo"
   ]
  },
  {
   "cell_type": "code",
   "execution_count": 89,
   "metadata": {},
   "outputs": [
    {
     "data": {
      "text/plain": [
       "True"
      ]
     },
     "execution_count": 89,
     "metadata": {},
     "output_type": "execute_result"
    }
   ],
   "source": [
    "def palindromo(numero):\n",
    "    return str(numero) == str(numero)[::-1]\n",
    "\n",
    "palindromo(12321)"
   ]
  },
  {
   "cell_type": "code",
   "execution_count": 90,
   "metadata": {},
   "outputs": [
    {
     "data": {
      "text/plain": [
       "True"
      ]
     },
     "execution_count": 90,
     "metadata": {},
     "output_type": "execute_result"
    }
   ],
   "source": [
    "def palindromo2(numero):\n",
    "    return str(numero) == \"\".join(reversed(str(numero)))\n",
    "\n",
    "palindromo2(12321)"
   ]
  },
  {
   "cell_type": "code",
   "execution_count": 91,
   "metadata": {},
   "outputs": [
    {
     "data": {
      "text/plain": [
       "True"
      ]
     },
     "execution_count": 91,
     "metadata": {},
     "output_type": "execute_result"
    }
   ],
   "source": [
    "def palindromo3(numero):\n",
    "    for i in range(len(str(numero))//2):\n",
    "        if str(numero)[i] != str(numero)[-1-i]:\n",
    "            return False\n",
    "    return True\n",
    "\n",
    "palindromo3(12321)"
   ]
  },
  {
   "attachments": {},
   "cell_type": "markdown",
   "metadata": {},
   "source": [
    "**9.-** Escribe una lista a partir de otras 2 lista cumpliendo las siguientes condiciones:\n",
    "- Cogemos los números pares de la lista 1\n",
    "- Cogemos los números impares de la lista 2\n",
    "\n",
    "```\n",
    "lista_1 = [20,25,30,45,80]\n",
    "lista_2 = [2,4,5,6,7]\n",
    ">>>>>>>>>\n",
    "lista_resultado = [20,30,80,5,7]\n",
    "```"
   ]
  },
  {
   "cell_type": "code",
   "execution_count": 92,
   "metadata": {},
   "outputs": [
    {
     "data": {
      "text/plain": [
       "[20, 30, 80, 5, 7]"
      ]
     },
     "execution_count": 92,
     "metadata": {},
     "output_type": "execute_result"
    }
   ],
   "source": [
    "lista_1 = [20,25,30,45,80]\n",
    "lista_2 = [2,4,5,6,7]\n",
    "\n",
    "lista_resultado = []\n",
    "\n",
    "for i in lista_1:\n",
    "    if i%2 == 0:\n",
    "        lista_resultado.append(i)\n",
    "\n",
    "for x in lista_2:\n",
    "    if x%2 != 0:\n",
    "        lista_resultado.append(x)\n",
    "\n",
    "\n",
    "lista_resultado"
   ]
  },
  {
   "cell_type": "code",
   "execution_count": 93,
   "metadata": {},
   "outputs": [
    {
     "name": "stdout",
     "output_type": "stream",
     "text": [
      "[20, 30, 80, 5, 7]\n"
     ]
    }
   ],
   "source": [
    "# Otra forma de hacerlo:\n",
    "lista_resultado = [x for x in lista_1 if x%2 == 0] + [x for x in lista_2 if x%2 != 0]\n",
    "print(lista_resultado)"
   ]
  },
  {
   "attachments": {},
   "cell_type": "markdown",
   "metadata": {},
   "source": [
    "**10.-** Crea una función que calcule el sueldo  después de impuestos y que porcentaje se paga del mismo, basate en las siguientes reglas:\n",
    "- Primer tramo hasta 12450 euros en el que se paga un 19%.\n",
    "- Segundo tramo hasta 20200 euros con tipo del 24%\n",
    "- Tercer tramo hasta 35200 euros con un 30%.\n",
    "- Cuarto tramo hasta 60000 euros con un 37%\n",
    "- Quinto tramo hasta 300000 euros con un 45%\n",
    "- Sexto tramo a partir de 300000 euros de 47%.\n",
    "\n",
    "Ejemplo de cálculo: persona que cobra 30000€:\n",
    "-  12450*(0.19)+(20200-12450)* (0.24)+(30000-20200) *(0.30)\n",
    "- Total a pagar : 7165.5 (~24%)"
   ]
  },
  {
   "cell_type": "code",
   "execution_count": 94,
   "metadata": {},
   "outputs": [
    {
     "name": "stdout",
     "output_type": "stream",
     "text": [
      "Sobre un salario de 30000€, se paga 7165.5€ de impuestos. Un 23.89% del salario.\n"
     ]
    },
    {
     "data": {
      "text/plain": [
       "7165.5"
      ]
     },
     "execution_count": 94,
     "metadata": {},
     "output_type": "execute_result"
    }
   ],
   "source": [
    "tramos = [12450, 20200, 35200, 60000, 300000]\n",
    "porcentajes = [0.19, 0.24, 0.30, 0.37, 0.45, 0.47]\n",
    "\n",
    "def calcular_impuesto(salario):\n",
    "    impuesto_pagado = 0\n",
    "    \n",
    "    for tramo in range(len(tramos)):\n",
    "        \n",
    "        if salario > tramos[tramo]:\n",
    "            dinero_tramo = tramos[tramo] - tramos[tramo-1]*bool(tramo)\n",
    "            impuesto_tramo = dinero_tramo*porcentajes[tramo]\n",
    "            impuesto_pagado += impuesto_tramo\n",
    "        \n",
    "        else:\n",
    "            impuesto_pagado += (salario - tramos[tramo-1]*bool(tramo))*porcentajes[tramo]\n",
    "            break\n",
    "    print(f\"Sobre un salario de {salario}€, se paga {impuesto_pagado}€ de impuestos. Un {round(impuesto_pagado/salario*100, 2)}% del salario.\")\n",
    "    return impuesto_pagado\n",
    "\n",
    "calcular_impuesto(30000)\n",
    "            "
   ]
  },
  {
   "attachments": {},
   "cell_type": "markdown",
   "metadata": {},
   "source": [
    "**10-b** Usa la función anterior"
   ]
  },
  {
   "cell_type": "code",
   "execution_count": 95,
   "metadata": {},
   "outputs": [
    {
     "name": "stdout",
     "output_type": "stream",
     "text": [
      "Sobre un salario de 8000€, se paga 1520.0€ de impuestos. Un 19.0% del salario.\n"
     ]
    },
    {
     "data": {
      "text/plain": [
       "1520.0"
      ]
     },
     "execution_count": 95,
     "metadata": {},
     "output_type": "execute_result"
    }
   ],
   "source": [
    "calcular_impuesto(8000)"
   ]
  },
  {
   "attachments": {},
   "cell_type": "markdown",
   "metadata": {},
   "source": [
    "**11.-** Genera un código al que le podamos pasar un string de cualquier longitud, separe el string en palabras y luego nos imprima por pantalla aquellas ‘palabras’ que en realidad sean números. Utiliza el siguiente string:\n",
    "\n",
    "***“01 In the beginning the Universe was created. 02 This had made many people very angry 03 and has been widely regarded as a bad move.”***"
   ]
  },
  {
   "cell_type": "code",
   "execution_count": 96,
   "metadata": {},
   "outputs": [],
   "source": [
    "string = \"01 In the beginning the Universe was created. 02 This had made many people very angry 03 and has been widely regarded as a bad move.\""
   ]
  },
  {
   "cell_type": "code",
   "execution_count": 97,
   "metadata": {},
   "outputs": [
    {
     "data": {
      "text/plain": [
       "[1, 2, 3]"
      ]
     },
     "execution_count": 97,
     "metadata": {},
     "output_type": "execute_result"
    }
   ],
   "source": [
    "def separar_numeros(string):\n",
    "    lista_numeros = []\n",
    "    for i in string.split():\n",
    "        if i.isdigit():\n",
    "            lista_numeros.append(int(i))\n",
    "    return lista_numeros\n",
    "\n",
    "separar_numeros(string)"
   ]
  },
  {
   "cell_type": "code",
   "execution_count": 98,
   "metadata": {},
   "outputs": [
    {
     "name": "stdout",
     "output_type": "stream",
     "text": [
      "1.0\n",
      "2.0\n",
      "3.0\n"
     ]
    }
   ],
   "source": [
    "# Método 2:\n",
    "string_numeros2 = []\n",
    "\n",
    "for item in string.split():\n",
    "  try:\n",
    "    float(item)\n",
    "    print(float(item))\n",
    "    string_numeros2.append(float(item))\n",
    "  except:\n",
    "      continue"
   ]
  },
  {
   "attachments": {},
   "cell_type": "markdown",
   "metadata": {},
   "source": [
    "**12.-** A veces necesitamos tener vectores o listas que sean de una longitud concreta. Crea una **función** a la que le pases una lista (vacía o con elementos), un número que represente la longitud deseada y un elemento que sea el valor con el que ‘rellenar’ hasta la longitud deseada."
   ]
  },
  {
   "cell_type": "code",
   "execution_count": 99,
   "metadata": {},
   "outputs": [
    {
     "data": {
      "text/plain": [
       "[1, 2, 3, 4, 5, 0, 0, 0, 0, 0]"
      ]
     },
     "execution_count": 99,
     "metadata": {},
     "output_type": "execute_result"
    }
   ],
   "source": [
    "def padding_lista(lista, longitud_obj, obj_relleno):\n",
    "    len_lista = len(lista)\n",
    "    lista = lista.copy()\n",
    "    if len_lista >= longitud_obj:\n",
    "        print('La lista es más larga que nuestro objetivo!')\n",
    "        return None\n",
    "\n",
    "    espacios_restantes = longitud_obj - len_lista\n",
    "\n",
    "    for pad in range(espacios_restantes):\n",
    "        lista.append(obj_relleno)\n",
    "    \n",
    "    return lista\n",
    "\n",
    "lista = [1, 2, 3, 4, 5]\n",
    "padding_lista(lista, 10, 0)"
   ]
  },
  {
   "attachments": {},
   "cell_type": "markdown",
   "metadata": {},
   "source": [
    "**12.-b** Modifica la función anterior para poder elegir si introducimos el relleno antes o después de la lista proporcionada:"
   ]
  },
  {
   "cell_type": "code",
   "execution_count": 100,
   "metadata": {},
   "outputs": [
    {
     "data": {
      "text/plain": [
       "[0, 0, 0, 0, 0, 1, 2, 3, 4, 5]"
      ]
     },
     "execution_count": 100,
     "metadata": {},
     "output_type": "execute_result"
    }
   ],
   "source": [
    "def padding_lista_v2(lista, longitud_obj, obj_relleno, pad_final=True):\n",
    "    len_lista = len(lista)\n",
    "    lista = lista.copy()\n",
    "    if len_lista >= longitud_obj:\n",
    "        print('La lista es más larga que nuestro objetivo!')\n",
    "        return None\n",
    "\n",
    "    espacios_restantes = longitud_obj - len_lista\n",
    "\n",
    "    if pad_final:\n",
    "        for pad in range(espacios_restantes):\n",
    "            lista.append(obj_relleno)\n",
    "    elif not pad_final:\n",
    "        for pad in range(espacios_restantes):\n",
    "            lista.insert(0, obj_relleno)\n",
    "    \n",
    "    return lista\n",
    "\n",
    "lista = [1, 2, 3, 4, 5]\n",
    "padding_lista_v2(lista, 10, 0, pad_final=False)"
   ]
  },
  {
   "attachments": {},
   "cell_type": "markdown",
   "metadata": {},
   "source": [
    "**13.-** Crea una función que dado un número te devuelva una lista con todos los números enteros positivos impares hasta dicho número pero que:\n",
    "- No incluya los números divisibles por 7.\n",
    "- No incluya los números capicúa pero sí los números en los que todas las cifras sean iguales (ej. 33 pero no 121)\n"
   ]
  },
  {
   "cell_type": "code",
   "execution_count": 101,
   "metadata": {},
   "outputs": [
    {
     "data": {
      "text/plain": [
       "[1,\n",
       " 3,\n",
       " 5,\n",
       " 9,\n",
       " 11,\n",
       " 13,\n",
       " 15,\n",
       " 17,\n",
       " 19,\n",
       " 23,\n",
       " 25,\n",
       " 27,\n",
       " 29,\n",
       " 31,\n",
       " 33,\n",
       " 37,\n",
       " 39,\n",
       " 41,\n",
       " 43,\n",
       " 45,\n",
       " 47,\n",
       " 51,\n",
       " 53,\n",
       " 55,\n",
       " 57,\n",
       " 59,\n",
       " 61,\n",
       " 65,\n",
       " 67,\n",
       " 69,\n",
       " 71,\n",
       " 73,\n",
       " 75,\n",
       " 79,\n",
       " 81,\n",
       " 83,\n",
       " 85,\n",
       " 87,\n",
       " 89,\n",
       " 93,\n",
       " 95,\n",
       " 97,\n",
       " 99,\n",
       " 103,\n",
       " 107,\n",
       " 109,\n",
       " 111,\n",
       " 113,\n",
       " 115,\n",
       " 117,\n",
       " 123,\n",
       " 125,\n",
       " 127,\n",
       " 129,\n",
       " 135,\n",
       " 137,\n",
       " 139,\n",
       " 143,\n",
       " 145,\n",
       " 149,\n",
       " 153,\n",
       " 155,\n",
       " 157,\n",
       " 159,\n",
       " 163,\n",
       " 165,\n",
       " 167,\n",
       " 169,\n",
       " 173,\n",
       " 177,\n",
       " 179,\n",
       " 183,\n",
       " 185,\n",
       " 187,\n",
       " 193,\n",
       " 195,\n",
       " 197,\n",
       " 199,\n",
       " 201,\n",
       " 205,\n",
       " 207,\n",
       " 209,\n",
       " 211,\n",
       " 213,\n",
       " 215,\n",
       " 219,\n",
       " 221,\n",
       " 223,\n",
       " 225,\n",
       " 227,\n",
       " 229,\n",
       " 233,\n",
       " 235,\n",
       " 237,\n",
       " 239,\n",
       " 241,\n",
       " 243,\n",
       " 247,\n",
       " 249,\n",
       " 251,\n",
       " 253,\n",
       " 255,\n",
       " 257,\n",
       " 261,\n",
       " 263,\n",
       " 265,\n",
       " 267,\n",
       " 269,\n",
       " 271,\n",
       " 275,\n",
       " 277,\n",
       " 279,\n",
       " 281,\n",
       " 283,\n",
       " 285,\n",
       " 289,\n",
       " 291,\n",
       " 293,\n",
       " 295,\n",
       " 297,\n",
       " 299,\n",
       " 305,\n",
       " 307,\n",
       " 309,\n",
       " 311,\n",
       " 317,\n",
       " 319,\n",
       " 321,\n",
       " 325,\n",
       " 327,\n",
       " 331,\n",
       " 333,\n",
       " 335,\n",
       " 337,\n",
       " 339,\n",
       " 341,\n",
       " 345,\n",
       " 347,\n",
       " 349,\n",
       " 351,\n",
       " 355,\n",
       " 359,\n",
       " 361,\n",
       " 365,\n",
       " 367,\n",
       " 369,\n",
       " 375,\n",
       " 377,\n",
       " 379,\n",
       " 381,\n",
       " 387,\n",
       " 389,\n",
       " 391,\n",
       " 395,\n",
       " 397,\n",
       " 401,\n",
       " 403,\n",
       " 405,\n",
       " 407,\n",
       " 409,\n",
       " 411,\n",
       " 415,\n",
       " 417,\n",
       " 419,\n",
       " 421,\n",
       " 423,\n",
       " 425,\n",
       " 429,\n",
       " 431,\n",
       " 433,\n",
       " 435,\n",
       " 437,\n",
       " 439,\n",
       " 443,\n",
       " 445,\n",
       " 447,\n",
       " 449,\n",
       " 451,\n",
       " 453,\n",
       " 457,\n",
       " 459,\n",
       " 461,\n",
       " 463,\n",
       " 465,\n",
       " 467,\n",
       " 471,\n",
       " 473,\n",
       " 475,\n",
       " 477,\n",
       " 479,\n",
       " 481,\n",
       " 485,\n",
       " 487,\n",
       " 489,\n",
       " 491,\n",
       " 493,\n",
       " 495,\n",
       " 499,\n",
       " 501,\n",
       " 503,\n",
       " 507,\n",
       " 509,\n",
       " 513,\n",
       " 517,\n",
       " 519,\n",
       " 521,\n",
       " 523,\n",
       " 527,\n",
       " 529,\n",
       " 531,\n",
       " 533,\n",
       " 537,\n",
       " 541,\n",
       " 543,\n",
       " 547,\n",
       " 549,\n",
       " 551,\n",
       " 555,\n",
       " 557,\n",
       " 559,\n",
       " 561,\n",
       " 563,\n",
       " 569,\n",
       " 571,\n",
       " 573,\n",
       " 577,\n",
       " 579,\n",
       " 583,\n",
       " 587,\n",
       " 589,\n",
       " 591,\n",
       " 593,\n",
       " 597,\n",
       " 599,\n",
       " 601,\n",
       " 603,\n",
       " 605,\n",
       " 607,\n",
       " 611,\n",
       " 613,\n",
       " 615,\n",
       " 617,\n",
       " 619,\n",
       " 621,\n",
       " 625,\n",
       " 627,\n",
       " 629,\n",
       " 631,\n",
       " 633,\n",
       " 635,\n",
       " 639,\n",
       " 641,\n",
       " 643,\n",
       " 645,\n",
       " 647,\n",
       " 649,\n",
       " 653,\n",
       " 655,\n",
       " 657,\n",
       " 659,\n",
       " 661,\n",
       " 663,\n",
       " 667,\n",
       " 669,\n",
       " 671,\n",
       " 673,\n",
       " 675,\n",
       " 677,\n",
       " 681,\n",
       " 683,\n",
       " 685,\n",
       " 687,\n",
       " 689,\n",
       " 691,\n",
       " 695,\n",
       " 697,\n",
       " 699,\n",
       " 701,\n",
       " 703,\n",
       " 705,\n",
       " 709,\n",
       " 711,\n",
       " 713,\n",
       " 715,\n",
       " 719,\n",
       " 723,\n",
       " 725,\n",
       " 729,\n",
       " 731,\n",
       " 733,\n",
       " 739,\n",
       " 741,\n",
       " 743,\n",
       " 745,\n",
       " 751,\n",
       " 753,\n",
       " 755,\n",
       " 759,\n",
       " 761,\n",
       " 765,\n",
       " 769,\n",
       " 771,\n",
       " 773,\n",
       " 775,\n",
       " 779,\n",
       " 781,\n",
       " 783,\n",
       " 785,\n",
       " 789,\n",
       " 793,\n",
       " 795,\n",
       " 799,\n",
       " 801,\n",
       " 803,\n",
       " 807,\n",
       " 809,\n",
       " 811,\n",
       " 813,\n",
       " 815,\n",
       " 817,\n",
       " 821,\n",
       " 823,\n",
       " 825,\n",
       " 827,\n",
       " 829,\n",
       " 831,\n",
       " 835,\n",
       " 837,\n",
       " 839,\n",
       " 841,\n",
       " 843,\n",
       " 845,\n",
       " 849,\n",
       " 851,\n",
       " 853,\n",
       " 855,\n",
       " 857,\n",
       " 859,\n",
       " 863,\n",
       " 865,\n",
       " 867,\n",
       " 869,\n",
       " 871,\n",
       " 873,\n",
       " 877,\n",
       " 879,\n",
       " 881,\n",
       " 883,\n",
       " 885,\n",
       " 887,\n",
       " 891,\n",
       " 893,\n",
       " 895,\n",
       " 897,\n",
       " 899,\n",
       " 901,\n",
       " 905,\n",
       " 907,\n",
       " 911,\n",
       " 913,\n",
       " 915,\n",
       " 921,\n",
       " 923,\n",
       " 925,\n",
       " 927,\n",
       " 933,\n",
       " 935,\n",
       " 937,\n",
       " 941,\n",
       " 943,\n",
       " 947,\n",
       " 951,\n",
       " 953,\n",
       " 955,\n",
       " 957,\n",
       " 961,\n",
       " 963,\n",
       " 965,\n",
       " 967,\n",
       " 971,\n",
       " 975,\n",
       " 977,\n",
       " 981,\n",
       " 983,\n",
       " 985,\n",
       " 991,\n",
       " 993,\n",
       " 995,\n",
       " 997,\n",
       " 999]"
      ]
     },
     "execution_count": 101,
     "metadata": {},
     "output_type": "execute_result"
    }
   ],
   "source": [
    "def lista_condiciones(numero):\n",
    "    lista = []\n",
    "    \n",
    "    # Bucle que recorre números impares:\n",
    "    for i in range(1, numero+1, 2):\n",
    "        # Si es divisible entre 7, lo saltamos:\n",
    "        if i%7 == 0:\n",
    "            continue\n",
    "        \n",
    "        # Si es capicúa, depende:\n",
    "        elif str(i) == str(i)[::-1]:\n",
    "            # Si todas las cifras son iguales, lo añadimos:\n",
    "            check = [x == str(i)[0] for x in str(i)]\n",
    "            if False in check:\n",
    "                continue\n",
    "            else:\n",
    "                lista.append(i)\n",
    "        # Si no es capicúa, lo añadimos:\n",
    "        else:\n",
    "            lista.append(i)\n",
    "    return lista\n",
    "\n",
    "lista_condiciones(1000)"
   ]
  }
 ],
 "metadata": {
  "kernelspec": {
   "display_name": "Python 3.8.8 ('base')",
   "language": "python",
   "name": "python3"
  },
  "language_info": {
   "codemirror_mode": {
    "name": "ipython",
    "version": 3
   },
   "file_extension": ".py",
   "mimetype": "text/x-python",
   "name": "python",
   "nbconvert_exporter": "python",
   "pygments_lexer": "ipython3",
   "version": "3.10.10"
  },
  "orig_nbformat": 4,
  "vscode": {
   "interpreter": {
    "hash": "3a2a03ea413f8be244ba01daf0e257f98f0dabeb03c7836e7000a0f3738aa8c9"
   }
  }
 },
 "nbformat": 4,
 "nbformat_minor": 2
}
