{
 "cells": [
  {
   "attachments": {},
   "cell_type": "markdown",
   "metadata": {},
   "source": [
    "# **7.2 SKLEARN Basics:**\n",
    "## Datos -  Módulos - Hiperparámetros - Under y Overfit - Métricas básicas"
   ]
  },
  {
   "cell_type": "code",
   "execution_count": 1,
   "metadata": {},
   "outputs": [],
   "source": [
    "import sklearn\n",
    "import pandas as pd \n",
    "import numpy as np\n",
    "import matplotlib.pyplot as plt"
   ]
  },
  {
   "attachments": {},
   "cell_type": "markdown",
   "metadata": {},
   "source": [
    "## **A - Datos en SKLEARN**"
   ]
  },
  {
   "attachments": {},
   "cell_type": "markdown",
   "metadata": {},
   "source": [
    "<font size = 5> SkLearn nos proporciona múltiples datasets para que podamos entrenar con ellos:"
   ]
  },
  {
   "cell_type": "code",
   "execution_count": 2,
   "metadata": {},
   "outputs": [],
   "source": [
    "from sklearn import datasets\n",
    "iris = datasets.load_iris() # Datos etiquetados sobre flores\n",
    "b_cancer = datasets.load_breast_cancer() # Datos etiquetados sobre cancer de mama\n",
    "digits = datasets.load_digits() # Datos etiquetados sobre digitos escritos a mano\n",
    "diabetes = datasets.load_diabetes() # Datos etiquetados sobre diabetes\n",
    "vinos = datasets.load_wine() # Datos etiquetados sobre vinos"
   ]
  },
  {
   "attachments": {},
   "cell_type": "markdown",
   "metadata": {},
   "source": [
    "<font size = 5>\n",
    "\n",
    "Los datasets siempre vienen en la forma de un **diccionario** donde los datos suelen encontrarse en la forma de listas o arrays de numpy.\n",
    "\n",
    "Los dos componentes más importantes son las **Características** (lo que se usa como *input*, *features en inglés*) y las **Etiquetas**. (los *outputs*, *target* o *label* en inglés).\n",
    "\n",
    "Lógicamente los datasets pensados para entrenamientos de aprendizaje no supervisado no cuentan con etiquetas.\n",
    "\n",
    "Suelen contener una descripción detallada en la key ***'DESCR'***:"
   ]
  },
  {
   "cell_type": "code",
   "execution_count": 48,
   "metadata": {},
   "outputs": [
    {
     "name": "stdout",
     "output_type": "stream",
     "text": [
      ".. _wine_dataset:\n",
      "\n",
      "Wine recognition dataset\n",
      "------------------------\n",
      "\n",
      "**Data Set Characteristics:**\n",
      "\n",
      "    :Number of Instances: 178\n",
      "    :Number of Attributes: 13 numeric, predictive attributes and the class\n",
      "    :Attribute Information:\n",
      " \t\t- Alcohol\n",
      " \t\t- Malic acid\n",
      " \t\t- Ash\n",
      "\t\t- Alcalinity of ash  \n",
      " \t\t- Magnesium\n",
      "\t\t- Total phenols\n",
      " \t\t- Flavanoids\n",
      " \t\t- Nonflavanoid phenols\n",
      " \t\t- Proanthocyanins\n",
      "\t\t- Color intensity\n",
      " \t\t- Hue\n",
      " \t\t- OD280/OD315 of diluted wines\n",
      " \t\t- Proline\n",
      "\n",
      "    - class:\n",
      "            - class_0\n",
      "            - class_1\n",
      "            - class_2\n",
      "\t\t\n",
      "    :Summary Statistics:\n",
      "    \n",
      "    ============================= ==== ===== ======= =====\n",
      "                                   Min   Max   Mean     SD\n",
      "    ============================= ==== ===== ======= =====\n",
      "    Alcohol:                      11.0  14.8    13.0   0.8\n",
      "    Malic Acid:                   0.74  5.80    2.34  1.12\n",
      "    Ash:                          1.36  3.23    2.36  0.27\n",
      "    Alcalinity of Ash:            10.6  30.0    19.5   3.3\n",
      "    Magnesium:                    70.0 162.0    99.7  14.3\n",
      "    Total Phenols:                0.98  3.88    2.29  0.63\n",
      "    Flavanoids:                   0.34  5.08    2.03  1.00\n",
      "    Nonflavanoid Phenols:         0.13  0.66    0.36  0.12\n",
      "    Proanthocyanins:              0.41  3.58    1.59  0.57\n",
      "    Colour Intensity:              1.3  13.0     5.1   2.3\n",
      "    Hue:                          0.48  1.71    0.96  0.23\n",
      "    OD280/OD315 of diluted wines: 1.27  4.00    2.61  0.71\n",
      "    Proline:                       278  1680     746   315\n",
      "    ============================= ==== ===== ======= =====\n",
      "\n",
      "    :Missing Attribute Values: None\n",
      "    :Class Distribution: class_0 (59), class_1 (71), class_2 (48)\n",
      "    :Creator: R.A. Fisher\n",
      "    :Donor: Michael Marshall (MARSHALL%PLU@io.arc.nasa.gov)\n",
      "    :Date: July, 1988\n",
      "\n",
      "This is a copy of UCI ML Wine recognition datasets.\n",
      "https://archive.ics.uci.edu/ml/machine-learning-databases/wine/wine.data\n",
      "\n",
      "The data is the results of a chemical analysis of wines grown in the same\n",
      "region in Italy by three different cultivators. There are thirteen different\n",
      "measurements taken for different constituents found in the three types of\n",
      "wine.\n",
      "\n",
      "Original Owners: \n",
      "\n",
      "Forina, M. et al, PARVUS - \n",
      "An Extendible Package for Data Exploration, Classification and Correlation. \n",
      "Institute of Pharmaceutical and Food Analysis and Technologies,\n",
      "Via Brigata Salerno, 16147 Genoa, Italy.\n",
      "\n",
      "Citation:\n",
      "\n",
      "Lichman, M. (2013). UCI Machine Learning Repository\n",
      "[https://archive.ics.uci.edu/ml]. Irvine, CA: University of California,\n",
      "School of Information and Computer Science. \n",
      "\n",
      ".. topic:: References\n",
      "\n",
      "  (1) S. Aeberhard, D. Coomans and O. de Vel, \n",
      "  Comparison of Classifiers in High Dimensional Settings, \n",
      "  Tech. Rep. no. 92-02, (1992), Dept. of Computer Science and Dept. of  \n",
      "  Mathematics and Statistics, James Cook University of North Queensland. \n",
      "  (Also submitted to Technometrics). \n",
      "\n",
      "  The data was used with many others for comparing various \n",
      "  classifiers. The classes are separable, though only RDA \n",
      "  has achieved 100% correct classification. \n",
      "  (RDA : 100%, QDA 99.4%, LDA 98.9%, 1NN 96.1% (z-transformed data)) \n",
      "  (All results using the leave-one-out technique) \n",
      "\n",
      "  (2) S. Aeberhard, D. Coomans and O. de Vel, \n",
      "  \"THE CLASSIFICATION PERFORMANCE OF RDA\" \n",
      "  Tech. Rep. no. 92-01, (1992), Dept. of Computer Science and Dept. of \n",
      "  Mathematics and Statistics, James Cook University of North Queensland. \n",
      "  (Also submitted to Journal of Chemometrics).\n",
      "\n"
     ]
    }
   ],
   "source": [
    "print(vinos.DESCR)"
   ]
  },
  {
   "attachments": {},
   "cell_type": "markdown",
   "metadata": {},
   "source": [
    "<font size = 5> Para visualizar es mejor un dataframe. Tenemos los datos en un array de numpy ***'data'*** y los nombres de los parámetros en una lista ***'feature_names'***"
   ]
  },
  {
   "cell_type": "code",
   "execution_count": 3,
   "metadata": {},
   "outputs": [
    {
     "data": {
      "text/html": [
       "<div>\n",
       "<style scoped>\n",
       "    .dataframe tbody tr th:only-of-type {\n",
       "        vertical-align: middle;\n",
       "    }\n",
       "\n",
       "    .dataframe tbody tr th {\n",
       "        vertical-align: top;\n",
       "    }\n",
       "\n",
       "    .dataframe thead th {\n",
       "        text-align: right;\n",
       "    }\n",
       "</style>\n",
       "<table border=\"1\" class=\"dataframe\">\n",
       "  <thead>\n",
       "    <tr style=\"text-align: right;\">\n",
       "      <th></th>\n",
       "      <th>alcohol</th>\n",
       "      <th>malic_acid</th>\n",
       "      <th>ash</th>\n",
       "      <th>alcalinity_of_ash</th>\n",
       "      <th>magnesium</th>\n",
       "      <th>total_phenols</th>\n",
       "      <th>flavanoids</th>\n",
       "      <th>nonflavanoid_phenols</th>\n",
       "      <th>proanthocyanins</th>\n",
       "      <th>color_intensity</th>\n",
       "      <th>hue</th>\n",
       "      <th>od280/od315_of_diluted_wines</th>\n",
       "      <th>proline</th>\n",
       "    </tr>\n",
       "  </thead>\n",
       "  <tbody>\n",
       "    <tr>\n",
       "      <th>0</th>\n",
       "      <td>14.23</td>\n",
       "      <td>1.71</td>\n",
       "      <td>2.43</td>\n",
       "      <td>15.6</td>\n",
       "      <td>127.0</td>\n",
       "      <td>2.80</td>\n",
       "      <td>3.06</td>\n",
       "      <td>0.28</td>\n",
       "      <td>2.29</td>\n",
       "      <td>5.64</td>\n",
       "      <td>1.04</td>\n",
       "      <td>3.92</td>\n",
       "      <td>1065.0</td>\n",
       "    </tr>\n",
       "    <tr>\n",
       "      <th>1</th>\n",
       "      <td>13.20</td>\n",
       "      <td>1.78</td>\n",
       "      <td>2.14</td>\n",
       "      <td>11.2</td>\n",
       "      <td>100.0</td>\n",
       "      <td>2.65</td>\n",
       "      <td>2.76</td>\n",
       "      <td>0.26</td>\n",
       "      <td>1.28</td>\n",
       "      <td>4.38</td>\n",
       "      <td>1.05</td>\n",
       "      <td>3.40</td>\n",
       "      <td>1050.0</td>\n",
       "    </tr>\n",
       "    <tr>\n",
       "      <th>2</th>\n",
       "      <td>13.16</td>\n",
       "      <td>2.36</td>\n",
       "      <td>2.67</td>\n",
       "      <td>18.6</td>\n",
       "      <td>101.0</td>\n",
       "      <td>2.80</td>\n",
       "      <td>3.24</td>\n",
       "      <td>0.30</td>\n",
       "      <td>2.81</td>\n",
       "      <td>5.68</td>\n",
       "      <td>1.03</td>\n",
       "      <td>3.17</td>\n",
       "      <td>1185.0</td>\n",
       "    </tr>\n",
       "    <tr>\n",
       "      <th>3</th>\n",
       "      <td>14.37</td>\n",
       "      <td>1.95</td>\n",
       "      <td>2.50</td>\n",
       "      <td>16.8</td>\n",
       "      <td>113.0</td>\n",
       "      <td>3.85</td>\n",
       "      <td>3.49</td>\n",
       "      <td>0.24</td>\n",
       "      <td>2.18</td>\n",
       "      <td>7.80</td>\n",
       "      <td>0.86</td>\n",
       "      <td>3.45</td>\n",
       "      <td>1480.0</td>\n",
       "    </tr>\n",
       "    <tr>\n",
       "      <th>4</th>\n",
       "      <td>13.24</td>\n",
       "      <td>2.59</td>\n",
       "      <td>2.87</td>\n",
       "      <td>21.0</td>\n",
       "      <td>118.0</td>\n",
       "      <td>2.80</td>\n",
       "      <td>2.69</td>\n",
       "      <td>0.39</td>\n",
       "      <td>1.82</td>\n",
       "      <td>4.32</td>\n",
       "      <td>1.04</td>\n",
       "      <td>2.93</td>\n",
       "      <td>735.0</td>\n",
       "    </tr>\n",
       "  </tbody>\n",
       "</table>\n",
       "</div>"
      ],
      "text/plain": [
       "   alcohol  malic_acid   ash  alcalinity_of_ash  magnesium  total_phenols   \n",
       "0    14.23        1.71  2.43               15.6      127.0           2.80  \\\n",
       "1    13.20        1.78  2.14               11.2      100.0           2.65   \n",
       "2    13.16        2.36  2.67               18.6      101.0           2.80   \n",
       "3    14.37        1.95  2.50               16.8      113.0           3.85   \n",
       "4    13.24        2.59  2.87               21.0      118.0           2.80   \n",
       "\n",
       "   flavanoids  nonflavanoid_phenols  proanthocyanins  color_intensity   hue   \n",
       "0        3.06                  0.28             2.29             5.64  1.04  \\\n",
       "1        2.76                  0.26             1.28             4.38  1.05   \n",
       "2        3.24                  0.30             2.81             5.68  1.03   \n",
       "3        3.49                  0.24             2.18             7.80  0.86   \n",
       "4        2.69                  0.39             1.82             4.32  1.04   \n",
       "\n",
       "   od280/od315_of_diluted_wines  proline  \n",
       "0                          3.92   1065.0  \n",
       "1                          3.40   1050.0  \n",
       "2                          3.17   1185.0  \n",
       "3                          3.45   1480.0  \n",
       "4                          2.93    735.0  "
      ]
     },
     "execution_count": 3,
     "metadata": {},
     "output_type": "execute_result"
    }
   ],
   "source": [
    "import pandas as pd\n",
    "pd.DataFrame(vinos.data, columns=vinos.feature_names).head()"
   ]
  },
  {
   "cell_type": "code",
   "execution_count": 4,
   "metadata": {},
   "outputs": [
    {
     "data": {
      "text/html": [
       "<div>\n",
       "<style scoped>\n",
       "    .dataframe tbody tr th:only-of-type {\n",
       "        vertical-align: middle;\n",
       "    }\n",
       "\n",
       "    .dataframe tbody tr th {\n",
       "        vertical-align: top;\n",
       "    }\n",
       "\n",
       "    .dataframe thead th {\n",
       "        text-align: right;\n",
       "    }\n",
       "</style>\n",
       "<table border=\"1\" class=\"dataframe\">\n",
       "  <thead>\n",
       "    <tr style=\"text-align: right;\">\n",
       "      <th></th>\n",
       "      <th>class_0</th>\n",
       "      <th>class_1</th>\n",
       "      <th>class_2</th>\n",
       "    </tr>\n",
       "  </thead>\n",
       "  <tbody>\n",
       "    <tr>\n",
       "      <th>1</th>\n",
       "      <td>59</td>\n",
       "      <td>71</td>\n",
       "      <td>48</td>\n",
       "    </tr>\n",
       "  </tbody>\n",
       "</table>\n",
       "</div>"
      ],
      "text/plain": [
       "   class_0  class_1  class_2\n",
       "1       59       71       48"
      ]
     },
     "execution_count": 4,
     "metadata": {},
     "output_type": "execute_result"
    }
   ],
   "source": [
    "# Representamos los targets como un dataframe:\n",
    "pd.DataFrame(np.unique(vinos.target, return_counts=True),\n",
    "             columns=vinos.target_names).drop(index=0).head()"
   ]
  },
  {
   "cell_type": "code",
   "execution_count": 5,
   "metadata": {},
   "outputs": [
    {
     "name": "stdout",
     "output_type": "stream",
     "text": [
      "(178, 13) (178,)\n"
     ]
    }
   ],
   "source": [
    "# Lógicamente, tanto las etiquetas como los datos tienen la misma longitud:\n",
    "print(vinos.data.shape, vinos.target.shape)"
   ]
  },
  {
   "attachments": {},
   "cell_type": "markdown",
   "metadata": {},
   "source": [
    "## **B - Módulos en SKLEARN**"
   ]
  },
  {
   "attachments": {},
   "cell_type": "markdown",
   "metadata": {},
   "source": [
    "<font size = 5>\n",
    "\n",
    "SKLEARN contiene todos sus algoritmos de resolución en diversos módulos que los agrupan. Por funcionamiento interno de SKLEARN, **estos módulos no son directamente accesibles desde el import inicial de la librería**, por lo que hemos de importar cada módulo que vayamos a usar.\n",
    "\n",
    "Por ejemplo, para utilizar un Support Vector Classifier podríamos usar el código *'sklearn.svm.SVC()'*. Esto nos dará error porque estamos utilizando el módulo 'svm' sin haberlo importado previamente. El código correcto es:\n",
    "```\n",
    "    from sklearn import svm\n",
    "    svm = sklearn.svm.SVC()\n",
    "```"
   ]
  },
  {
   "attachments": {},
   "cell_type": "markdown",
   "metadata": {},
   "source": [
    "<font size = 5>\n",
    "\n",
    "Algunos de los módulos más útiles y utilizados tanto en SKLEARN como fuera de la librería son:\n",
    "\n",
    "* **sklearn.preprocessing**: Amplio conjunto de herramientas ya preparadas para el tratamiento previo de los datos.\n",
    "\n",
    "* **sklearn.model_selection**: Conjunto de herramientas que permiten ayudar a adaptar los datos para un mejor uso en los modelos. Incluye funciones 'splitter' para separar los conjuntos de datos, métodos de optimización de hiperparámetros y otros aspectos.\n",
    "\n",
    "* **sklearn.metrics**: Conjunto de metodologías de evaluación que permiten analizar de manera precisa los resultados obtenidos."
   ]
  },
  {
   "attachments": {},
   "cell_type": "markdown",
   "metadata": {},
   "source": [
    "## **C - Ejemplo de Resolución:**"
   ]
  },
  {
   "attachments": {},
   "cell_type": "markdown",
   "metadata": {},
   "source": [
    "<font size = 5>\n",
    "\n",
    "Los algoritmos se crean como variables. Se inicializan y no tienen ningún conocimiento útil al principio:"
   ]
  },
  {
   "cell_type": "code",
   "execution_count": 6,
   "metadata": {},
   "outputs": [],
   "source": [
    "# Creamos varios clasificadores para el problema de los vinos:\n",
    "from sklearn import neighbors\n",
    "k_vecinos = sklearn.neighbors.KNeighborsClassifier()\n",
    "\n",
    "from sklearn import tree\n",
    "arbol = sklearn.tree.DecisionTreeClassifier()\n",
    "\n",
    "from sklearn import ensemble\n",
    "bosque = sklearn.ensemble.RandomForestClassifier()\n",
    "\n",
    "from sklearn import svm\n",
    "svm = sklearn.svm.SVC()"
   ]
  },
  {
   "attachments": {},
   "cell_type": "markdown",
   "metadata": {},
   "source": [
    "<font size = 5>\n",
    "\n",
    "Una vez inicializados, son los datos los que 'ajustan' ese algoritmo a encontrar la solución ('fit'):"
   ]
  },
  {
   "cell_type": "code",
   "execution_count": 7,
   "metadata": {},
   "outputs": [
    {
     "data": {
      "text/plain": [
       "0.7865168539325843"
      ]
     },
     "execution_count": 7,
     "metadata": {},
     "output_type": "execute_result"
    }
   ],
   "source": [
    "# Ajustamos los clasificadores a los datos:\n",
    "k_vecinos.fit(vinos.data, vinos.target)\n",
    "\n",
    "# Medimos la precisión del clasificador:\n",
    "# Precisión: Fracción de predicciones correctas\n",
    "k_vecinos.score(vinos.data, vinos.target)"
   ]
  },
  {
   "cell_type": "code",
   "execution_count": 8,
   "metadata": {},
   "outputs": [
    {
     "name": "stdout",
     "output_type": "stream",
     "text": [
      "0.7865168539325843 1.0 1.0 0.7078651685393258\n"
     ]
    }
   ],
   "source": [
    "# Miramos la precisión de los otros clasificadores:\n",
    "arbol.fit(vinos.data, vinos.target)\n",
    "bosque.fit(vinos.data, vinos.target)\n",
    "svm.fit(vinos.data, vinos.target);\n",
    "\n",
    "print(k_vecinos.score(vinos.data, vinos.target),\n",
    "      arbol.score(vinos.data, vinos.target),\n",
    "      bosque.score(vinos.data, vinos.target),\n",
    "      svm.score(vinos.data, vinos.target))"
   ]
  },
  {
   "cell_type": "code",
   "execution_count": 9,
   "metadata": {},
   "outputs": [
    {
     "name": "stdout",
     "output_type": "stream",
     "text": [
      "         class_0  class_1  class_2\n",
      "class_0       59        0        0\n",
      "class_1        0       71        0\n",
      "class_2        0        0       48 \n",
      "*Filas: Valor real\n",
      "*Columnas: Valor predicho\n"
     ]
    }
   ],
   "source": [
    "# Ejemplo de otra métrica: Matriz de confusión\n",
    "from sklearn import metrics\n",
    "confusion = pd.DataFrame(metrics.confusion_matrix(vinos.target, arbol.predict(vinos.data)),\n",
    "                         columns = vinos.target_names,\n",
    "                         index = vinos.target_names,\n",
    "                         )\n",
    "confusion.style.set_caption(\"Matriz de confusión\")\n",
    "\n",
    "print(confusion, '\\n*Filas: Valor real\\n*Columnas: Valor predicho')"
   ]
  },
  {
   "cell_type": "code",
   "execution_count": 79,
   "metadata": {},
   "outputs": [],
   "source": [
    "import matplotlib.pyplot as plt"
   ]
  },
  {
   "cell_type": "code",
   "execution_count": 89,
   "metadata": {},
   "outputs": [
    {
     "data": {
      "image/png": "[encoded data removed]",
      "text/plain": [
       "<Figure size 1500x1000 with 1 Axes>"
      ]
     },
     "metadata": {},
     "output_type": "display_data"
    }
   ],
   "source": [
    "# Ejemplo de otra métrica: Reporte de clasificación\n",
    "ax = plt.subplots(figsize=(15,10))\n",
    "sklearn.tree.plot_tree(bosque.estimators_[0], \n",
    "                       feature_names=vinos.feature_names,\n",
    "                       class_names=vinos.target_names,\n",
    "                       precision=2,\n",
    "                       fontsize=8);"
   ]
  },
  {
   "attachments": {},
   "cell_type": "markdown",
   "metadata": {},
   "source": [
    "## **D - Hiperparámetros**"
   ]
  },
  {
   "attachments": {},
   "cell_type": "markdown",
   "metadata": {},
   "source": [
    "<font size = 5>\n",
    "\n",
    "Es decir: los algoritmos tienen parámetros internos que se van modificando para ajustarse a la solución deseada.\n",
    "\n",
    "Sin embargo, **existen algunos parámetros que determinan aspectos de cada algoritmo y que no se modifican**, son conocidos como hiperparámetros y quedan fijados al inicializar el algoritmo.\n",
    "\n",
    "Podemos observarlos con ***'.get_params()'***."
   ]
  },
  {
   "cell_type": "code",
   "execution_count": 10,
   "metadata": {},
   "outputs": [
    {
     "data": {
      "text/plain": [
       "{'ccp_alpha': 0.0,\n",
       " 'class_weight': None,\n",
       " 'criterion': 'gini',\n",
       " 'max_depth': None,\n",
       " 'max_features': None,\n",
       " 'max_leaf_nodes': None,\n",
       " 'min_impurity_decrease': 0.0,\n",
       " 'min_samples_leaf': 1,\n",
       " 'min_samples_split': 2,\n",
       " 'min_weight_fraction_leaf': 0.0,\n",
       " 'random_state': None,\n",
       " 'splitter': 'best'}"
      ]
     },
     "execution_count": 10,
     "metadata": {},
     "output_type": "execute_result"
    }
   ],
   "source": [
    "arbol.get_params()"
   ]
  },
  {
   "cell_type": "code",
   "execution_count": 11,
   "metadata": {},
   "outputs": [
    {
     "data": {
      "text/plain": [
       "{'C': 1.0,\n",
       " 'break_ties': False,\n",
       " 'cache_size': 200,\n",
       " 'class_weight': None,\n",
       " 'coef0': 0.0,\n",
       " 'decision_function_shape': 'ovr',\n",
       " 'degree': 3,\n",
       " 'gamma': 'scale',\n",
       " 'kernel': 'rbf',\n",
       " 'max_iter': -1,\n",
       " 'probability': False,\n",
       " 'random_state': None,\n",
       " 'shrinking': True,\n",
       " 'tol': 0.001,\n",
       " 'verbose': False}"
      ]
     },
     "execution_count": 11,
     "metadata": {},
     "output_type": "execute_result"
    }
   ],
   "source": [
    "svm.get_params()"
   ]
  },
  {
   "attachments": {},
   "cell_type": "markdown",
   "metadata": {},
   "source": [
    "<font size = 5>\n",
    "\n",
    "Dependiendo de nuestros datos y nuestro problema hemos de hacer una decisión informada de los hiperparámetros a señalar, los cuales varían con cada algoritmo concreto. \n",
    "\n",
    "Por supuesto, cada algoritmo tiene descritos sus hiperparámetros de manera extensa en la documentación de la librería."
   ]
  },
  {
   "attachments": {},
   "cell_type": "markdown",
   "metadata": {},
   "source": [
    "## **E - Underfitting y Overfitting:**"
   ]
  },
  {
   "attachments": {},
   "cell_type": "markdown",
   "metadata": {},
   "source": [
    "<center><img src=\"./imgs/sphx_glr_plot_underfitting_overfitting_001.png\">"
   ]
  },
  {
   "attachments": {},
   "cell_type": "markdown",
   "metadata": {},
   "source": [
    "<font size = 5>\n",
    "\n",
    "Recordemos: lo que buscamos con los algoritmos es aproximar a la función que relaciona los datos con las etiquetas. **La información que subyace a los datos** es la que nos permite hacer predicciones sobre datos nuevos.\n",
    "\n",
    "Por lo tanto, **nuestro objetivo no es ajustar el modelo a los datos de entrenamiento, sino a la información que subyace a los datos de entrenamiento**.\n",
    "\n",
    "Llamamos **Underfitting** a la situación en la que el modelo no es capaz de capturar la información subyacente a los datos de entrenamiento. En este caso, el modelo no es capaz de hacer buenas predicciones ni sobre los datos de entrenamiento ni sobre datos nuevos.\n",
    "\n",
    "Llamamos **Overfitting** a la situación en la que el modelo se ajusta demasiado a los datos de entrenamiento, capturando incluso el ruido de los datos. En este caso, el modelo es capaz de hacer buenas predicciones sobre los datos de entrenamiento (se los aprende 'de memoria'), pero no sobre datos nuevos.\n",
    "\n",
    "La selección de hiperparámetros es clave para evitar estos escenarios."
   ]
  },
  {
   "attachments": {},
   "cell_type": "markdown",
   "metadata": {},
   "source": [
    "## **F - La importancia de tener sets de datos separados para entrenamiento y testeo:**"
   ]
  },
  {
   "attachments": {},
   "cell_type": "markdown",
   "metadata": {},
   "source": [
    "<font size = 5>\n",
    "\n",
    "De lo anterior se deriva que no tiene demasiado sentido medir la bondad de un algoritmo usando los mismos datos que se le han enseñado para entrenar. \n",
    "\n",
    "Lo importante es cómo se comporta el algoritmo frente a datos que no ha observado nunca. \n",
    "\n",
    "**Por lo tanto necesitamos al menos dos sets de datos: entrenamiento y test**"
   ]
  },
  {
   "cell_type": "code",
   "execution_count": 12,
   "metadata": {},
   "outputs": [],
   "source": [
    "# Cargamos los datos del set de flores:\n",
    "iris = datasets.load_iris()\n",
    "\n",
    "# Los separamos en train y test - Sklearn tiene una función para esto:\n",
    "from sklearn.model_selection import train_test_split\n",
    "X_train, X_test, y_train, y_test = train_test_split(iris.data, iris.target, test_size=0.2)"
   ]
  },
  {
   "cell_type": "code",
   "execution_count": 15,
   "metadata": {},
   "outputs": [
    {
     "name": "stdout",
     "output_type": "stream",
     "text": [
      "(150, 4) (150,)\n",
      "(120, 4) (30, 4) (120,) (30,)\n"
     ]
    }
   ],
   "source": [
    "# Por supuesto, mantenemos los tamaños de los datos:\n",
    "print(iris.data.shape, iris.target.shape)\n",
    "print(X_train.shape, X_test.shape, y_train.shape, y_test.shape)"
   ]
  },
  {
   "cell_type": "code",
   "execution_count": 16,
   "metadata": {},
   "outputs": [
    {
     "data": {
      "text/plain": [
       "0.8666666666666667"
      ]
     },
     "execution_count": 16,
     "metadata": {},
     "output_type": "execute_result"
    }
   ],
   "source": [
    "# Creamos un clasificador y lo ajustamos a los datos de entrenamiento:\n",
    "k_vecinos = sklearn.neighbors.KNeighborsClassifier()\n",
    "k_vecinos.fit(X_train, y_train)\n",
    "\n",
    "# Medimos la precisión del clasificador pero usando los datos de test:\n",
    "k_vecinos.score(X_test, y_test)"
   ]
  },
  {
   "cell_type": "code",
   "execution_count": 17,
   "metadata": {},
   "outputs": [
    {
     "data": {
      "text/plain": [
       "0.9916666666666667"
      ]
     },
     "execution_count": 17,
     "metadata": {},
     "output_type": "execute_result"
    }
   ],
   "source": [
    "# Comparemos con la precisión usando los datos de entrenamiento:\n",
    "k_vecinos.score(X_train, y_train)"
   ]
  },
  {
   "attachments": {},
   "cell_type": "markdown",
   "metadata": {},
   "source": [
    "<font size = 5>\n",
    "\n",
    "**¿Qué indica que la precisión en datos de entrenamiento sea signficativamente superior a la precisión en los datos de test?**"
   ]
  },
  {
   "attachments": {},
   "cell_type": "markdown",
   "metadata": {},
   "source": [
    "## **G - Métricas:**"
   ]
  },
  {
   "attachments": {},
   "cell_type": "markdown",
   "metadata": {},
   "source": [
    "<font size = 5>\n",
    "\n",
    "**El número de métricas existentes es [abrumador](https://scikit-learn.org/1.0/modules/classes.html?highlight=metrics#module-sklearn.metrics)**\n",
    "\n",
    "Pero es clave mantener en mente al menos las más básicas, algunas de ellas ya las hemos visto:"
   ]
  },
  {
   "attachments": {},
   "cell_type": "markdown",
   "metadata": {},
   "source": [
    "### **G.1 - Clasificación:**"
   ]
  },
  {
   "attachments": {},
   "cell_type": "markdown",
   "metadata": {},
   "source": [
    "<font size = 5>\n",
    "\n",
    "**Accuracy_score** - [Precisión](https://scikit-learn.org/1.0/modules/generated/sklearn.metrics.accuracy_score.html#sklearn.metrics.accuracy_score): Nº de éxitos / Nº de intentos. ¿Qué problema tiene esta métrica? Podemos usarla de varias formas:\n",
    "\n",
    "* Cuando tenemos un modelo usamos el método *'.score()'*. Dependiendo de si proporcionamos los datos de test o no nos dará una precisión u otra.\n",
    "* Usando *'from sklearn.metrics import accuracy_score'* y proporcionando los datos de test o de train según la precisión que queramos."
   ]
  },
  {
   "cell_type": "code",
   "execution_count": 34,
   "metadata": {},
   "outputs": [
    {
     "data": {
      "text/plain": [
       "0.8666666666666667"
      ]
     },
     "execution_count": 34,
     "metadata": {},
     "output_type": "execute_result"
    }
   ],
   "source": [
    "k_vecinos.score(X_test, y_test)"
   ]
  },
  {
   "cell_type": "code",
   "execution_count": 35,
   "metadata": {},
   "outputs": [
    {
     "data": {
      "text/plain": [
       "0.8666666666666667"
      ]
     },
     "execution_count": 35,
     "metadata": {},
     "output_type": "execute_result"
    }
   ],
   "source": [
    "from sklearn.metrics import accuracy_score\n",
    "accuracy_score(y_test, k_vecinos.predict(X_test))"
   ]
  },
  {
   "attachments": {},
   "cell_type": "markdown",
   "metadata": {},
   "source": [
    "<font size = 5>\n",
    "\n",
    "**Confusion Matrix** - [Matriz de Confusión](https://scikit-learn.org/1.0/modules/generated/sklearn.metrics.confusion_matrix.html#sklearn.metrics.confusion_matrix): Visión detallada de predicciones frente a etiquetas reales. Podemos usarla de dos formas principales:\n",
    "* Usando *'from sklearn.metrics import confusion_matrix'* y ejecutándola con los valores reales y los valores predichos por el modelo.\n",
    "* Podemos mostrarla como un gráfico con 'from sklearn.metrics import ConfusionMatrixDisplay' y pasando como parámetros las etiquetas reales, las predichas y, si queremos, los nombres de las etiquetas."
   ]
  },
  {
   "cell_type": "code",
   "execution_count": 36,
   "metadata": {},
   "outputs": [
    {
     "data": {
      "text/plain": [
       "array([[ 7,  0,  0],\n",
       "       [ 0,  9,  3],\n",
       "       [ 0,  1, 10]], dtype=int64)"
      ]
     },
     "execution_count": 36,
     "metadata": {},
     "output_type": "execute_result"
    }
   ],
   "source": [
    "# Datos básicos:\n",
    "from sklearn.metrics import confusion_matrix\n",
    "confusion = confusion_matrix(y_test, k_vecinos.predict(X_test))\n",
    "\n",
    "confusion"
   ]
  },
  {
   "cell_type": "code",
   "execution_count": 37,
   "metadata": {},
   "outputs": [
    {
     "data": {
      "text/html": [
       "<div>\n",
       "<style scoped>\n",
       "    .dataframe tbody tr th:only-of-type {\n",
       "        vertical-align: middle;\n",
       "    }\n",
       "\n",
       "    .dataframe tbody tr th {\n",
       "        vertical-align: top;\n",
       "    }\n",
       "\n",
       "    .dataframe thead th {\n",
       "        text-align: right;\n",
       "    }\n",
       "</style>\n",
       "<table border=\"1\" class=\"dataframe\">\n",
       "  <thead>\n",
       "    <tr style=\"text-align: right;\">\n",
       "      <th></th>\n",
       "      <th>setosa</th>\n",
       "      <th>versicolor</th>\n",
       "      <th>virginica</th>\n",
       "    </tr>\n",
       "  </thead>\n",
       "  <tbody>\n",
       "    <tr>\n",
       "      <th>setosa</th>\n",
       "      <td>7</td>\n",
       "      <td>0</td>\n",
       "      <td>0</td>\n",
       "    </tr>\n",
       "    <tr>\n",
       "      <th>versicolor</th>\n",
       "      <td>0</td>\n",
       "      <td>9</td>\n",
       "      <td>3</td>\n",
       "    </tr>\n",
       "    <tr>\n",
       "      <th>virginica</th>\n",
       "      <td>0</td>\n",
       "      <td>1</td>\n",
       "      <td>10</td>\n",
       "    </tr>\n",
       "  </tbody>\n",
       "</table>\n",
       "</div>"
      ],
      "text/plain": [
       "            setosa  versicolor  virginica\n",
       "setosa           7           0          0\n",
       "versicolor       0           9          3\n",
       "virginica        0           1         10"
      ]
     },
     "execution_count": 37,
     "metadata": {},
     "output_type": "execute_result"
    }
   ],
   "source": [
    "# En forma de DataFrame:\n",
    "pd.DataFrame(confusion, columns=iris.target_names, index=iris.target_names)"
   ]
  },
  {
   "cell_type": "code",
   "execution_count": 32,
   "metadata": {},
   "outputs": [
    {
     "data": {
      "text/plain": [
       "<sklearn.metrics._plot.confusion_matrix.ConfusionMatrixDisplay at 0x1c145230760>"
      ]
     },
     "execution_count": 32,
     "metadata": {},
     "output_type": "execute_result"
    },
    {
     "data": {
      "image/png": "[encoded data removed]",
      "text/plain": [
       "<Figure size 640x480 with 2 Axes>"
      ]
     },
     "metadata": {},
     "output_type": "display_data"
    }
   ],
   "source": [
    "# En forma de gráfico:\n",
    "from sklearn.metrics import ConfusionMatrixDisplay\n",
    "ConfusionMatrixDisplay.from_predictions(y_test,\n",
    "                                        k_vecinos.predict(X_test),\n",
    "                                        display_labels = iris.target_names)"
   ]
  },
  {
   "attachments": {},
   "cell_type": "markdown",
   "metadata": {},
   "source": [
    "<font size = 5>\n",
    "\n",
    "**Area Under Receiver Operating Characteristic** - [Área ROC](https://scikit-learn.org/stable/modules/generated/sklearn.metrics.roc_auc_score.html): Medida de bondad de los algoritmos que mide los verdaderos positivos frente a los falsos positivos. De esta manera ayuda a distanciar la percepción de 'precisión' del ruido que pueda contenerse en los datos.\n",
    "\n",
    "* Usando *'from sklearn.metrics import roc_auc_score'* y ejecutándola con los valores reales y los valores predichos por el modelo (...).\n",
    "* Podemos mostrarla como un gráfico con 'from sklearn.metrics import roc_curve' y pasando como parámetros las etiquetas reales, las predichas (...)."
   ]
  },
  {
   "cell_type": "code",
   "execution_count": 41,
   "metadata": {},
   "outputs": [
    {
     "data": {
      "text/plain": [
       "0.9614677476519581"
      ]
     },
     "execution_count": 41,
     "metadata": {},
     "output_type": "execute_result"
    }
   ],
   "source": [
    "# ROC AUC SCORE:\n",
    "from sklearn.metrics import roc_auc_score\n",
    "roc_auc_score(y_test, k_vecinos.predict_proba(X_test), multi_class='ovr')"
   ]
  },
  {
   "cell_type": "code",
   "execution_count": 46,
   "metadata": {},
   "outputs": [
    {
     "data": {
      "text/plain": [
       "<matplotlib.legend.Legend at 0x1c1633a7760>"
      ]
     },
     "execution_count": 46,
     "metadata": {},
     "output_type": "execute_result"
    },
    {
     "data": {
      "image/png": "[encoded data removed]",
      "text/plain": [
       "<Figure size 640x480 with 1 Axes>"
      ]
     },
     "metadata": {},
     "output_type": "display_data"
    }
   ],
   "source": [
    "# Roc curve\n",
    "from sklearn.metrics import roc_curve\n",
    "# Hacemos un plot para cada clase:\n",
    "for clase in range(3):\n",
    "    fpr, tpr, thresholds = roc_curve(y_test, k_vecinos.predict_proba(X_test)[:,clase], pos_label=clase)\n",
    "    plt.plot(fpr, tpr, lw=2, label=iris.target_names[clase])\n",
    "\n",
    "plt.legend()\n"
   ]
  },
  {
   "attachments": {},
   "cell_type": "markdown",
   "metadata": {},
   "source": [
    "### **G.2 - Regresión:**"
   ]
  },
  {
   "attachments": {},
   "cell_type": "markdown",
   "metadata": {},
   "source": [
    "<font size = 5>\n",
    "\n",
    "**Max Error** - [Error Máximo](https://scikit-learn.org/1.0/modules/generated/sklearn.metrics.max_error.html#sklearn.metrics.max_error): Máximo del error residual de todas las medidas.\n",
    "\n",
    "* Usando *'from sklearn.metrics import max_error'* y ejecutándola con los valores reales y los valores predichos por el modelo."
   ]
  },
  {
   "attachments": {},
   "cell_type": "markdown",
   "metadata": {},
   "source": [
    "<font size = 5>\n",
    "\n",
    "**Mean Absolute Error** - [MAE - Media de errores al cuadrado](https://scikit-learn.org/1.0/modules/generated/sklearn.metrics.mean_squared_error.html#sklearn.metrics.mean_squared_error): Promedio de los valores de error.\n",
    "\n",
    "* Usando *'from sklearn.metrics import mean_absolute_error'* y ejecutándola con los valores reales y los valores predichos por el modelo (...)."
   ]
  },
  {
   "attachments": {},
   "cell_type": "markdown",
   "metadata": {},
   "source": [
    "<font size = 5>\n",
    "\n",
    "**Mean Squared Error** - [MSE - Media de errores al cuadrado](https://scikit-learn.org/1.0/modules/generated/sklearn.metrics.mean_squared_error.html#sklearn.metrics.mean_squared_error): Promedio de los valores de error elevados al cuadrado.\n",
    "\n",
    "* Usando *'from sklearn.metrics import mean_squared_error'* y ejecutándola con los valores reales y los valores predichos por el modelo (...)."
   ]
  },
  {
   "attachments": {},
   "cell_type": "markdown",
   "metadata": {},
   "source": []
  }
 ],
 "metadata": {
  "kernelspec": {
   "display_name": "courses",
   "language": "python",
   "name": "python3"
  },
  "language_info": {
   "codemirror_mode": {
    "name": "ipython",
    "version": 3
   },
   "file_extension": ".py",
   "mimetype": "text/x-python",
   "name": "python",
   "nbconvert_exporter": "python",
   "pygments_lexer": "ipython3",
   "version": "3.10.10"
  },
  "orig_nbformat": 4
 },
 "nbformat": 4,
 "nbformat_minor": 2
}
