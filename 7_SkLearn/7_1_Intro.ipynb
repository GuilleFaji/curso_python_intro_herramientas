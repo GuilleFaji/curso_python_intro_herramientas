{
 "cells": [
  {
   "attachments": {},
   "cell_type": "markdown",
   "metadata": {},
   "source": [
    "# **7.1 Introduccción a Scikit-Learn para aprendizaje automático:**"
   ]
  },
  {
   "attachments": {},
   "cell_type": "markdown",
   "metadata": {},
   "source": [
    "<font size = 5>\n",
    "\n",
    "**[Scikit-Learn](https://scikit-learn.org/stable/index.html) es una librería open source que contiene múltiples implementaciones de algoritmos de aprendizaje automático y herramientas adicionales para el análisis de información**"
   ]
  },
  {
   "cell_type": "code",
   "execution_count": null,
   "metadata": {},
   "outputs": [],
   "source": [
    "!pip install -U scikit-learn --upgrade"
   ]
  },
  {
   "cell_type": "code",
   "execution_count": 1,
   "metadata": {},
   "outputs": [],
   "source": [
    "import sklearn"
   ]
  },
  {
   "attachments": {},
   "cell_type": "markdown",
   "metadata": {},
   "source": [
    "## **A - ¿Qué es el Aprendizaje Automático?:**"
   ]
  },
  {
   "attachments": {},
   "cell_type": "markdown",
   "metadata": {},
   "source": [
    "<font size = 5>\n",
    "\n",
    "El Aprendizaje Automático o *Machine Learning* es un campo del conocimiento dedicado a la construcción de métodos que permitan una toma de decisiones *inteligente* mediante la generalización y detección de patrones en grandes volúmenes de información.\n",
    "\n",
    "**Es decir: se entiende que entre las grandes concentraciones de información se 'esconde' conocimiento útil que podemos extractar matemáticamente**"
   ]
  },
  {
   "attachments": {},
   "cell_type": "markdown",
   "metadata": {},
   "source": [
    "## **B - Tipos de Aprendizaje Automático:**"
   ]
  },
  {
   "attachments": {},
   "cell_type": "markdown",
   "metadata": {},
   "source": [
    "<font size = 5>\n",
    "\n",
    "Existen **tres tipos** generales de aprendizaje automático, dependiendo tanto del problema que tengamos como de los datos de que dispongamos podremos aplicar unos tipos u otros:\n",
    "\n",
    "* **Supervisado**\n",
    "\n",
    "* **No Supervisado**\n",
    "\n",
    "* **Aprendizaje por refuerzo**"
   ]
  },
  {
   "attachments": {},
   "cell_type": "markdown",
   "metadata": {},
   "source": [
    "<center><img src=\"./imgs/machine-learning.png\"  width=\"1000\" height=\"600\">"
   ]
  },
  {
   "attachments": {},
   "cell_type": "markdown",
   "metadata": {},
   "source": [
    "Modelo|Tipo de Aprendizaje|Descripción\n",
    "|---|---|---|\n",
    "Regresión Lineal|Supervisado|Modelo lineal que predice valores numéricos\n",
    "Regresión Logística|Supervisado|Estima resultados binarios mediante probabilidades\n",
    "Árboles de Decisión|Supervisado|Modelo en forma de árbol para clasificación/regresión\n",
    "Bosques Aleatorios|Supervisado|Conjunto de árboles de decisión para mayor precisión\n",
    "Máquinas de Vectores de Soporte (SVM)|Supervisado|Encuentra el hiperplano óptimo para clasificación\n",
    "K-Vecinos Más Cercanos|Supervisado|Clasifica los datos en función de los vecinos más cercanos\n",
    "Naive Bayes|Supervisado|Algoritmo de clasificación basado en probabilidades\n",
    "Redes Neuronales Artificiales|Supervisado|Modelos inspirados en el cerebro humano\n",
    "Redes Neuronales Convolucionales|Supervisado|Especializadas en reconocimiento de imágenes\n",
    "Redes Neuronales Recurrentes|Supervisado|Maneja datos secuenciales como series temporales\n",
    "K-Means|No Supervisado|Agrupa datos en clústeres\n",
    "Clustering Jerárquico|No Supervisado|Construye clústeres en una jerarquía\n",
    "DBSCAN|No Supervisado|Agrupamiento espacial basado en densidad\n",
    "Modelos de Mezclas Gaussianas|No Supervisado|Representa datos como una mezcla de Gaussianas\n",
    "Análisis de Componentes Principales (PCA)|No Supervisado|Técnica de reducción de dimensionalidad\n",
    "Autoencoders|No Supervisado|Redes neuronales para compresión de datos\n",
    "Redes Generativas Adversarias (GAN)|No Supervisado|Genera nuevos datos similares al conjunto de entrenamiento\n",
    "Mapas Auto-Organizados (SOM)|No Supervisado|Mapea datos de alta dimensionalidad a una cuadrícula\n",
    "t-SNE|No Supervisado|Visualiza datos de alta dimensionalidad\n",
    "Expectation-Maximization (EM)|No Supervisado|Rellena valores faltantes en un conjunto de datos\n",
    "Bosques Aleatorios|Ambos|Conjunto de árboles de decisión para aprendizaje supervisado/no supervisado\n",
    "Redes Neuronales Artificiales|Ambos|Modelos versátiles para ambos tipos de aprendizaje\n",
    "XGBoost|Ambos|Framework de aumento de gradiente para ambos tipos de aprendizaje\n",
    "Redes de Creencia Profunda|Ambos|Modelos apilados para aprendizaje no supervisado/pre-entrenamiento\n"
   ]
  },
  {
   "attachments": {},
   "cell_type": "markdown",
   "metadata": {},
   "source": [
    "### **B.1 - Aprendizaje Automático Supervisado:**"
   ]
  },
  {
   "attachments": {},
   "cell_type": "markdown",
   "metadata": {},
   "source": [
    "<font size = 5>\n",
    "\n",
    "La característica principal del aprendizaje automático supervisado es que **disponemos de datos etiquetados**. Es decir, para cada dato individual disponemos de un ejemplo del output que debería tener en el caso de que dicho dato fuera introducido en el modelo.\n",
    "\n",
    "El objetivo que buscamos es **aprender** una función que explore y extraiga del espacio N-dimensional de los datos la capacidad de devolver la información que buscamos.\n",
    "\n",
    "Se divide en dos grandes campos:\n",
    "\n",
    "* **Clasificación**:\n",
    "La variable objetivo es **categórica**, es decir: cae en unos valores predeterminados y limitados.\n",
    "\n",
    "* **Regresión**:\n",
    "La variable objetivo es **continua**, es decir: buscamos una predicción numérica en un espacio dimensional potencialmente infinito.\n",
    "\n",
    "<center><img src=\"./imgs/regression-vs-classification-in-machine-learning.png\" width=\"700\" height=\"350\">"
   ]
  },
  {
   "attachments": {},
   "cell_type": "markdown",
   "metadata": {},
   "source": [
    "<font size = 5>\n",
    "\n",
    "**Ventajas:**\n",
    "* Fáciles de entender e interactuar. Es muy sencillo obtener información precisa sobre la toma de decisiones de los modelos, lo cual lleva a identificar aquellas variables más importantes a la hora de alcanzar las conclusiones.\n",
    "* Gran precisión si se les dota de un dataset suficientemente grande.\n",
    "* El buen entrenamiento en un set de datos permite hacer predicciones sobre datos nuevos no vistos anteriormente con un alto nivel de precisión.\n",
    "* El nivel de patrones identificado es amplio, encontrando relaciones mucho más complejas de lo que análisis estadísticos clásicos encontrarían."
   ]
  },
  {
   "attachments": {},
   "cell_type": "markdown",
   "metadata": {},
   "source": [
    "<font size = 5>\n",
    "\n",
    "**Desventajas:**\n",
    "* Requieren datos etiquetados: Disponer de grandes sets de datos puede ser sencillo, pero que dichos datos estén etiquetados de la manera que necesitamos puede ser difícil y construir estas etiquetas es costoso en muchos casos.\n",
    "* Nuestros datos probablemente contengan sesgos implícitos que terminan contagiandose a lo que los modelos aprenden.\n",
    "* Pequeños cambios en los datos, especialmente si no tenemos un dataset suficientemente extenso, pueden tener efectos significativos en las predicciones.\n",
    "* La detección de patrones complejos es posible, pero requiere modelos más complejos (redes neuronales)."
   ]
  },
  {
   "attachments": {},
   "cell_type": "markdown",
   "metadata": {},
   "source": [
    "### **B.2 - Aprendizaje No Supervisado:**"
   ]
  },
  {
   "attachments": {},
   "cell_type": "markdown",
   "metadata": {},
   "source": [
    "<font size = 5>\n",
    "\n",
    "De manera simétrica, el Aprendizaje No Supervisado se define por la **ausencia de datos etiquetados**, es decir: tenemos un dataset de inputs sin contar con los outputs que serían deseables para dichos datos.\n",
    "\n",
    "Nuestro objetivo es por tanto aprender patrones ocultos e intrínsecos a los datos.\n",
    "\n",
    "Se dividen en dos categorías principales:\n",
    "\n",
    "* **Clustering:** Agrupación de datos en categorías en base a sus similitudes y diferencias, se suelen utilizar para datos que necesitan crear grupos allí donde no existen inicialmente (clasificación de clientes, segmentación de mercados, análisis de compresión de imágenes, recomendaciones de contenido, etc.)\n",
    "\n",
    "* **Reducción de Dimensionalidad:** Compresión eficiente de información. Se busca reducir el número de variables (dimensiones) al tiempo que se mantiene lo más intacta posible la cantidad de información de los dataset afectados. De esta forma se puede gestionar más información con menos cómputo y mayor agilidad. Estos métodos se aplican habitualmente como parte del preprocesamiento de los datos antes de realizar otros análisis.\n",
    "\n",
    "<center><img src=\"./imgs/1_37a_i1t1tDxDYT3ZI6Yn8w.gif\">"
   ]
  },
  {
   "attachments": {},
   "cell_type": "markdown",
   "metadata": {},
   "source": [
    "<font size = 5>\n",
    "\n",
    "**Ventajas:**\n",
    "\n",
    "* No se requiere de datasets etiquetado, únicamente de inputs, lo que aumenta dramáticamente la cantidad de información útil disponible.\n",
    "\n",
    "* Permite encontrar relaciones muy complejas que pueden ser la base para otros análisis.\n",
    "\n",
    "* Pueden ingerir cantidades muy grandes de información, lo que es ideal al no tener que ser esta información etiquetada.\n"
   ]
  },
  {
   "attachments": {},
   "cell_type": "markdown",
   "metadata": {},
   "source": [
    "<font size = 5>\n",
    "\n",
    "**Desventajas:**\n",
    "\n",
    "* Al no ser supervisado, las relaciones encontradas no provienen de una información útil contrastada, pudiendo llevarnos a equívocos, relaciones espúreas y otros problemas que aumenten la subjetividad de la información encontrada.\n",
    "\n",
    "* Derivado de lo anterior, los resultados obtenidos requieren un trabajo relevante de interpretación que nos ayude a buscar potenciales problemas que no sean directamente evidentes.\n",
    "\n",
    "* La calidad de los datos es de mucha importancia, dado que la introducción de sesgos, errores y ruido con cierto patrón y otros aspectos pueden afectar significativamente a los resultados."
   ]
  },
  {
   "attachments": {},
   "cell_type": "markdown",
   "metadata": {},
   "source": [
    "### **B.3 - Aprendizaje por Refuerzo:**\n",
    "**Este ámbito no se trata en el presente curso**"
   ]
  },
  {
   "attachments": {},
   "cell_type": "markdown",
   "metadata": {},
   "source": [
    "<font size = 5>\n",
    "\n",
    "Área del aprendizaje automático en la que se generan **actores inteligentes** que **realizan acciones** en un **entorno** y **modifican su estrategia para maximizar una recompensa**. \n",
    "\n",
    "Por esto mismo no se requiere de datos etiquetados ni de datasets extensos. La **principal dificultad reside en poder construir un entorno que simule el problema a resolver con suficiente precisión, incluyendo qué consideramos como recompensa y qué valor le damos** y, una vez logrado esto, **encontrar un equilibrio para que los agentes 'exploren' diversas técnicas** en vez de quedarse con la primera que sea medianamente funcional.\n",
    "\n",
    "<center><img src=\"./imgs/1-reinforcement-learning-ai.png\" width=\"534\" height=\"322\">"
   ]
  },
  {
   "attachments": {},
   "cell_type": "markdown",
   "metadata": {},
   "source": [
    "### **EJEMPLOS:**"
   ]
  },
  {
   "attachments": {},
   "cell_type": "markdown",
   "metadata": {},
   "source": [
    "**EJ1:**\n",
    "\n",
    "**DATOS:** Dataset de imágenes de frutas, cada imágen tiene el nombre de la fruta.\n",
    "\n",
    "**OBJETIVO:** Dada una imagen, determinar qué fruta es."
   ]
  },
  {
   "attachments": {},
   "cell_type": "markdown",
   "metadata": {},
   "source": [
    "**EJ2:**\n",
    "\n",
    "**DATOS:** Dataset de historial de compra de usuarios.\n",
    "\n",
    "**OBJETIVO:** Agrupar a los usuarios en función de sus preferencias."
   ]
  },
  {
   "attachments": {},
   "cell_type": "markdown",
   "metadata": {},
   "source": [
    "**EJ3:**\n",
    "\n",
    "**DATOS:** Dataset de cotizaciones históricas e indicadores bursátiles.\n",
    "\n",
    "**OBJETIVO:** Predicción de valor futuro del precio de acciones/índices."
   ]
  },
  {
   "attachments": {},
   "cell_type": "markdown",
   "metadata": {},
   "source": [
    "**EJ4:**\n",
    "\n",
    "**DATOS:** Dataset de noticias descargadas en masa de internet.\n",
    "\n",
    "**OBJETIVO:** Encontrar patrones comunes que permitan relacionar y dar contexto a una noticia."
   ]
  },
  {
   "attachments": {},
   "cell_type": "markdown",
   "metadata": {},
   "source": [
    "**EJ5:**\n",
    "\n",
    "**DATOS:** Simulador de carreras de coches que proporciona información de la velocidad, posición, situación, etc del vehículo en todo momento.\n",
    "\n",
    "**OBJETIVO:** Conseguir una conducción lo más veloz y segura posible."
   ]
  },
  {
   "attachments": {},
   "cell_type": "markdown",
   "metadata": {},
   "source": [
    "**EJ6:**\n",
    "\n",
    "**DATOS:** Dataset de actividad de estudiantes (notas, interacción en plataforma, etc).\n",
    "\n",
    "**OBJETIVO:** Dado un usuario en curso, estimar la probabilidad de que abandone un curso."
   ]
  },
  {
   "attachments": {},
   "cell_type": "markdown",
   "metadata": {},
   "source": [
    "**EJ7:**\n",
    "\n",
    "**DATOS:** Dataset de imágenes de frutas, cada imágen tiene el nombre de la fruta.\n",
    "\n",
    "**OBJETIVO:** Dada una imagen, determinar qué fruta es."
   ]
  },
  {
   "attachments": {},
   "cell_type": "markdown",
   "metadata": {},
   "source": [
    "**EJ8:**\n",
    "\n",
    "**DATOS:** Lecturas de sensores a lo largo de una casa por (IoT).\n",
    "\n",
    "**OBJETIVO:** Detectar anomalías que permitan detectar accidentes, potenciales robos u otros problemas."
   ]
  },
  {
   "attachments": {},
   "cell_type": "markdown",
   "metadata": {},
   "source": []
  }
 ],
 "metadata": {
  "kernelspec": {
   "display_name": "courses",
   "language": "python",
   "name": "python3"
  },
  "language_info": {
   "codemirror_mode": {
    "name": "ipython",
    "version": 3
   },
   "file_extension": ".py",
   "mimetype": "text/x-python",
   "name": "python",
   "nbconvert_exporter": "python",
   "pygments_lexer": "ipython3",
   "version": "3.10.10"
  },
  "orig_nbformat": 4
 },
 "nbformat": 4,
 "nbformat_minor": 2
}
