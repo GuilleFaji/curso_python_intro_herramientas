{
 "cells": [
  {
   "attachments": {},
   "cell_type": "markdown",
   "metadata": {},
   "source": [
    "# **Ejercicios Scikit-Learn**:"
   ]
  },
  {
   "cell_type": "code",
   "execution_count": 5,
   "metadata": {},
   "outputs": [],
   "source": [
    "import numpy as np\n",
    "import pandas as pd\n",
    "import matplotlib.pyplot as plt\n",
    "import sklearn\n",
    "from sklearn import datasets\n"
   ]
  },
  {
   "attachments": {},
   "cell_type": "markdown",
   "metadata": {},
   "source": [
    "## **1- En clase hemos visto que existen técnicas de escalado de los datos de entrada (estandarización, minmaxscaler...) razona cuáles de los siguientes algoritmos se podrían beneficiar de alguna de estas técnicas:**"
   ]
  },
  {
   "attachments": {},
   "cell_type": "markdown",
   "metadata": {},
   "source": [
    "### Decision Trees:"
   ]
  },
  {
   "cell_type": "code",
   "execution_count": null,
   "metadata": {},
   "outputs": [],
   "source": []
  },
  {
   "attachments": {},
   "cell_type": "markdown",
   "metadata": {},
   "source": [
    "### K-Nearest Neighbors:"
   ]
  },
  {
   "attachments": {},
   "cell_type": "markdown",
   "metadata": {},
   "source": []
  },
  {
   "attachments": {},
   "cell_type": "markdown",
   "metadata": {},
   "source": [
    "### Support Vector Machines:"
   ]
  },
  {
   "attachments": {},
   "cell_type": "markdown",
   "metadata": {},
   "source": []
  },
  {
   "attachments": {},
   "cell_type": "markdown",
   "metadata": {},
   "source": [
    "### Random Forest:"
   ]
  },
  {
   "attachments": {},
   "cell_type": "markdown",
   "metadata": {},
   "source": []
  },
  {
   "attachments": {},
   "cell_type": "markdown",
   "metadata": {},
   "source": [
    "### Regresión lineal/polinómica:"
   ]
  },
  {
   "attachments": {},
   "cell_type": "markdown",
   "metadata": {},
   "source": []
  },
  {
   "attachments": {},
   "cell_type": "markdown",
   "metadata": {},
   "source": [
    "### Principal Component Analysis:"
   ]
  },
  {
   "attachments": {},
   "cell_type": "markdown",
   "metadata": {},
   "source": []
  },
  {
   "attachments": {},
   "cell_type": "markdown",
   "metadata": {},
   "source": [
    "## **2- De manera similar, ¿cuándo puede ser lógico escoger entre *One-Hot Encoding* (vectores tipo [0,1,0] para cada etiqueta) vs *label encoding normal* (cada etiqueta un número entero ordenado):**"
   ]
  },
  {
   "attachments": {},
   "cell_type": "markdown",
   "metadata": {},
   "source": []
  },
  {
   "attachments": {},
   "cell_type": "markdown",
   "metadata": {},
   "source": [
    "## **3- Resuelve el dataset 'digits' de SKLEARN:**"
   ]
  },
  {
   "cell_type": "code",
   "execution_count": 19,
   "metadata": {},
   "outputs": [],
   "source": [
    "# Cargamos el dataset de digitos:\n"
   ]
  },
  {
   "attachments": {},
   "cell_type": "markdown",
   "metadata": {},
   "source": [
    "## **CALIDAD EN PURIFICACIÓN DE MENA DE HIERRO**:\n",
    "\n",
    "Dataset **REAL** del proceso industrial de purificación de la mena de hierro. El objetivo es predecir la última columna a partir de los datos anteriores.\n",
    "\n",
    "Como dataset real, los datos pueden tener problemáticas varias tanto desde el aspecto de las frecuencias de medición temporal como de los propios datos recogidos. El preprocesado es clave.\n",
    "\n",
    "Descargad el dataset aquí:\n",
    "\n",
    "https://we.tl/t-nCbsErRlAE"
   ]
  },
  {
   "cell_type": "code",
   "execution_count": 2,
   "metadata": {},
   "outputs": [],
   "source": [
    "import numpy as np"
   ]
  },
  {
   "cell_type": "code",
   "execution_count": 3,
   "metadata": {},
   "outputs": [
    {
     "data": {
      "text/plain": [
       "{'DESCR': '\\n\\nThe main goal is to use this data to predict how much impurity is in the ore concentrate. As this impurity is measured every hour, if we can predict how much silica (impurity) is in the ore concentrate, we can help the engineers, giving them early information to take actions (empowering!). Hence, they will be able to take corrective actions in advance (reduce impurity, if it is the case) and also help the environment (reducing the amount of ore that goes to tailings as you reduce silica in the ore concentrate).\\n\\nContent\\nThe first column shows time and date range (from march of 2017 until september of 2017). Some columns were sampled every 20 second. Others were sampled on a hourly base.\\n\\nThe second and third columns are quality measures of the iron ore pulp right before it is fed into the flotation plant. Column 4 until column 8 are the most important variables that impact in the ore quality in the end of the process. From column 9 until column 22, we can see process data (level and air flow inside the flotation columns, which also impact in ore quality. The last two columns are the final iron ore pulp quality measurement from the lab.\\nTarget is to predict the last column, which is the % of silica in the iron ore concentrate.\\n\\nColumns:\\n\\ndate: Date and time range\\n\\n% Iron Feed: Iron feed to the process (from 0 to 100) [INPUT]\\n\\n% Silica Feed: Silica feed to the process (from 0 to 100) [INPUT]\\n\\nStarch Flow: Starch flow to the process in m3/h [INPUT]\\n\\nAmina Flow: Amina flow to the process in m3/h [INPUT]\\n\\nOre Pulp Flow: Ore pulp flow to the process in t/h.\\n\\nOre Pulp pH: Ore Pulp pH measurement.\\n\\nOre Pulp Density: Ore Pulp density measurement.\\n\\nFlotation Columns: Air flow and level of measurements.\\n\\n% Iron Concentrate: Iron Concentrate produced by the Flotation process (from 0 to 100) [OUTPUT]\\n\\n% Silica Concentrate: Silica Concentrate produced by the Flotation process (from 0 to 100) [OUTPUT]\\n\\nObjetctive: Predict Silica Concentrate (Column 22) from column 1 to 21.\\n',\n",
       " 'df':                        date % Iron Feed % Silica Feed Starch Flow Amina Flow   \n",
       " 0       2017-03-10 01:00:00        55,2         16,98     3019,53    557,434  \\\n",
       " 1       2017-03-10 01:00:00        55,2         16,98     3024,41    563,965   \n",
       " 2       2017-03-10 01:00:00        55,2         16,98     3043,46    568,054   \n",
       " 3       2017-03-10 01:00:00        55,2         16,98     3047,36    568,665   \n",
       " 4       2017-03-10 01:00:00        55,2         16,98     3033,69    558,167   \n",
       " ...                     ...         ...           ...         ...        ...   \n",
       " 737448  2017-09-09 23:00:00       49,75          23,2     2710,94    441,052   \n",
       " 737449  2017-09-09 23:00:00       49,75          23,2     2692,01    473,436   \n",
       " 737450  2017-09-09 23:00:00       49,75          23,2      2692,2    500,488   \n",
       " 737451  2017-09-09 23:00:00       49,75          23,2     1164,12    491,548   \n",
       " 737452  2017-09-09 23:00:00       49,75          23,2     1164,12    468,019   \n",
       " \n",
       "        Ore Pulp Flow Ore Pulp pH Ore Pulp Density   \n",
       " 0            395,713     10,0664             1,74  \\\n",
       " 1            397,383     10,0672             1,74   \n",
       " 2            399,668      10,068             1,74   \n",
       " 3            397,939     10,0689             1,74   \n",
       " 4            400,254     10,0697             1,74   \n",
       " ...              ...         ...              ...   \n",
       " 737448        386,57     9,62129          1,65365   \n",
       " 737449       384,939     9,62063          1,65352   \n",
       " 737450       383,496     9,61874          1,65338   \n",
       " 737451       384,976     9,61686          1,65324   \n",
       " 737452       384,801     9,61497           1,6531   \n",
       " \n",
       "        Flotation Column 01 Air Flow Flotation Column 02 Air Flow  ...   \n",
       " 0                           249,214                      253,235  ...  \\\n",
       " 1                           249,719                      250,532  ...   \n",
       " 2                           249,741                      247,874  ...   \n",
       " 3                           249,917                      254,487  ...   \n",
       " 4                           250,203                      252,136  ...   \n",
       " ...                             ...                          ...  ...   \n",
       " 737448                      302,344                      298,786  ...   \n",
       " 737449                      303,013                      301,879  ...   \n",
       " 737450                      303,662                      307,397  ...   \n",
       " 737451                       302,55                      301,959  ...   \n",
       " 737452                      300,355                      292,865  ...   \n",
       " \n",
       "        Flotation Column 07 Air Flow Flotation Column 01 Level   \n",
       " 0                           250,884                   457,396  \\\n",
       " 1                           248,994                   451,891   \n",
       " 2                           248,071                    451,24   \n",
       " 3                           251,147                   452,441   \n",
       " 4                           248,928                   452,441   \n",
       " ...                             ...                       ...   \n",
       " 737448                      313,695                    392,16   \n",
       " 737449                        236,7                   401,505   \n",
       " 737450                      225,879                   408,899   \n",
       " 737451                      308,115                   405,107   \n",
       " 737452                      308,115                   413,754   \n",
       " \n",
       "        Flotation Column 02 Level Flotation Column 03 Level   \n",
       " 0                        432,962                   424,954  \\\n",
       " 1                         429,56                   432,939   \n",
       " 2                        468,927                    434,61   \n",
       " 3                        458,165                   442,865   \n",
       " 4                          452,9                   450,523   \n",
       " ...                          ...                       ...   \n",
       " 737448                   430,702                   872,008   \n",
       " 737449                   404,616                   864,409   \n",
       " 737450                   399,316                   867,598   \n",
       " 737451                   466,832                   876,591   \n",
       " 737452                   514,143                   881,323   \n",
       " \n",
       "        Flotation Column 04 Level Flotation Column 05 Level   \n",
       " 0                        443,558                   502,255  \\\n",
       " 1                        448,086                   496,363   \n",
       " 2                        449,688                   484,411   \n",
       " 3                         446,21                   471,411   \n",
       " 4                         453,67                   462,598   \n",
       " ...                          ...                       ...   \n",
       " 737448                   418,725                   497,548   \n",
       " 737449                   418,377                   506,398   \n",
       " 737450                   419,531                   503,414   \n",
       " 737451                   407,299                   502,301   \n",
       " 737452                   378,969                     500,1   \n",
       " \n",
       "        Flotation Column 06 Level Flotation Column 07 Level % Iron Concentrate   \n",
       " 0                         446,37                   523,344              66,91  \\\n",
       " 1                        445,922                   498,075              66,91   \n",
       " 2                        447,826                   458,567              66,91   \n",
       " 3                         437,69                   427,669              66,91   \n",
       " 4                        443,682                   425,679              66,91   \n",
       " ...                          ...                       ...                ...   \n",
       " 737448                   446,357                   416,892              64,27   \n",
       " 737449                   372,995                   426,337              64,27   \n",
       " 737450                   336,035                    433,13              64,27   \n",
       " 737451                   340,844                   433,966              64,27   \n",
       " 737452                   374,354                   441,182              64,27   \n",
       " \n",
       "        % Silica Concentrate  \n",
       " 0                      1,31  \n",
       " 1                      1,31  \n",
       " 2                      1,31  \n",
       " 3                      1,31  \n",
       " 4                      1,31  \n",
       " ...                     ...  \n",
       " 737448                 1,71  \n",
       " 737449                 1,71  \n",
       " 737450                 1,71  \n",
       " 737451                 1,71  \n",
       " 737452                 1,71  \n",
       " \n",
       " [737453 rows x 24 columns]}"
      ]
     },
     "execution_count": 3,
     "metadata": {},
     "output_type": "execute_result"
    }
   ],
   "source": [
    "# Si guardáis los datos en el mismo directorio que el notebook, podéis cargarlos así:\n",
    "np.load('./mining_quality.npy',allow_pickle='TRUE').item()"
   ]
  },
  {
   "cell_type": "code",
   "execution_count": null,
   "metadata": {},
   "outputs": [],
   "source": []
  }
 ],
 "metadata": {
  "kernelspec": {
   "display_name": "courses",
   "language": "python",
   "name": "python3"
  },
  "language_info": {
   "codemirror_mode": {
    "name": "ipython",
    "version": 3
   },
   "file_extension": ".py",
   "mimetype": "text/x-python",
   "name": "python",
   "nbconvert_exporter": "python",
   "pygments_lexer": "ipython3",
   "version": "3.10.10"
  },
  "orig_nbformat": 4
 },
 "nbformat": 4,
 "nbformat_minor": 2
}
