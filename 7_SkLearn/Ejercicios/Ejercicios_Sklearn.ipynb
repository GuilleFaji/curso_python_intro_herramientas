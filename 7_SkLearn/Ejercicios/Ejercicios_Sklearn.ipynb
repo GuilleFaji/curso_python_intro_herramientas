{
 "cells": [
  {
   "attachments": {},
   "cell_type": "markdown",
   "metadata": {},
   "source": [
    "# **Ejercicios Scikit-Learn**:"
   ]
  },
  {
   "cell_type": "code",
   "execution_count": 1,
   "metadata": {},
   "outputs": [],
   "source": [
    "import numpy as np\n",
    "import pandas as pd\n",
    "import matplotlib.pyplot as plt\n",
    "import sklearn\n",
    "from sklearn import datasets"
   ]
  },
  {
   "attachments": {},
   "cell_type": "markdown",
   "metadata": {},
   "source": [
    "## **1- En clase hemos visto que existen técnicas de escalado de los datos de entrada (estandarización, minmaxscaler...) razona cuáles de los siguientes algoritmos se podrían beneficiar de alguna de estas técnicas:**"
   ]
  },
  {
   "attachments": {},
   "cell_type": "markdown",
   "metadata": {},
   "source": [
    "### Decision Trees:"
   ]
  },
  {
   "cell_type": "code",
   "execution_count": null,
   "metadata": {},
   "outputs": [],
   "source": [
    "Le da igual"
   ]
  },
  {
   "attachments": {},
   "cell_type": "markdown",
   "metadata": {},
   "source": [
    "### K-Nearest Neighbors:"
   ]
  },
  {
   "attachments": {},
   "cell_type": "markdown",
   "metadata": {},
   "source": []
  },
  {
   "cell_type": "code",
   "execution_count": null,
   "metadata": {},
   "outputs": [],
   "source": [
    "Relevante"
   ]
  },
  {
   "attachments": {},
   "cell_type": "markdown",
   "metadata": {},
   "source": [
    "### Support Vector Machines:"
   ]
  },
  {
   "attachments": {},
   "cell_type": "markdown",
   "metadata": {},
   "source": [
    "Relevante"
   ]
  },
  {
   "attachments": {},
   "cell_type": "markdown",
   "metadata": {},
   "source": [
    "### Random Forest:"
   ]
  },
  {
   "attachments": {},
   "cell_type": "markdown",
   "metadata": {},
   "source": [
    "le da igual"
   ]
  },
  {
   "attachments": {},
   "cell_type": "markdown",
   "metadata": {},
   "source": [
    "### Regresión lineal/polinómica:"
   ]
  },
  {
   "attachments": {},
   "cell_type": "markdown",
   "metadata": {},
   "source": [
    "relevante"
   ]
  },
  {
   "attachments": {},
   "cell_type": "markdown",
   "metadata": {},
   "source": [
    "### Principal Component Analysis:"
   ]
  },
  {
   "attachments": {},
   "cell_type": "markdown",
   "metadata": {},
   "source": []
  },
  {
   "attachments": {},
   "cell_type": "markdown",
   "metadata": {},
   "source": [
    "## **2- De manera similar, ¿cuándo puede ser lógico escoger entre *One-Hot Encoding* (vectores tipo [0,1,0] para cada etiqueta) vs *label encoding normal* (cada etiqueta un número entero ordenado):**"
   ]
  },
  {
   "attachments": {},
   "cell_type": "markdown",
   "metadata": {},
   "source": []
  },
  {
   "attachments": {},
   "cell_type": "markdown",
   "metadata": {},
   "source": [
    "## **3- Resuelve el dataset 'digits' de SKLEARN:**"
   ]
  },
  {
   "cell_type": "code",
   "execution_count": 2,
   "metadata": {},
   "outputs": [],
   "source": [
    "# Cargamos el dataset de digitos:\n",
    "digitos = datasets.load_digits()"
   ]
  },
  {
   "cell_type": "code",
   "execution_count": 3,
   "metadata": {},
   "outputs": [
    {
     "data": {
      "text/plain": [
       "dict_keys(['data', 'target', 'frame', 'feature_names', 'target_names', 'images', 'DESCR'])"
      ]
     },
     "execution_count": 3,
     "metadata": {},
     "output_type": "execute_result"
    }
   ],
   "source": [
    "digitos.keys()"
   ]
  },
  {
   "cell_type": "code",
   "execution_count": 4,
   "metadata": {},
   "outputs": [
    {
     "name": "stdout",
     "output_type": "stream",
     "text": [
      ".. _digits_dataset:\n",
      "\n",
      "Optical recognition of handwritten digits dataset\n",
      "--------------------------------------------------\n",
      "\n",
      "**Data Set Characteristics:**\n",
      "\n",
      "    :Number of Instances: 1797\n",
      "    :Number of Attributes: 64\n",
      "    :Attribute Information: 8x8 image of integer pixels in the range 0..16.\n",
      "    :Missing Attribute Values: None\n",
      "    :Creator: E. Alpaydin (alpaydin '@' boun.edu.tr)\n",
      "    :Date: July; 1998\n",
      "\n",
      "This is a copy of the test set of the UCI ML hand-written digits datasets\n",
      "https://archive.ics.uci.edu/ml/datasets/Optical+Recognition+of+Handwritten+Digits\n",
      "\n",
      "The data set contains images of hand-written digits: 10 classes where\n",
      "each class refers to a digit.\n",
      "\n",
      "Preprocessing programs made available by NIST were used to extract\n",
      "normalized bitmaps of handwritten digits from a preprinted form. From a\n",
      "total of 43 people, 30 contributed to the training set and different 13\n",
      "to the test set. 32x32 bitmaps are divided into nonoverlapping blocks of\n",
      "4x4 and the number of on pixels are counted in each block. This generates\n",
      "an input matrix of 8x8 where each element is an integer in the range\n",
      "0..16. This reduces dimensionality and gives invariance to small\n",
      "distortions.\n",
      "\n",
      "For info on NIST preprocessing routines, see M. D. Garris, J. L. Blue, G.\n",
      "T. Candela, D. L. Dimmick, J. Geist, P. J. Grother, S. A. Janet, and C.\n",
      "L. Wilson, NIST Form-Based Handprint Recognition System, NISTIR 5469,\n",
      "1994.\n",
      "\n",
      ".. topic:: References\n",
      "\n",
      "  - C. Kaynak (1995) Methods of Combining Multiple Classifiers and Their\n",
      "    Applications to Handwritten Digit Recognition, MSc Thesis, Institute of\n",
      "    Graduate Studies in Science and Engineering, Bogazici University.\n",
      "  - E. Alpaydin, C. Kaynak (1998) Cascading Classifiers, Kybernetika.\n",
      "  - Ken Tang and Ponnuthurai N. Suganthan and Xi Yao and A. Kai Qin.\n",
      "    Linear dimensionalityreduction using relevance weighted LDA. School of\n",
      "    Electrical and Electronic Engineering Nanyang Technological University.\n",
      "    2005.\n",
      "  - Claudio Gentile. A New Approximate Maximal Margin Classification\n",
      "    Algorithm. NIPS. 2000.\n",
      "\n"
     ]
    }
   ],
   "source": [
    "print(digitos.DESCR)"
   ]
  },
  {
   "cell_type": "code",
   "execution_count": 7,
   "metadata": {},
   "outputs": [
    {
     "name": "stdout",
     "output_type": "stream",
     "text": [
      "(1797,)\n"
     ]
    }
   ],
   "source": [
    "print(digitos.target.shape)"
   ]
  },
  {
   "cell_type": "code",
   "execution_count": 10,
   "metadata": {},
   "outputs": [
    {
     "data": {
      "text/plain": [
       "array([[ 0.,  0.,  5., 13.,  9.,  1.,  0.,  0.],\n",
       "       [ 0.,  0., 13., 15., 10., 15.,  5.,  0.],\n",
       "       [ 0.,  3., 15.,  2.,  0., 11.,  8.,  0.],\n",
       "       [ 0.,  4., 12.,  0.,  0.,  8.,  8.,  0.],\n",
       "       [ 0.,  5.,  8.,  0.,  0.,  9.,  8.,  0.],\n",
       "       [ 0.,  4., 11.,  0.,  1., 12.,  7.,  0.],\n",
       "       [ 0.,  2., 14.,  5., 10., 12.,  0.,  0.],\n",
       "       [ 0.,  0.,  6., 13., 10.,  0.,  0.,  0.]])"
      ]
     },
     "execution_count": 10,
     "metadata": {},
     "output_type": "execute_result"
    }
   ],
   "source": [
    "digitos.images[0]"
   ]
  },
  {
   "cell_type": "code",
   "execution_count": 9,
   "metadata": {},
   "outputs": [
    {
     "data": {
      "text/plain": [
       "array([ 0.,  0.,  5., 13.,  9.,  1.,  0.,  0.,  0.,  0., 13., 15., 10.,\n",
       "       15.,  5.,  0.,  0.,  3., 15.,  2.,  0., 11.,  8.,  0.,  0.,  4.,\n",
       "       12.,  0.,  0.,  8.,  8.,  0.,  0.,  5.,  8.,  0.,  0.,  9.,  8.,\n",
       "        0.,  0.,  4., 11.,  0.,  1., 12.,  7.,  0.,  0.,  2., 14.,  5.,\n",
       "       10., 12.,  0.,  0.,  0.,  0.,  6., 13., 10.,  0.,  0.,  0.])"
      ]
     },
     "execution_count": 9,
     "metadata": {},
     "output_type": "execute_result"
    }
   ],
   "source": [
    "digitos.data[0]"
   ]
  },
  {
   "cell_type": "code",
   "execution_count": 8,
   "metadata": {},
   "outputs": [
    {
     "data": {
      "image/png": "[encoded data removed]",
      "text/plain": [
       "<Figure size 2000x400 with 5 Axes>"
      ]
     },
     "metadata": {},
     "output_type": "display_data"
    }
   ],
   "source": [
    "n_imagenes = 5\n",
    "\n",
    "plt.figure(figsize=(20,4))\n",
    "\n",
    "for imagen in range(n_imagenes):\n",
    "    plt.subplot(1, n_imagenes, imagen+1)\n",
    "    imagen_rand = np.random.randint(0, digitos.images.shape[0])\n",
    "    plt.imshow(digitos.images[imagen_rand])\n",
    "    plt.title(f'Etiqueta: {digitos.target[imagen_rand]}')\n",
    "plt.show()\n",
    "    "
   ]
  },
  {
   "cell_type": "code",
   "execution_count": 17,
   "metadata": {},
   "outputs": [
    {
     "data": {
      "text/plain": [
       "3    183\n",
       "1    182\n",
       "5    182\n",
       "4    181\n",
       "6    181\n",
       "9    180\n",
       "7    179\n",
       "0    178\n",
       "2    177\n",
       "8    174\n",
       "Name: count, dtype: int64"
      ]
     },
     "execution_count": 17,
     "metadata": {},
     "output_type": "execute_result"
    }
   ],
   "source": [
    "pd.Series(digitos.target).value_counts()"
   ]
  },
  {
   "cell_type": "code",
   "execution_count": 13,
   "metadata": {},
   "outputs": [],
   "source": [
    "from sklearn.model_selection import train_test_split\n",
    "from sklearn.neighbors import KNeighborsClassifier\n",
    "\n",
    "X = digitos.data\n",
    "y = digitos.target\n",
    "\n",
    "X_train, X_test, y_train, y_test = train_test_split(X, y, test_size = 0.45)"
   ]
  },
  {
   "cell_type": "code",
   "execution_count": 14,
   "metadata": {},
   "outputs": [
    {
     "data": {
      "text/plain": [
       "0.896168108776267"
      ]
     },
     "execution_count": 14,
     "metadata": {},
     "output_type": "execute_result"
    }
   ],
   "source": [
    "k_vecinos = KNeighborsClassifier(n_neighbors=95)\n",
    "\n",
    "k_vecinos.fit(X_train, y_train)\n",
    "\n",
    "k_vecinos.score(X_test, y_test)"
   ]
  },
  {
   "cell_type": "code",
   "execution_count": 11,
   "metadata": {},
   "outputs": [
    {
     "data": {
      "text/plain": [
       "array([  2,   3,   4,   7,  10,  16,  24,  37,  56,  86, 131, 200])"
      ]
     },
     "execution_count": 11,
     "metadata": {},
     "output_type": "execute_result"
    }
   ],
   "source": [
    "num_vecinos = np.geomspace(2, 200, 12).astype(int)\n",
    "num_vecinos"
   ]
  },
  {
   "cell_type": "code",
   "execution_count": 16,
   "metadata": {},
   "outputs": [
    {
     "name": "stdout",
     "output_type": "stream",
     "text": [
      "Para 2 vecinos. Precisión = 0.9765142150803461\n",
      "Para 3 vecinos. Precisión = 0.9826946847960445\n",
      "Para 4 vecinos. Precisión = 0.9765142150803461\n",
      "Para 7 vecinos. Precisión = 0.9765142150803461\n",
      "Para 10 vecinos. Precisión = 0.9703337453646477\n",
      "Para 16 vecinos. Precisión = 0.9629171817058096\n",
      "Para 24 vecinos. Precisión = 0.9567367119901112\n",
      "Para 37 vecinos. Precisión = 0.9468479604449939\n",
      "Para 56 vecinos. Precisión = 0.9221260815822002\n",
      "Para 86 vecinos. Precisión = 0.8974042027194067\n",
      "Para 131 vecinos. Precisión = 0.8788627935723115\n",
      "Para 200 vecinos. Precisión = 0.8479604449938195\n"
     ]
    }
   ],
   "source": [
    "for vecino in num_vecinos:\n",
    "    k_vecinos = KNeighborsClassifier(n_neighbors=vecino)\n",
    "    k_vecinos.fit(X_train, y_train)\n",
    "    print(f'Para {vecino} vecinos. Precisión = {k_vecinos.score(X_test, y_test)}')"
   ]
  },
  {
   "cell_type": "code",
   "execution_count": 17,
   "metadata": {},
   "outputs": [
    {
     "data": {
      "text/plain": [
       "{'n_neighbors': 3}"
      ]
     },
     "execution_count": 17,
     "metadata": {},
     "output_type": "execute_result"
    }
   ],
   "source": [
    "from sklearn.model_selection import RandomizedSearchCV\n",
    "\n",
    "parametros = {'n_neighbors': num_vecinos}\n",
    "\n",
    "modelo = KNeighborsClassifier()\n",
    "\n",
    "busqueda = RandomizedSearchCV(modelo, parametros, n_iter = 12, cv=5, n_jobs = -1)\n",
    "\n",
    "busqueda.fit(X_train, y_train)\n",
    "\n",
    "busqueda.best_params_"
   ]
  },
  {
   "cell_type": "code",
   "execution_count": 19,
   "metadata": {},
   "outputs": [
    {
     "data": {
      "text/html": [
       "<style>#sk-container-id-1 {color: black;background-color: white;}#sk-container-id-1 pre{padding: 0;}#sk-container-id-1 div.sk-toggleable {background-color: white;}#sk-container-id-1 label.sk-toggleable__label {cursor: pointer;display: block;width: 100%;margin-bottom: 0;padding: 0.3em;box-sizing: border-box;text-align: center;}#sk-container-id-1 label.sk-toggleable__label-arrow:before {content: \"▸\";float: left;margin-right: 0.25em;color: #696969;}#sk-container-id-1 label.sk-toggleable__label-arrow:hover:before {color: black;}#sk-container-id-1 div.sk-estimator:hover label.sk-toggleable__label-arrow:before {color: black;}#sk-container-id-1 div.sk-toggleable__content {max-height: 0;max-width: 0;overflow: hidden;text-align: left;background-color: #f0f8ff;}#sk-container-id-1 div.sk-toggleable__content pre {margin: 0.2em;color: black;border-radius: 0.25em;background-color: #f0f8ff;}#sk-container-id-1 input.sk-toggleable__control:checked~div.sk-toggleable__content {max-height: 200px;max-width: 100%;overflow: auto;}#sk-container-id-1 input.sk-toggleable__control:checked~label.sk-toggleable__label-arrow:before {content: \"▾\";}#sk-container-id-1 div.sk-estimator input.sk-toggleable__control:checked~label.sk-toggleable__label {background-color: #d4ebff;}#sk-container-id-1 div.sk-label input.sk-toggleable__control:checked~label.sk-toggleable__label {background-color: #d4ebff;}#sk-container-id-1 input.sk-hidden--visually {border: 0;clip: rect(1px 1px 1px 1px);clip: rect(1px, 1px, 1px, 1px);height: 1px;margin: -1px;overflow: hidden;padding: 0;position: absolute;width: 1px;}#sk-container-id-1 div.sk-estimator {font-family: monospace;background-color: #f0f8ff;border: 1px dotted black;border-radius: 0.25em;box-sizing: border-box;margin-bottom: 0.5em;}#sk-container-id-1 div.sk-estimator:hover {background-color: #d4ebff;}#sk-container-id-1 div.sk-parallel-item::after {content: \"\";width: 100%;border-bottom: 1px solid gray;flex-grow: 1;}#sk-container-id-1 div.sk-label:hover label.sk-toggleable__label {background-color: #d4ebff;}#sk-container-id-1 div.sk-serial::before {content: \"\";position: absolute;border-left: 1px solid gray;box-sizing: border-box;top: 0;bottom: 0;left: 50%;z-index: 0;}#sk-container-id-1 div.sk-serial {display: flex;flex-direction: column;align-items: center;background-color: white;padding-right: 0.2em;padding-left: 0.2em;position: relative;}#sk-container-id-1 div.sk-item {position: relative;z-index: 1;}#sk-container-id-1 div.sk-parallel {display: flex;align-items: stretch;justify-content: center;background-color: white;position: relative;}#sk-container-id-1 div.sk-item::before, #sk-container-id-1 div.sk-parallel-item::before {content: \"\";position: absolute;border-left: 1px solid gray;box-sizing: border-box;top: 0;bottom: 0;left: 50%;z-index: -1;}#sk-container-id-1 div.sk-parallel-item {display: flex;flex-direction: column;z-index: 1;position: relative;background-color: white;}#sk-container-id-1 div.sk-parallel-item:first-child::after {align-self: flex-end;width: 50%;}#sk-container-id-1 div.sk-parallel-item:last-child::after {align-self: flex-start;width: 50%;}#sk-container-id-1 div.sk-parallel-item:only-child::after {width: 0;}#sk-container-id-1 div.sk-dashed-wrapped {border: 1px dashed gray;margin: 0 0.4em 0.5em 0.4em;box-sizing: border-box;padding-bottom: 0.4em;background-color: white;}#sk-container-id-1 div.sk-label label {font-family: monospace;font-weight: bold;display: inline-block;line-height: 1.2em;}#sk-container-id-1 div.sk-label-container {text-align: center;}#sk-container-id-1 div.sk-container {/* jupyter's `normalize.less` sets `[hidden] { display: none; }` but bootstrap.min.css set `[hidden] { display: none !important; }` so we also need the `!important` here to be able to override the default hidden behavior on the sphinx rendered scikit-learn.org. See: https://github.com/scikit-learn/scikit-learn/issues/21755 */display: inline-block !important;position: relative;}#sk-container-id-1 div.sk-text-repr-fallback {display: none;}</style><div id=\"sk-container-id-1\" class=\"sk-top-container\"><div class=\"sk-text-repr-fallback\"><pre>KNeighborsClassifier(n_neighbors=3)</pre><b>In a Jupyter environment, please rerun this cell to show the HTML representation or trust the notebook. <br />On GitHub, the HTML representation is unable to render, please try loading this page with nbviewer.org.</b></div><div class=\"sk-container\" hidden><div class=\"sk-item\"><div class=\"sk-estimator sk-toggleable\"><input class=\"sk-toggleable__control sk-hidden--visually\" id=\"sk-estimator-id-1\" type=\"checkbox\" checked><label for=\"sk-estimator-id-1\" class=\"sk-toggleable__label sk-toggleable__label-arrow\">KNeighborsClassifier</label><div class=\"sk-toggleable__content\"><pre>KNeighborsClassifier(n_neighbors=3)</pre></div></div></div></div></div>"
      ],
      "text/plain": [
       "KNeighborsClassifier(n_neighbors=3)"
      ]
     },
     "execution_count": 19,
     "metadata": {},
     "output_type": "execute_result"
    }
   ],
   "source": [
    "busqueda.best_estimator_.predict()"
   ]
  },
  {
   "attachments": {},
   "cell_type": "markdown",
   "metadata": {},
   "source": [
    "## **CALIDAD EN PURIFICACIÓN DE MENA DE HIERRO**:\n",
    "\n",
    "Dataset **REAL** del proceso industrial de purificación de la mena de hierro. El objetivo es predecir la última columna a partir de los datos anteriores.\n",
    "\n",
    "Como dataset real, los datos pueden tener problemáticas varias tanto desde el aspecto de las frecuencias de medición temporal como de los propios datos recogidos. El preprocesado es clave.\n",
    "\n",
    "Descargad el dataset aquí:\n",
    "\n",
    "https://we.tl/t-nCbsErRlAE"
   ]
  },
  {
   "cell_type": "code",
   "execution_count": 2,
   "metadata": {},
   "outputs": [],
   "source": [
    "import numpy as np"
   ]
  },
  {
   "cell_type": "code",
   "execution_count": 3,
   "metadata": {},
   "outputs": [
    {
     "data": {
      "text/plain": [
       "{'DESCR': '\\n\\nThe main goal is to use this data to predict how much impurity is in the ore concentrate. As this impurity is measured every hour, if we can predict how much silica (impurity) is in the ore concentrate, we can help the engineers, giving them early information to take actions (empowering!). Hence, they will be able to take corrective actions in advance (reduce impurity, if it is the case) and also help the environment (reducing the amount of ore that goes to tailings as you reduce silica in the ore concentrate).\\n\\nContent\\nThe first column shows time and date range (from march of 2017 until september of 2017). Some columns were sampled every 20 second. Others were sampled on a hourly base.\\n\\nThe second and third columns are quality measures of the iron ore pulp right before it is fed into the flotation plant. Column 4 until column 8 are the most important variables that impact in the ore quality in the end of the process. From column 9 until column 22, we can see process data (level and air flow inside the flotation columns, which also impact in ore quality. The last two columns are the final iron ore pulp quality measurement from the lab.\\nTarget is to predict the last column, which is the % of silica in the iron ore concentrate.\\n\\nColumns:\\n\\ndate: Date and time range\\n\\n% Iron Feed: Iron feed to the process (from 0 to 100) [INPUT]\\n\\n% Silica Feed: Silica feed to the process (from 0 to 100) [INPUT]\\n\\nStarch Flow: Starch flow to the process in m3/h [INPUT]\\n\\nAmina Flow: Amina flow to the process in m3/h [INPUT]\\n\\nOre Pulp Flow: Ore pulp flow to the process in t/h.\\n\\nOre Pulp pH: Ore Pulp pH measurement.\\n\\nOre Pulp Density: Ore Pulp density measurement.\\n\\nFlotation Columns: Air flow and level of measurements.\\n\\n% Iron Concentrate: Iron Concentrate produced by the Flotation process (from 0 to 100) [OUTPUT]\\n\\n% Silica Concentrate: Silica Concentrate produced by the Flotation process (from 0 to 100) [OUTPUT]\\n\\nObjetctive: Predict Silica Concentrate (Column 22) from column 1 to 21.\\n',\n",
       " 'df':                        date % Iron Feed % Silica Feed Starch Flow Amina Flow   \n",
       " 0       2017-03-10 01:00:00        55,2         16,98     3019,53    557,434  \\\n",
       " 1       2017-03-10 01:00:00        55,2         16,98     3024,41    563,965   \n",
       " 2       2017-03-10 01:00:00        55,2         16,98     3043,46    568,054   \n",
       " 3       2017-03-10 01:00:00        55,2         16,98     3047,36    568,665   \n",
       " 4       2017-03-10 01:00:00        55,2         16,98     3033,69    558,167   \n",
       " ...                     ...         ...           ...         ...        ...   \n",
       " 737448  2017-09-09 23:00:00       49,75          23,2     2710,94    441,052   \n",
       " 737449  2017-09-09 23:00:00       49,75          23,2     2692,01    473,436   \n",
       " 737450  2017-09-09 23:00:00       49,75          23,2      2692,2    500,488   \n",
       " 737451  2017-09-09 23:00:00       49,75          23,2     1164,12    491,548   \n",
       " 737452  2017-09-09 23:00:00       49,75          23,2     1164,12    468,019   \n",
       " \n",
       "        Ore Pulp Flow Ore Pulp pH Ore Pulp Density   \n",
       " 0            395,713     10,0664             1,74  \\\n",
       " 1            397,383     10,0672             1,74   \n",
       " 2            399,668      10,068             1,74   \n",
       " 3            397,939     10,0689             1,74   \n",
       " 4            400,254     10,0697             1,74   \n",
       " ...              ...         ...              ...   \n",
       " 737448        386,57     9,62129          1,65365   \n",
       " 737449       384,939     9,62063          1,65352   \n",
       " 737450       383,496     9,61874          1,65338   \n",
       " 737451       384,976     9,61686          1,65324   \n",
       " 737452       384,801     9,61497           1,6531   \n",
       " \n",
       "        Flotation Column 01 Air Flow Flotation Column 02 Air Flow  ...   \n",
       " 0                           249,214                      253,235  ...  \\\n",
       " 1                           249,719                      250,532  ...   \n",
       " 2                           249,741                      247,874  ...   \n",
       " 3                           249,917                      254,487  ...   \n",
       " 4                           250,203                      252,136  ...   \n",
       " ...                             ...                          ...  ...   \n",
       " 737448                      302,344                      298,786  ...   \n",
       " 737449                      303,013                      301,879  ...   \n",
       " 737450                      303,662                      307,397  ...   \n",
       " 737451                       302,55                      301,959  ...   \n",
       " 737452                      300,355                      292,865  ...   \n",
       " \n",
       "        Flotation Column 07 Air Flow Flotation Column 01 Level   \n",
       " 0                           250,884                   457,396  \\\n",
       " 1                           248,994                   451,891   \n",
       " 2                           248,071                    451,24   \n",
       " 3                           251,147                   452,441   \n",
       " 4                           248,928                   452,441   \n",
       " ...                             ...                       ...   \n",
       " 737448                      313,695                    392,16   \n",
       " 737449                        236,7                   401,505   \n",
       " 737450                      225,879                   408,899   \n",
       " 737451                      308,115                   405,107   \n",
       " 737452                      308,115                   413,754   \n",
       " \n",
       "        Flotation Column 02 Level Flotation Column 03 Level   \n",
       " 0                        432,962                   424,954  \\\n",
       " 1                         429,56                   432,939   \n",
       " 2                        468,927                    434,61   \n",
       " 3                        458,165                   442,865   \n",
       " 4                          452,9                   450,523   \n",
       " ...                          ...                       ...   \n",
       " 737448                   430,702                   872,008   \n",
       " 737449                   404,616                   864,409   \n",
       " 737450                   399,316                   867,598   \n",
       " 737451                   466,832                   876,591   \n",
       " 737452                   514,143                   881,323   \n",
       " \n",
       "        Flotation Column 04 Level Flotation Column 05 Level   \n",
       " 0                        443,558                   502,255  \\\n",
       " 1                        448,086                   496,363   \n",
       " 2                        449,688                   484,411   \n",
       " 3                         446,21                   471,411   \n",
       " 4                         453,67                   462,598   \n",
       " ...                          ...                       ...   \n",
       " 737448                   418,725                   497,548   \n",
       " 737449                   418,377                   506,398   \n",
       " 737450                   419,531                   503,414   \n",
       " 737451                   407,299                   502,301   \n",
       " 737452                   378,969                     500,1   \n",
       " \n",
       "        Flotation Column 06 Level Flotation Column 07 Level % Iron Concentrate   \n",
       " 0                         446,37                   523,344              66,91  \\\n",
       " 1                        445,922                   498,075              66,91   \n",
       " 2                        447,826                   458,567              66,91   \n",
       " 3                         437,69                   427,669              66,91   \n",
       " 4                        443,682                   425,679              66,91   \n",
       " ...                          ...                       ...                ...   \n",
       " 737448                   446,357                   416,892              64,27   \n",
       " 737449                   372,995                   426,337              64,27   \n",
       " 737450                   336,035                    433,13              64,27   \n",
       " 737451                   340,844                   433,966              64,27   \n",
       " 737452                   374,354                   441,182              64,27   \n",
       " \n",
       "        % Silica Concentrate  \n",
       " 0                      1,31  \n",
       " 1                      1,31  \n",
       " 2                      1,31  \n",
       " 3                      1,31  \n",
       " 4                      1,31  \n",
       " ...                     ...  \n",
       " 737448                 1,71  \n",
       " 737449                 1,71  \n",
       " 737450                 1,71  \n",
       " 737451                 1,71  \n",
       " 737452                 1,71  \n",
       " \n",
       " [737453 rows x 24 columns]}"
      ]
     },
     "execution_count": 3,
     "metadata": {},
     "output_type": "execute_result"
    }
   ],
   "source": [
    "# Si guardáis los datos en el mismo directorio que el notebook, podéis cargarlos así:\n",
    "np.load('./mining_quality.npy',allow_pickle='TRUE').item()"
   ]
  },
  {
   "cell_type": "code",
   "execution_count": null,
   "metadata": {},
   "outputs": [],
   "source": []
  }
 ],
 "metadata": {
  "kernelspec": {
   "display_name": "courses",
   "language": "python",
   "name": "python3"
  },
  "language_info": {
   "codemirror_mode": {
    "name": "ipython",
    "version": 3
   },
   "file_extension": ".py",
   "mimetype": "text/x-python",
   "name": "python",
   "nbconvert_exporter": "python",
   "pygments_lexer": "ipython3",
   "version": "3.10.10"
  },
  "orig_nbformat": 4
 },
 "nbformat": 4,
 "nbformat_minor": 2
}
