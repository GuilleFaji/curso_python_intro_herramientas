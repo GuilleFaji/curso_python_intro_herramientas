{
 "cells": [
  {
   "attachments": {},
   "cell_type": "markdown",
   "metadata": {},
   "source": [
    "# **7.4 KNN y K-Means:**\n",
    "\n",
    "Algoritmos muy utilizado de clasificación"
   ]
  },
  {
   "cell_type": "code",
   "execution_count": 2,
   "metadata": {},
   "outputs": [],
   "source": [
    "import sklearn\n",
    "import pandas as pd \n",
    "import numpy as np\n",
    "import matplotlib.pyplot as plt"
   ]
  },
  {
   "attachments": {},
   "cell_type": "markdown",
   "metadata": {},
   "source": [
    "## **A - KNN:**"
   ]
  },
  {
   "attachments": {},
   "cell_type": "markdown",
   "metadata": {},
   "source": [
    "<font size = 5> \n",
    "\n",
    "KNN parte de **datos etiquetados** para asignar nuevos datos a un grupo en función de su **cercanía** en el espacio vectorial de las características.\n",
    "\n",
    "<center><img src=\"./imgs/knn.png\" width='60%' height='60%'>"
   ]
  },
  {
   "attachments": {},
   "cell_type": "markdown",
   "metadata": {},
   "source": [
    "<font size = 5> \n",
    "\n",
    "Su aplicación en SKLEARN es trivial, usamos *'sklearn.neigbors.KNeigborsClassifier()'*\n",
    "\n",
    "**Este clasificador  requiere un parámetro *n_neighbors* que por defecto se sitúa en 5**\n",
    "\n",
    "**Por la forma esencial que tiene de funcionar, este algoritmo indirectamente nos pone restricciones a nuestros datasets. ¿Se te ocurre alguna?**"
   ]
  },
  {
   "cell_type": "code",
   "execution_count": null,
   "metadata": {},
   "outputs": [],
   "source": [
    "X = [[0], [1], [2], [3]]\n",
    "y = [0, 0, 1, 1]\n",
    "from sklearn.neighbors import KNeighborsClassifier\n",
    "neigh = KNeighborsClassifier(n_neighbors=3)\n",
    "neigh.fit(X, y)"
   ]
  },
  {
   "attachments": {},
   "cell_type": "markdown",
   "metadata": {},
   "source": [
    "## **K-MEANS:**"
   ]
  },
  {
   "attachments": {},
   "cell_type": "markdown",
   "metadata": {},
   "source": [
    "<center><img src=\"./imgs/k_means.png\">"
   ]
  },
  {
   "attachments": {},
   "cell_type": "markdown",
   "metadata": {},
   "source": [
    "<font size = 5> \n",
    "\n",
    "**K-MEANS** parte de **datos no etiquetados** para asignar nuevos datos a un grupo en función de su **cercanía** en el espacio vectorial de las características.\n",
    "\n",
    "El algoritmo K-Means es un método de aprendizaje **no supervisado** utilizado para agrupar datos. Dado un número de grupos:\n",
    "\n",
    "* Inicializa centroides **aleatoriamente** en el espacio de características. Cada centroide representa el centro de un grupo.\n",
    "\n",
    "* Asignar cada punto de datos al centroide más cercano utilizando la distancia (euclidiana, coseno, etc...)\n",
    "\n",
    "* Recalcula los centroides de cada grupo con la media de todos los puntos de datos asignados a ese grupo. Esto mueve el centroide hacia la ubicación promedio de los puntos de datos en ese grupo.\n",
    "\n",
    "* Repite los pasos 3 y 4 hasta que los centroides ya no cambien significativamente."
   ]
  },
  {
   "cell_type": "code",
   "execution_count": 6,
   "metadata": {},
   "outputs": [
    {
     "name": "stdout",
     "output_type": "stream",
     "text": [
      "[[10.  2.]\n",
      " [ 1.  2.]]\n"
     ]
    },
    {
     "data": {
      "text/plain": [
       "array([1, 0])"
      ]
     },
     "execution_count": 6,
     "metadata": {},
     "output_type": "execute_result"
    }
   ],
   "source": [
    "from sklearn.cluster import KMeans\n",
    "\n",
    "X = np.array([[1, 2], [1, 4], [1, 0], [10, 2], [10, 4], [10, 0]])\n",
    "\n",
    "kmeans = KMeans(n_clusters=2, random_state=0, n_init=\"auto\").fit(X)\n",
    "\n",
    "print(kmeans.cluster_centers_)\n",
    "kmeans.predict([[0, 0], [12, 3]])\n",
    "\n"
   ]
  },
  {
   "attachments": {},
   "cell_type": "markdown",
   "metadata": {},
   "source": [
    "<font size = 5> \n",
    "\n",
    "La inicialización aleatoria resta robustez al método, que es susceptible de caer en soluciones no óptimas en función de dónde se inicialicen los centroides. Es por esto que [**se han desarrollado implementaciones más robustas de inicialización**](https://github.com/patchy631/machine-learning/blob/main/ml_from_scratch/KMeans%2B%2B.ipynb).\n",
    "\n",
    "Sin embargo, **esta metodología ya está implantada en SKLEARN y es la que se usa por defecto**, por lo que ya la tenéis disponible automáticamente.\n"
   ]
  },
  {
   "attachments": {},
   "cell_type": "markdown",
   "metadata": {},
   "source": []
  }
 ],
 "metadata": {
  "kernelspec": {
   "display_name": "courses",
   "language": "python",
   "name": "python3"
  },
  "language_info": {
   "codemirror_mode": {
    "name": "ipython",
    "version": 3
   },
   "file_extension": ".py",
   "mimetype": "text/x-python",
   "name": "python",
   "nbconvert_exporter": "python",
   "pygments_lexer": "ipython3",
   "version": "3.10.10"
  },
  "orig_nbformat": 4
 },
 "nbformat": 4,
 "nbformat_minor": 2
}
