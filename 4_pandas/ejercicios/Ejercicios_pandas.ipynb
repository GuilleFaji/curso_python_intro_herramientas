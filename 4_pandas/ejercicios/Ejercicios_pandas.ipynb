{
 "cells": [
  {
   "attachments": {},
   "cell_type": "markdown",
   "metadata": {},
   "source": [
    "# Ejercicios Pandas:"
   ]
  },
  {
   "cell_type": "code",
   "execution_count": null,
   "metadata": {},
   "outputs": [],
   "source": [
    "import pandas as pd\n",
    "import numpy as np"
   ]
  },
  {
   "attachments": {},
   "cell_type": "markdown",
   "metadata": {},
   "source": [
    "## Ejercicios Base:"
   ]
  },
  {
   "attachments": {},
   "cell_type": "markdown",
   "metadata": {},
   "source": [
    "### **1**  Crea un dataframe a partir del diccionario, usando la lista como índice."
   ]
  },
  {
   "cell_type": "code",
   "execution_count": null,
   "metadata": {},
   "outputs": [],
   "source": []
  },
  {
   "cell_type": "code",
   "execution_count": null,
   "metadata": {},
   "outputs": [],
   "source": []
  },
  {
   "attachments": {},
   "cell_type": "markdown",
   "metadata": {},
   "source": [
    "#### **1.A**  Muestra una descripción de los datos."
   ]
  },
  {
   "cell_type": "code",
   "execution_count": null,
   "metadata": {},
   "outputs": [],
   "source": []
  },
  {
   "cell_type": "code",
   "execution_count": null,
   "metadata": {},
   "outputs": [],
   "source": []
  },
  {
   "attachments": {},
   "cell_type": "markdown",
   "metadata": {},
   "source": [
    "#### **1.B** Muestra las columnas Animal y Age usando .loc() y .iloc()"
   ]
  },
  {
   "cell_type": "code",
   "execution_count": null,
   "metadata": {},
   "outputs": [],
   "source": []
  },
  {
   "attachments": {},
   "cell_type": "markdown",
   "metadata": {},
   "source": [
    "#### **1.C** Elimina la columna 'visits' sin crear un nuevo DF"
   ]
  },
  {
   "cell_type": "code",
   "execution_count": null,
   "metadata": {},
   "outputs": [],
   "source": []
  },
  {
   "attachments": {},
   "cell_type": "markdown",
   "metadata": {},
   "source": [
    "#### **1.D** Elimina la fila c."
   ]
  },
  {
   "cell_type": "code",
   "execution_count": null,
   "metadata": {},
   "outputs": [],
   "source": []
  },
  {
   "attachments": {},
   "cell_type": "markdown",
   "metadata": {},
   "source": [
    "#### **1.E** Crea una nueva columna con valores enteros ordenados (1,2, ...) para cada fila."
   ]
  },
  {
   "cell_type": "code",
   "execution_count": null,
   "metadata": {},
   "outputs": [],
   "source": []
  },
  {
   "attachments": {},
   "cell_type": "markdown",
   "metadata": {},
   "source": [
    "#### **1.F** Crea una nueva columna donde los valores sean el nombre del animal al revés."
   ]
  },
  {
   "cell_type": "code",
   "execution_count": null,
   "metadata": {},
   "outputs": [],
   "source": []
  },
  {
   "attachments": {},
   "cell_type": "markdown",
   "metadata": {},
   "source": [
    "### **2** En *bikes.csv* encontrarás información agregada por horas de un sistema de alquiler de bicicletas (parecido al servicio BiciMad). \n",
    "\n",
    "Las variables del  dataset   son las siguientes:  \n",
    "\n",
    "- date:  fecha (en formato yyyy­mm­dd).  \n",
    "- season:  estación del año. Los valores son:  \n",
    "    o\t1 (winter)  \n",
    "    o\t2 (spring)  \n",
    "    o\t3 (summer)  \n",
    "    o\t4 (fall)  \n",
    "- hour:  la hora del día (0 a 23).  \n",
    "- is.holiday:  1 si es día festivo, 0 en caso contrario.  \n",
    "- weekday:  día de la semana. Los valores son:  \n",
    "o\t0 (Sunday)  \n",
    "o\t1 (Monday)  \n",
    "o\t2 (Tuesday)  \n",
    "o\t3 (Wednesday)  \n",
    "o\t4 (Thursday)  \n",
    "o\t5 (Friday)  \n",
    "o\t6 (Saturday)  \n",
    "- is.workingday:  si el día no es ni fin de semana ni vacaciones 1, en caso contrario 0.  \n",
    "- weathersit:  variable categórica con los siguientes valores:  \n",
    "o\t1: Clear, Few clouds, Partly cloudy, cloudy  \n",
    "o\t2: Mist + Cloudy, Mist + Broken clouds, Mist + Few clouds, Mist  \n",
    "o\t3: Light Snow, Light Rain + Thunderstorm + Scattered clouds, Light Rain + Scattered clouds  \n",
    "o\t4: Heavy Rain + Ice Pallets + Thunderstorm + Mist, Snow + Fog  \n",
    "- temp:  temperatura en grados Celsius.  \n",
    "- atemp:  sensación térmica en grados Celsius.  \n",
    "- hum:  humedad.  \n",
    "- windspeed:  velocidad del viento.  \n",
    "- casual:  número de alquileres de usuarios no registrados en el servicio.  \n",
    "- registered:  número de alquileres de usuarios registrados en el servicio. \n",
    "\n",
    "Carga el csv y asegúrate que es un dataframe"
   ]
  },
  {
   "cell_type": "code",
   "execution_count": null,
   "metadata": {},
   "outputs": [],
   "source": []
  },
  {
   "attachments": {},
   "cell_type": "markdown",
   "metadata": {},
   "source": [
    "#### **2.A** Calcula en una *Serie* el número medio de usuarios por día de la semana:\n",
    "\n",
    "* Usando un bucle\n",
    "\n",
    "* Usando groupby"
   ]
  },
  {
   "cell_type": "code",
   "execution_count": null,
   "metadata": {},
   "outputs": [],
   "source": []
  },
  {
   "cell_type": "code",
   "execution_count": null,
   "metadata": {},
   "outputs": [],
   "source": []
  },
  {
   "attachments": {},
   "cell_type": "markdown",
   "metadata": {},
   "source": [
    "#### **2.B** ¿Qué día hubo más alquileres casuales?:"
   ]
  },
  {
   "cell_type": "code",
   "execution_count": null,
   "metadata": {},
   "outputs": [],
   "source": []
  },
  {
   "cell_type": "code",
   "execution_count": null,
   "metadata": {},
   "outputs": [],
   "source": []
  },
  {
   "attachments": {},
   "cell_type": "markdown",
   "metadata": {},
   "source": [
    "#### **2.C** Muestra las temp. máximas de cada estación, haz un plot apropiado para dicha info y muestra por pantalla las temperaturas ordenadas de mayor a menor:"
   ]
  },
  {
   "cell_type": "code",
   "execution_count": null,
   "metadata": {},
   "outputs": [],
   "source": []
  },
  {
   "attachments": {},
   "cell_type": "markdown",
   "metadata": {},
   "source": [
    "#### **2.D** Muestra ahora la media de usuarios por hora en función de si es día laborable o no. Haz un plot donde se muestre en gráficas separadas este aspecto. "
   ]
  },
  {
   "cell_type": "code",
   "execution_count": null,
   "metadata": {},
   "outputs": [],
   "source": []
  },
  {
   "attachments": {},
   "cell_type": "markdown",
   "metadata": {},
   "source": [
    "#### **2.E** Para todos los lunes festivos calcular el total de alquileres y la temp, humedad y velocidad del viento media, mínima y máxima. Hacer plots donde se muestren estos datos:"
   ]
  },
  {
   "cell_type": "code",
   "execution_count": null,
   "metadata": {},
   "outputs": [],
   "source": []
  },
  {
   "cell_type": "code",
   "execution_count": null,
   "metadata": {},
   "outputs": [],
   "source": []
  },
  {
   "attachments": {},
   "cell_type": "markdown",
   "metadata": {},
   "source": [
    "#### **2.F** Muestra en gráficos la comparativa de los viajeros totales por día frente a temperatura, viento y humedad:"
   ]
  },
  {
   "cell_type": "code",
   "execution_count": null,
   "metadata": {},
   "outputs": [],
   "source": []
  },
  {
   "cell_type": "code",
   "execution_count": null,
   "metadata": {},
   "outputs": [],
   "source": []
  },
  {
   "cell_type": "code",
   "execution_count": null,
   "metadata": {},
   "outputs": [],
   "source": []
  },
  {
   "cell_type": "code",
   "execution_count": null,
   "metadata": {},
   "outputs": [],
   "source": []
  },
  {
   "attachments": {},
   "cell_type": "markdown",
   "metadata": {},
   "source": [
    "#### **2.G** Utiliza el método apply para cambiar la columna 'is.holiday' de tal forma que 0 = 'L' (laborable) y 1 = 'F' (festivo). Intenta hacerlo sin el método apply e intenta usar la librería joblib."
   ]
  },
  {
   "attachments": {},
   "cell_type": "markdown",
   "metadata": {},
   "source": [
    "**BONUS APPLY**: Podemos aplicar directamente multiproceso al método apply por medio de la [librería pandarallel](https://github.com/nalepae/pandarallel).\n",
    "\n",
    "* Usamos '!pip install pandarallel --upgrade --user'\n",
    "\n",
    "* En nuestros import incluimos:\n",
    "\n",
    "```\n",
    "    from pandarallel import pandarallel\n",
    "\n",
    "    pandarallel.initialize(progress_bar=True)\n",
    "```\n",
    "\n",
    "* Cuando apliquemos '.apply' simplemente lo sustituimos por '.parallel_apply'\n",
    "\n",
    "Esta librería no es la panacea pero es extremadamente sencilla de utilizar.\n"
   ]
  },
  {
   "attachments": {},
   "cell_type": "markdown",
   "metadata": {},
   "source": [
    "**BONUS Proc. Paralelo**: Otra librería que requiere una sintaxis propia pero es mucho más potente es [**joblib**](https://joblib.readthedocs.io/en/latest/parallel.html)\n",
    "\n",
    "Su sintaxis sigue este formato:\n",
    "\n",
    "lista_resultado = Parallel(n_jobs=*'Nº Hilos de procesamiento'*)(delayed(*'FUNCIÓN'*)(*'PARÁMETROS'*) *'BUCLE DE PROCESAMIENTO'*)\n",
    "\n",
    "Ejemplo: Función que devuelve la raíz cuadrada de los números del 1 al 10 al cuadrado. Es decir, devuelve los propios números del 1 al 10:\n",
    "```\n",
    "Parallel(n_jobs=2)(delayed(sqrt)(i ** 2) for i in range(10))\n",
    "```\n",
    "\n"
   ]
  },
  {
   "cell_type": "code",
   "execution_count": null,
   "metadata": {},
   "outputs": [],
   "source": []
  },
  {
   "cell_type": "code",
   "execution_count": null,
   "metadata": {},
   "outputs": [],
   "source": []
  },
  {
   "cell_type": "code",
   "execution_count": null,
   "metadata": {},
   "outputs": [],
   "source": []
  },
  {
   "cell_type": "code",
   "execution_count": null,
   "metadata": {},
   "outputs": [],
   "source": []
  },
  {
   "attachments": {},
   "cell_type": "markdown",
   "metadata": {},
   "source": [
    "## Titanic:"
   ]
  },
  {
   "cell_type": "code",
   "execution_count": null,
   "metadata": {},
   "outputs": [],
   "source": []
  },
  {
   "attachments": {},
   "cell_type": "markdown",
   "metadata": {},
   "source": [
    "El dataset train.csv contiene datos del accidente que sufrió el Titanic en la noche del 14 de abril de 1912. \n",
    "\n",
    "Las variables que contiene son las siguientes:\n",
    "\n",
    "-\tPassengerid: Nº identificador de cada pasajero.\n",
    "-\tSurvived: 1 o 0 para indicar si sobrevivió o no.\n",
    "-\tPclass: A qué categoría pertenecía el pasajero 1ª a 3ª\n",
    "-\tName\n",
    "-\tSex\n",
    "-\tAge\n",
    "-\tFare: Precio del billete en dólares.\n",
    "-\tCabin: Cabina en la que se alojaba el pasajero.\n",
    "-\tEmbarked: En qué puerto embarcó."
   ]
  },
  {
   "attachments": {},
   "cell_type": "markdown",
   "metadata": {},
   "source": [
    "# Ejercicio 1\n",
    "-\tCarga el set de datos en una variable llamada \"titanic\"\n",
    "\n",
    "-\tObtén el número de filas y columnas incluidas en el set de datos. \n",
    "\n",
    "\n",
    "\n",
    "-\tObtén las primeras 10 observaciones para ver qué pinta tienen.\n",
    "\n",
    "\n",
    "\n",
    "-\tObtén el listado de variables incluidas en el set de datos y sus tipos.\n",
    "\n",
    "\n",
    "-\tObtén la distribución de las variables categóricas (sex, embarked, survived, pclass) del set de datos.\n",
    "  Es decir, valores únicos / valores totales. \n",
    "\n",
    "\n",
    "\n",
    "\n",
    "-\tObtén los estadísticos básicos de las variables del set de datos."
   ]
  },
  {
   "cell_type": "code",
   "execution_count": null,
   "metadata": {},
   "outputs": [],
   "source": []
  },
  {
   "attachments": {},
   "cell_type": "markdown",
   "metadata": {},
   "source": [
    "# Ejercicio 2\n",
    "\n",
    "-\tIndica en qué variables hay valores con NA, NULL o vacíos \"\" y cuál es su proporción dentro de la variable.\n",
    "\n",
    "-\tImputa la media del valor de la variable en el caso de las numéricas y \"No disponible\" en el caso de string.\n",
    "\n",
    "-\tVuelve a comprobar la existencia de NAs y NULL para verificar que los has eliminado.\n",
    "\n",
    "\n"
   ]
  },
  {
   "cell_type": "code",
   "execution_count": null,
   "metadata": {},
   "outputs": [],
   "source": []
  },
  {
   "attachments": {},
   "cell_type": "markdown",
   "metadata": {},
   "source": [
    "# Ejercicio 3\n",
    "-\t¿Fallecieron más mujeres u hombres? (Cuánto en porcentaje sobre el total de su género).\n",
    "\n",
    "\n",
    "\n",
    "-\t¿Qué clase de pasajeros (primera, segunda o tercera) sobrevivió más? Quiero que el resultado de, únicamente, \n",
    "el porcentaje y la clase que más sobrevivió (no el porcentaje de las 3 clases).\n",
    "\n",
    "\n",
    "\n",
    "-\t¿Cuál fue la edad media y máxima de los supervivientes en cada una de las clases?\n"
   ]
  },
  {
   "cell_type": "code",
   "execution_count": null,
   "metadata": {},
   "outputs": [],
   "source": []
  },
  {
   "attachments": {},
   "cell_type": "markdown",
   "metadata": {},
   "source": [
    "# Ejercicio 4\n",
    "-\t¿Cuál de los puertos de embarque es el que tiene la media de precio de billete más barata?\n",
    "Indica solo ese puerto, no una lista con todos.\n",
    "\n",
    "\n",
    "-\t¿Qué correlación hay entre la longitud del nombre de un pasajero y el importe de su billete?\n",
    "No modifiques el nombre del pasajero para hacer el cálculo (úsalo tal y como venga)."
   ]
  },
  {
   "cell_type": "code",
   "execution_count": null,
   "metadata": {},
   "outputs": [],
   "source": []
  },
  {
   "attachments": {},
   "cell_type": "markdown",
   "metadata": {},
   "source": [
    "# Ejercicio 5\n",
    "-\tObtén los nombres de los pasajeros que no sobrevivieron y el precio de su billete está en el decil superior.\n",
    "\n",
    "\n",
    "-\t¿En qué cabina deberías alojarte para tener una mayor probabilidad de sobrevivir siendo hombre de entre 30 y 40 años?\n",
    "Indica una única cabina.\n"
   ]
  }
 ],
 "metadata": {
  "kernelspec": {
   "display_name": "Python 3.9.12 ('base')",
   "language": "python",
   "name": "python3"
  },
  "language_info": {
   "codemirror_mode": {
    "name": "ipython",
    "version": 3
   },
   "file_extension": ".py",
   "mimetype": "text/x-python",
   "name": "python",
   "nbconvert_exporter": "python",
   "pygments_lexer": "ipython3",
   "version": "3.10.10"
  },
  "orig_nbformat": 4,
  "vscode": {
   "interpreter": {
    "hash": "18a6b418ca989a304418b74e14b57df096d22507d5bd0d85ac6f17ef362aab2d"
   }
  }
 },
 "nbformat": 4,
 "nbformat_minor": 2
}
