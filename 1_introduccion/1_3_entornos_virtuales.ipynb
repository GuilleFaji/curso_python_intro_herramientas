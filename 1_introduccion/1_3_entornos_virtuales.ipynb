{
 "cells": [
  {
   "cell_type": "markdown",
   "metadata": {},
   "source": [
    "# Estructura de Python\n",
    "<center>\n",
    "<img src=\"./imgs/scipy_ecosystem.png\"  alt=\"drawing\" width=\"75%\"/>\n",
    "</center>"
   ]
  },
  {
   "cell_type": "markdown",
   "metadata": {},
   "source": [
    "# ¿Qué son los entornos virtuales?"
   ]
  },
  {
   "cell_type": "markdown",
   "metadata": {},
   "source": [
    "\n",
    "- Los entornos virtuales son nuestros espacio de trabajo\n",
    "- Como buena práctica se suele tener un entorno por cada proyecto que se quiera desarrollar\n",
    "<center>\n",
    "<img src=\"./imgs/venv_2.png\"  alt=\"drawing\" width=\"60%\"/>\n",
    "</center>\n",
    "\n",
    "## ¿Cómo se crea un entorno virtual en python?\n",
    "- En realidad es muy sencillo tan solo hay que usar el siguiente código en una terminal:\n",
    "    - *python -m venv \\<nombre del entorno virtual\\>*\n",
    "- Se ejecuta de diferentes formas dependiendo del sistema en el que nos encontremos, eso lo veremos más adelante.\n",
    "- Sin embargo, es más práctico, intuitivo y fácil utilizar las facilidades que nos proporciona el paquete de **Anaconda**.\n",
    "    - Para ello abriremos el **Anaconda Navigator**, iremos a la sección *Environments* y le daremos al botón *CREATE*\n",
    "<center>\n",
    "<img src=\"./imgs/anaconda_venv.png\"  alt=\"drawing\" width=\"60%\"/>\n",
    "</center>"
   ]
  },
  {
   "cell_type": "markdown",
   "metadata": {},
   "source": [
    " * Si en windows existieran problemas de permisos ejecutar en una termial con permisos de administración los siguientes comandos:\n",
    "  \n",
    "  get-ExecutionPolicy\n",
    "  \n",
    "  \n",
    "  Set-ExecutionPolicy Unrestricted"
   ]
  },
  {
   "cell_type": "code",
   "execution_count": null,
   "metadata": {},
   "outputs": [],
   "source": []
  }
 ],
 "metadata": {
  "kernelspec": {
   "display_name": "Python 3 (ipykernel)",
   "language": "python",
   "name": "python3"
  },
  "language_info": {
   "codemirror_mode": {
    "name": "ipython",
    "version": 3
   },
   "file_extension": ".py",
   "mimetype": "text/x-python",
   "name": "python",
   "nbconvert_exporter": "python",
   "pygments_lexer": "ipython3",
   "version": "3.10.10"
  },
  "vscode": {
   "interpreter": {
    "hash": "3a2a03ea413f8be244ba01daf0e257f98f0dabeb03c7836e7000a0f3738aa8c9"
   }
  }
 },
 "nbformat": 4,
 "nbformat_minor": 4
}
