{
 "cells": [
  {
   "cell_type": "markdown",
   "metadata": {},
   "source": [
    "# IDE"
   ]
  },
  {
   "cell_type": "markdown",
   "metadata": {},
   "source": [
    "## ¿Qué es un ide?\n",
    "- IDE son las siglas de Integrated Development Enviroment, es decir, donde vamos a programar. Por lo general tienen ayudar visuales para identificar las funciones, variables .....etc\n",
    "- En general se usan para programar de forma más sencilla\n",
    "- En este curso el IDE que usaremos será  **Visual Studio Code**, pero existen muchos más.\n",
    "<center>\n",
    "<img src=\"./imgs/jupyter_lab_1.png\"  alt=\"drawing\" width=\"90%\"/>\n",
    "</center>"
   ]
  },
  {
   "cell_type": "markdown",
   "metadata": {},
   "source": [
    "### Aquí os dejamos unos cuantos IDEs.\n",
    "- [**Visual Studio Code**](https://code.visualstudio.com/)\n",
    "<center>\n",
    "<img src=\"./imgs/code_1.png\"  alt=\"drawing\" width=\"90%\"/>\n",
    "</center>\n",
    "\n",
    "- Spyder\n",
    "<center>\n",
    "<img src=\"./imgs/spyder_1.png\"  alt=\"drawing\" width=\"90%\"/>\n",
    "</center>\n",
    "\n",
    "- Pycharm\n",
    "<center>\n",
    "<img src=\"./imgs/pycharm_1.png\"  alt=\"drawing\" width=\"90%\"/>\n",
    "</center>\n",
    "\n",
    "- Atom\n",
    "<center>\n",
    "<img src=\"./imgs/atom_1.png\"  alt=\"drawing\" width=\"90%\"/>\n",
    "</center>"
   ]
  },
  {
   "cell_type": "code",
   "execution_count": null,
   "metadata": {},
   "outputs": [],
   "source": []
  }
 ],
 "metadata": {
  "kernelspec": {
   "display_name": "Python 3 (ipykernel)",
   "language": "python",
   "name": "python3"
  },
  "language_info": {
   "codemirror_mode": {
    "name": "ipython",
    "version": 3
   },
   "file_extension": ".py",
   "mimetype": "text/x-python",
   "name": "python",
   "nbconvert_exporter": "python",
   "pygments_lexer": "ipython3",
   "version": "3.10.10"
  },
  "vscode": {
   "interpreter": {
    "hash": "3a2a03ea413f8be244ba01daf0e257f98f0dabeb03c7836e7000a0f3738aa8c9"
   }
  }
 },
 "nbformat": 4,
 "nbformat_minor": 4
}
